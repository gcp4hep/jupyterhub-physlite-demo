{
 "cells": [
  {
   "cell_type": "markdown",
   "id": "68a6712b-1df1-4818-b56b-36118d86a4f2",
   "metadata": {},
   "source": [
    "# Demo: `DAOD_PHYSLITE` analysis with uproot/awkward on jupyterhub on GCP\n",
    "\n",
    "<div class=\"alert alert-info\">\n",
    "Note: This tutorial is targeted at users interested in R&D and technical details. Much of this is still in early development/prototyping.\n",
    "</div>"
   ]
  },
  {
   "cell_type": "markdown",
   "id": "1476ab60-f01e-4a0a-8ec6-6eb35c756357",
   "metadata": {},
   "source": [
    "## Read and process PHYSLITE using uproot/awkward\n",
    "\n",
    "First, let's start with some general notes on reading `DAOD_PHYSLITE`\n",
    "\n",
    "The PHYSLITE ROOT files currently follow a similar structure as regular ATLAS xAODs\n",
    "\n",
    "They containing several trees, where the one holding the actual data is called `CollectionTree`. The others contain various forms of Metadata."
   ]
  },
  {
   "cell_type": "code",
   "execution_count": 1,
   "id": "a145cd4e-63a4-4145-a993-d424021c3261",
   "metadata": {},
   "outputs": [],
   "source": [
    "import uproot\n",
    "import awkward as ak"
   ]
  },
  {
   "cell_type": "code",
   "execution_count": 2,
   "id": "5a46341d-40e5-43de-8a13-cceef30ca38e",
   "metadata": {},
   "outputs": [],
   "source": [
    "f = uproot.open(\"data/DAOD_PHYSLITE_21.2.108.0.art.pool.root\")"
   ]
  },
  {
   "cell_type": "code",
   "execution_count": 3,
   "id": "268e084a-42b4-45ba-99ad-411f4abc1456",
   "metadata": {},
   "outputs": [
    {
     "data": {
      "text/plain": [
       "['MetaData;2',\n",
       " 'MetaData;1',\n",
       " 'MetaDataHdr;2',\n",
       " 'MetaDataHdr;1',\n",
       " 'MetaDataHdrForm;2',\n",
       " 'MetaDataHdrForm;1',\n",
       " 'POOLContainer;2',\n",
       " 'POOLContainer;1',\n",
       " 'POOLContainerForm;2',\n",
       " 'POOLContainerForm;1',\n",
       " '##Params;2',\n",
       " '##Params;1',\n",
       " '##Shapes;2',\n",
       " '##Shapes;1',\n",
       " '##Links;2',\n",
       " '##Links;1',\n",
       " 'CollectionTree;1']"
      ]
     },
     "execution_count": 3,
     "metadata": {},
     "output_type": "execute_result"
    }
   ],
   "source": [
    "f.keys()"
   ]
  },
  {
   "cell_type": "markdown",
   "id": "ac4cbbb4-6933-4c94-ae87-8a6ebcdbf561",
   "metadata": {},
   "source": [
    "### 1-D vectors\n",
    "* All branches are stored with the **highest split level**\n",
    "* In most cases data stored in branches called `Aux.<something>` or `AuxDyn.<something>`\n",
    "* Typically **vectors of fundamental types**, like e.g. pt/eta/phi of particle collections\n",
    "* **can be read into numpy arrays efficiently using uproot** since data stored as contiguous blocks  \n",
    "(except for the 10-byte vector headers whoose positions are known from ROOT's event offsets)"
   ]
  },
  {
   "cell_type": "code",
   "execution_count": 4,
   "id": "a264d7f5-1b56-44a2-a049-2f19f1d6f14b",
   "metadata": {},
   "outputs": [
    {
     "name": "stdout",
     "output_type": "stream",
     "text": [
      "name                           | typename                 | interpretation                                    \n",
      "-------------------------------+--------------------------+---------------------------------------------------\n",
      "AnalysisElectronsAuxDyn.pt     | std::vector<float>       | AsJagged(AsDtype('>f4'), header_bytes=10)\n",
      "AnalysisElectronsAuxDyn.eta    | std::vector<float>       | AsJagged(AsDtype('>f4'), header_bytes=10)\n",
      "AnalysisElectronsAuxDyn.phi    | std::vector<float>       | AsJagged(AsDtype('>f4'), header_bytes=10)\n"
     ]
    }
   ],
   "source": [
    "f[\"CollectionTree\"].show(\"/AnalysisElectronsAuxDyn.(pt|eta|phi)$/i\", name_width=30, interpretation_width=50)"
   ]
  },
  {
   "cell_type": "markdown",
   "id": "13d2d506-2475-4e7d-977c-34e5b9d08fbb",
   "metadata": {},
   "source": [
    "### ElementLinks\n",
    "\n",
    "The most relevant exception to this: `ElementLink` branches:\n",
    "\n",
    "* provide cross references into other collections\n",
    "* **often 2-dimensional** (`vector<vector<ElementLink<...>>>`)\n",
    "* data part (`ElementLink`) is serialized as a **structure of 2 32bit unsigned integers**:\n",
    "  * hash `m_persKey`, identifying the target collection\n",
    "  * index `m_persIndex` identifying the array-index of the corresponding particle in the target collection."
   ]
  },
  {
   "cell_type": "code",
   "execution_count": 5,
   "id": "86f9dd67-6f45-4726-9009-9fa5e8f2d8ad",
   "metadata": {},
   "outputs": [
    {
     "data": {
      "text/plain": [
       "'std::vector<std::vector<ElementLink<DataVector<xAOD::TrackParticle_v1>>>>'"
      ]
     },
     "execution_count": 5,
     "metadata": {},
     "output_type": "execute_result"
    }
   ],
   "source": [
    "f[\"CollectionTree/AnalysisElectronsAuxDyn.trackParticleLinks\"].typename"
   ]
  },
  {
   "cell_type": "code",
   "execution_count": 6,
   "id": "78f7c2dd-ffaf-4138-ba56-94185f7c4a49",
   "metadata": {},
   "outputs": [
    {
     "name": "stdout",
     "output_type": "stream",
     "text": [
      "m_persKey: unsigned int\n",
      "m_persIndex: unsigned int\n"
     ]
    }
   ],
   "source": [
    "for element in f.file.streamer_named(\"ElementLinkBase\").elements:\n",
    "    print(f\"{element.member('fName')}: {element.member('fTypeName')}\")"
   ]
  },
  {
   "cell_type": "markdown",
   "id": "e1c86472-36bd-4455-8244-cca9f33403b0",
   "metadata": {},
   "source": [
    "Uproot can read this, but the loop that deserializes the data is done in python and therefore slow.\n",
    "\n",
    "This is not relevant for this very small file, but becomes important for larger files."
   ]
  },
  {
   "cell_type": "markdown",
   "id": "0183d0b7-346f-4799-af89-1ce1a56ffe05",
   "metadata": {},
   "source": [
    "This can be handled by [AwkwardForth](https://doi.org/10.1051/epjconf/202125103002) which is however currently (November 2021) not yet integrated with uproot.\n",
    "\n",
    "For now we can use a custom function `branch_to_array` to do this:"
   ]
  },
  {
   "cell_type": "code",
   "execution_count": 7,
   "id": "debb2a87-249d-4ec5-a7fc-850817cf0209",
   "metadata": {},
   "outputs": [],
   "source": [
    "from physlite_experiments.deserialization_hacks import branch_to_array"
   ]
  },
  {
   "cell_type": "code",
   "execution_count": 8,
   "id": "8c9ad108-1d1b-4cc9-bd19-171c29db3337",
   "metadata": {},
   "outputs": [
    {
     "data": {
      "text/plain": [
       "<Array [[], [], ... m_persIndex: 1}]]] type='40 * var * var * {\"m_persKey\": int3...'>"
      ]
     },
     "execution_count": 8,
     "metadata": {},
     "output_type": "execute_result"
    }
   ],
   "source": [
    "branch_to_array(f[\"CollectionTree/AnalysisElectronsAuxDyn.trackParticleLinks\"])"
   ]
  },
  {
   "cell_type": "markdown",
   "id": "be240c05-fa94-4a81-8faf-02472d3bb44b",
   "metadata": {},
   "source": [
    "One can actually see a significant improvement already for the small file with only 40 events!"
   ]
  },
  {
   "cell_type": "code",
   "execution_count": 9,
   "id": "5aeb1766-5acd-4176-b199-4b42d63aadcc",
   "metadata": {},
   "outputs": [
    {
     "name": "stdout",
     "output_type": "stream",
     "text": [
      "7.86 ms ± 281 µs per loop (mean ± std. dev. of 7 runs, 100 loops each)\n"
     ]
    }
   ],
   "source": [
    "%%timeit\n",
    "# using standard uproot\n",
    "f.file.array_cache.clear()\n",
    "f[\"CollectionTree/AnalysisElectronsAuxDyn.trackParticleLinks\"].array()"
   ]
  },
  {
   "cell_type": "code",
   "execution_count": 10,
   "id": "5718bee3-0b34-44d4-afbe-48ae22c98b48",
   "metadata": {},
   "outputs": [
    {
     "name": "stdout",
     "output_type": "stream",
     "text": [
      "772 µs ± 18.2 µs per loop (mean ± std. dev. of 7 runs, 1000 loops each)\n"
     ]
    }
   ],
   "source": [
    "%%timeit\n",
    "# using numba\n",
    "f.file.array_cache.clear()\n",
    "branch_to_array(f[\"CollectionTree/AnalysisElectronsAuxDyn.trackParticleLinks\"])"
   ]
  },
  {
   "cell_type": "code",
   "execution_count": 11,
   "id": "bf0a462d-3026-4879-a0c1-891b8a1a36d5",
   "metadata": {},
   "outputs": [
    {
     "name": "stdout",
     "output_type": "stream",
     "text": [
      "809 µs ± 4.99 µs per loop (mean ± std. dev. of 7 runs, 1000 loops each)\n"
     ]
    }
   ],
   "source": [
    "%%timeit\n",
    "# using awkward forth\n",
    "f.file.array_cache.clear()\n",
    "branch_to_array(f[\"CollectionTree/AnalysisElectronsAuxDyn.trackParticleLinks\"], use_forth=True)"
   ]
  },
  {
   "cell_type": "markdown",
   "id": "b98ba774-ad57-40d0-b39d-12c51a024461",
   "metadata": {},
   "source": [
    "## Integration with `coffea.nanoevents`\n",
    "\n",
    "The PHYSLITE schema and the corresponding behavior classes are still under development - [CoffeaTeam/coffea#540](https://github.com/CoffeaTeam/coffea/issues/540) tracks the progress of some TODO items.\n",
    "\n",
    "For more information on `NanoEvents` see the [NanoEvents tutorial](https://github.com/CoffeaTeam/coffea/blob/master/binder/nanoevents.ipynb) or [Nick Smith's presentation](https://youtu.be/udzkE6t4Mck) at the [pyHEP 2020](https://indico.cern.ch/event/882824).\n",
    "\n",
    "<div class=\"alert alert-block alert-success\">\n",
    "    <b>The Goal:</b>\n",
    "    <ul>\n",
    "        <li>Work with object-oriented event data models, but stick to the array-at-a-time processing paradigm.<br> → Struct/Object of arrays instead of Array of structs/objects</li>\n",
    "        <li>Hide the details from the user</li>\n",
    "    </ul>\n",
    "</div>"
   ]
  },
  {
   "cell_type": "code",
   "execution_count": 12,
   "id": "124644bb-ac41-43c2-9a5f-fb9a0088d425",
   "metadata": {},
   "outputs": [],
   "source": [
    "from coffea.nanoevents import NanoEventsFactory, PHYSLITESchema\n",
    "\n",
    "# patch nanoevents to use the custom branch_to_array function\n",
    "from physlite_experiments.deserialization_hacks import patch_nanoevents\n",
    "patch_nanoevents()"
   ]
  },
  {
   "cell_type": "code",
   "execution_count": 13,
   "id": "30fa024f-1b43-473d-847a-6982854d847d",
   "metadata": {},
   "outputs": [
    {
     "name": "stderr",
     "output_type": "stream",
     "text": [
      "/srv/conda/envs/notebook/lib/python3.8/site-packages/coffea/nanoevents/mapping/uproot.py:96: UserWarning: Skipping McEventInfo as it is it cannot be represented as an Awkward array\n",
      "  warnings.warn(\n",
      "/srv/conda/envs/notebook/lib/python3.8/site-packages/coffea/nanoevents/mapping/uproot.py:91: UserWarning: Skipping EventInfoAux./EventInfoAux.xAOD::AuxInfoBase as it is not interpretable by Uproot\n",
      "  warnings.warn(f\"Skipping {key} as it is not interpretable by Uproot\")\n",
      "/srv/conda/envs/notebook/lib/python3.8/site-packages/coffea/nanoevents/mapping/uproot.py:91: UserWarning: Skipping xTrigDecisionAux./xTrigDecisionAux.xAOD::AuxInfoBase as it is not interpretable by Uproot\n",
      "  warnings.warn(f\"Skipping {key} as it is not interpretable by Uproot\")\n",
      "/srv/conda/envs/notebook/lib/python3.8/site-packages/coffea/nanoevents/mapping/uproot.py:91: UserWarning: Skipping METAssoc_AnalysisMETAux./METAssoc_AnalysisMETAux.xAOD::AuxContainerBase as it is not interpretable by Uproot\n",
      "  warnings.warn(f\"Skipping {key} as it is not interpretable by Uproot\")\n",
      "/srv/conda/envs/notebook/lib/python3.8/site-packages/coffea/nanoevents/mapping/uproot.py:96: UserWarning: Skipping METAssoc_AnalysisMET as it is it cannot be represented as an Awkward array\n",
      "  warnings.warn(\n",
      "/srv/conda/envs/notebook/lib/python3.8/site-packages/coffea/nanoevents/mapping/uproot.py:96: UserWarning: Skipping AnalysisElectrons as it is it cannot be represented as an Awkward array\n",
      "  warnings.warn(\n",
      "/srv/conda/envs/notebook/lib/python3.8/site-packages/coffea/nanoevents/mapping/uproot.py:96: UserWarning: Skipping PrimaryVertices as it is it cannot be represented as an Awkward array\n",
      "  warnings.warn(\n",
      "/srv/conda/envs/notebook/lib/python3.8/site-packages/coffea/nanoevents/mapping/uproot.py:96: UserWarning: Skipping MET_Core_AnalysisMET as it is it cannot be represented as an Awkward array\n",
      "  warnings.warn(\n",
      "/srv/conda/envs/notebook/lib/python3.8/site-packages/coffea/nanoevents/mapping/uproot.py:96: UserWarning: Skipping MET_Truth as it is it cannot be represented as an Awkward array\n",
      "  warnings.warn(\n",
      "/srv/conda/envs/notebook/lib/python3.8/site-packages/coffea/nanoevents/mapping/uproot.py:96: UserWarning: Skipping AnalysisPhotons as it is it cannot be represented as an Awkward array\n",
      "  warnings.warn(\n",
      "/srv/conda/envs/notebook/lib/python3.8/site-packages/coffea/nanoevents/mapping/uproot.py:96: UserWarning: Skipping AnalysisTauJets as it is it cannot be represented as an Awkward array\n",
      "  warnings.warn(\n",
      "/srv/conda/envs/notebook/lib/python3.8/site-packages/coffea/nanoevents/mapping/uproot.py:96: UserWarning: Skipping AnalysisMuons as it is it cannot be represented as an Awkward array\n",
      "  warnings.warn(\n",
      "/srv/conda/envs/notebook/lib/python3.8/site-packages/coffea/nanoevents/mapping/uproot.py:96: UserWarning: Skipping TruthEvents as it is it cannot be represented as an Awkward array\n",
      "  warnings.warn(\n",
      "/srv/conda/envs/notebook/lib/python3.8/site-packages/coffea/nanoevents/mapping/uproot.py:96: UserWarning: Skipping CaloCalTopoClusters as it is it cannot be represented as an Awkward array\n",
      "  warnings.warn(\n",
      "/srv/conda/envs/notebook/lib/python3.8/site-packages/coffea/nanoevents/mapping/uproot.py:96: UserWarning: Skipping egammaClusters as it is it cannot be represented as an Awkward array\n",
      "  warnings.warn(\n",
      "/srv/conda/envs/notebook/lib/python3.8/site-packages/coffea/nanoevents/mapping/uproot.py:96: UserWarning: Skipping BornLeptons as it is it cannot be represented as an Awkward array\n",
      "  warnings.warn(\n",
      "/srv/conda/envs/notebook/lib/python3.8/site-packages/coffea/nanoevents/mapping/uproot.py:96: UserWarning: Skipping HardScatterParticles as it is it cannot be represented as an Awkward array\n",
      "  warnings.warn(\n",
      "/srv/conda/envs/notebook/lib/python3.8/site-packages/coffea/nanoevents/mapping/uproot.py:96: UserWarning: Skipping TruthBSM as it is it cannot be represented as an Awkward array\n",
      "  warnings.warn(\n",
      "/srv/conda/envs/notebook/lib/python3.8/site-packages/coffea/nanoevents/mapping/uproot.py:96: UserWarning: Skipping TruthBSMWithDecayParticles as it is it cannot be represented as an Awkward array\n",
      "  warnings.warn(\n",
      "/srv/conda/envs/notebook/lib/python3.8/site-packages/coffea/nanoevents/mapping/uproot.py:96: UserWarning: Skipping TruthBoson as it is it cannot be represented as an Awkward array\n",
      "  warnings.warn(\n",
      "/srv/conda/envs/notebook/lib/python3.8/site-packages/coffea/nanoevents/mapping/uproot.py:96: UserWarning: Skipping TruthBosonsWithDecayParticles as it is it cannot be represented as an Awkward array\n",
      "  warnings.warn(\n",
      "/srv/conda/envs/notebook/lib/python3.8/site-packages/coffea/nanoevents/mapping/uproot.py:96: UserWarning: Skipping TruthBottom as it is it cannot be represented as an Awkward array\n",
      "  warnings.warn(\n",
      "/srv/conda/envs/notebook/lib/python3.8/site-packages/coffea/nanoevents/mapping/uproot.py:96: UserWarning: Skipping TruthElectrons as it is it cannot be represented as an Awkward array\n",
      "  warnings.warn(\n",
      "/srv/conda/envs/notebook/lib/python3.8/site-packages/coffea/nanoevents/mapping/uproot.py:96: UserWarning: Skipping TruthForwardProtons as it is it cannot be represented as an Awkward array\n",
      "  warnings.warn(\n",
      "/srv/conda/envs/notebook/lib/python3.8/site-packages/coffea/nanoevents/mapping/uproot.py:96: UserWarning: Skipping TruthMuons as it is it cannot be represented as an Awkward array\n",
      "  warnings.warn(\n",
      "/srv/conda/envs/notebook/lib/python3.8/site-packages/coffea/nanoevents/mapping/uproot.py:96: UserWarning: Skipping TruthNeutrinos as it is it cannot be represented as an Awkward array\n",
      "  warnings.warn(\n",
      "/srv/conda/envs/notebook/lib/python3.8/site-packages/coffea/nanoevents/mapping/uproot.py:96: UserWarning: Skipping TruthPhotons as it is it cannot be represented as an Awkward array\n",
      "  warnings.warn(\n",
      "/srv/conda/envs/notebook/lib/python3.8/site-packages/coffea/nanoevents/mapping/uproot.py:96: UserWarning: Skipping TruthTaus as it is it cannot be represented as an Awkward array\n",
      "  warnings.warn(\n",
      "/srv/conda/envs/notebook/lib/python3.8/site-packages/coffea/nanoevents/mapping/uproot.py:96: UserWarning: Skipping TruthTop as it is it cannot be represented as an Awkward array\n",
      "  warnings.warn(\n",
      "/srv/conda/envs/notebook/lib/python3.8/site-packages/coffea/nanoevents/mapping/uproot.py:96: UserWarning: Skipping HardScatterVertices as it is it cannot be represented as an Awkward array\n",
      "  warnings.warn(\n",
      "/srv/conda/envs/notebook/lib/python3.8/site-packages/coffea/nanoevents/mapping/uproot.py:96: UserWarning: Skipping TruthBSMWithDecayVertices as it is it cannot be represented as an Awkward array\n",
      "  warnings.warn(\n",
      "/srv/conda/envs/notebook/lib/python3.8/site-packages/coffea/nanoevents/mapping/uproot.py:96: UserWarning: Skipping TruthBosonsWithDecayVertices as it is it cannot be represented as an Awkward array\n",
      "  warnings.warn(\n",
      "/srv/conda/envs/notebook/lib/python3.8/site-packages/coffea/nanoevents/mapping/uproot.py:96: UserWarning: Skipping TruthPrimaryVertices as it is it cannot be represented as an Awkward array\n",
      "  warnings.warn(\n",
      "/srv/conda/envs/notebook/lib/python3.8/site-packages/coffea/nanoevents/mapping/uproot.py:96: UserWarning: Skipping AnalysisJets as it is it cannot be represented as an Awkward array\n",
      "  warnings.warn(\n",
      "/srv/conda/envs/notebook/lib/python3.8/site-packages/coffea/nanoevents/mapping/uproot.py:96: UserWarning: Skipping AnalysisLargeRJets as it is it cannot be represented as an Awkward array\n",
      "  warnings.warn(\n",
      "/srv/conda/envs/notebook/lib/python3.8/site-packages/coffea/nanoevents/mapping/uproot.py:96: UserWarning: Skipping AntiKt10TruthSoftDropBeta100Zcut10Jets as it is it cannot be represented as an Awkward array\n",
      "  warnings.warn(\n",
      "/srv/conda/envs/notebook/lib/python3.8/site-packages/coffea/nanoevents/mapping/uproot.py:96: UserWarning: Skipping AntiKt10UFOCSSKJets as it is it cannot be represented as an Awkward array\n",
      "  warnings.warn(\n",
      "/srv/conda/envs/notebook/lib/python3.8/site-packages/coffea/nanoevents/mapping/uproot.py:96: UserWarning: Skipping AntiKt4TruthDressedWZJets as it is it cannot be represented as an Awkward array\n",
      "  warnings.warn(\n",
      "/srv/conda/envs/notebook/lib/python3.8/site-packages/coffea/nanoevents/mapping/uproot.py:96: UserWarning: Skipping BTagging_AntiKt4EMPFlow_201903 as it is it cannot be represented as an Awkward array\n",
      "  warnings.warn(\n",
      "/srv/conda/envs/notebook/lib/python3.8/site-packages/coffea/nanoevents/mapping/uproot.py:96: UserWarning: Skipping CombinedMuonTrackParticles as it is it cannot be represented as an Awkward array\n",
      "  warnings.warn(\n",
      "/srv/conda/envs/notebook/lib/python3.8/site-packages/coffea/nanoevents/mapping/uproot.py:96: UserWarning: Skipping ExtrapolatedMuonTrackParticles as it is it cannot be represented as an Awkward array\n",
      "  warnings.warn(\n",
      "/srv/conda/envs/notebook/lib/python3.8/site-packages/coffea/nanoevents/mapping/uproot.py:96: UserWarning: Skipping GSFTrackParticles as it is it cannot be represented as an Awkward array\n",
      "  warnings.warn(\n",
      "/srv/conda/envs/notebook/lib/python3.8/site-packages/coffea/nanoevents/mapping/uproot.py:96: UserWarning: Skipping InDetTrackParticles as it is it cannot be represented as an Awkward array\n",
      "  warnings.warn(\n",
      "/srv/conda/envs/notebook/lib/python3.8/site-packages/coffea/nanoevents/mapping/uproot.py:96: UserWarning: Skipping MuonSpectrometerTrackParticles as it is it cannot be represented as an Awkward array\n",
      "  warnings.warn(\n",
      "/srv/conda/envs/notebook/lib/python3.8/site-packages/coffea/nanoevents/mapping/uproot.py:91: UserWarning: Skipping AntiKt10TruthSoftDropBeta100Zcut10JetsAux./AntiKt10TruthSoftDropBeta100Zcut10JetsAux.xAOD::AuxContainerBase as it is not interpretable by Uproot\n",
      "  warnings.warn(f\"Skipping {key} as it is not interpretable by Uproot\")\n",
      "/srv/conda/envs/notebook/lib/python3.8/site-packages/coffea/nanoevents/mapping/uproot.py:91: UserWarning: Skipping AntiKt10UFOCSSKJetsAux./AntiKt10UFOCSSKJetsAux.xAOD::AuxContainerBase as it is not interpretable by Uproot\n",
      "  warnings.warn(f\"Skipping {key} as it is not interpretable by Uproot\")\n",
      "/srv/conda/envs/notebook/lib/python3.8/site-packages/coffea/nanoevents/mapping/uproot.py:91: UserWarning: Skipping AntiKt4TruthDressedWZJetsAux./AntiKt4TruthDressedWZJetsAux.xAOD::AuxContainerBase as it is not interpretable by Uproot\n",
      "  warnings.warn(f\"Skipping {key} as it is not interpretable by Uproot\")\n",
      "/srv/conda/envs/notebook/lib/python3.8/site-packages/coffea/nanoevents/mapping/uproot.py:96: UserWarning: Skipping AnalysisHLT_2e12_lhloose_nod0_mu10 as it is it cannot be represented as an Awkward array\n",
      "  warnings.warn(\n",
      "/srv/conda/envs/notebook/lib/python3.8/site-packages/coffea/nanoevents/mapping/uproot.py:96: UserWarning: Skipping AnalysisHLT_2e12_lhloose_nodeta_L12EM10VH as it is it cannot be represented as an Awkward array\n",
      "  warnings.warn(\n",
      "/srv/conda/envs/notebook/lib/python3.8/site-packages/coffea/nanoevents/mapping/uproot.py:96: UserWarning: Skipping AnalysisHLT_2e12_lhloose_nodphires_L12EM10VH as it is it cannot be represented as an Awkward array\n",
      "  warnings.warn(\n",
      "/srv/conda/envs/notebook/lib/python3.8/site-packages/coffea/nanoevents/mapping/uproot.py:96: UserWarning: Skipping AnalysisHLT_2e17_lhvloose_nod0 as it is it cannot be represented as an Awkward array\n",
      "  warnings.warn(\n",
      "/srv/conda/envs/notebook/lib/python3.8/site-packages/coffea/nanoevents/mapping/uproot.py:96: UserWarning: Skipping AnalysisHLT_2e17_lhvloose_nod0_L12EM15VHI as it is it cannot be represented as an Awkward array\n",
      "  warnings.warn(\n",
      "/srv/conda/envs/notebook/lib/python3.8/site-packages/coffea/nanoevents/mapping/uproot.py:96: UserWarning: Skipping AnalysisHLT_2e17_lhvloose_nod0_ringer as it is it cannot be represented as an Awkward array\n",
      "  warnings.warn(\n",
      "/srv/conda/envs/notebook/lib/python3.8/site-packages/coffea/nanoevents/mapping/uproot.py:96: UserWarning: Skipping AnalysisHLT_2e17_lhvloose_nod0_ringer_L12EM15VHI as it is it cannot be represented as an Awkward array\n",
      "  warnings.warn(\n",
      "/srv/conda/envs/notebook/lib/python3.8/site-packages/coffea/nanoevents/mapping/uproot.py:96: UserWarning: Skipping AnalysisHLT_2e24_lhvloose_nod0 as it is it cannot be represented as an Awkward array\n",
      "  warnings.warn(\n",
      "/srv/conda/envs/notebook/lib/python3.8/site-packages/coffea/nanoevents/mapping/uproot.py:96: UserWarning: Skipping AnalysisHLT_2g20_loose_g15_loose as it is it cannot be represented as an Awkward array\n",
      "  warnings.warn(\n",
      "/srv/conda/envs/notebook/lib/python3.8/site-packages/coffea/nanoevents/mapping/uproot.py:96: UserWarning: Skipping AnalysisHLT_2g20_tight as it is it cannot be represented as an Awkward array\n",
      "  warnings.warn(\n",
      "/srv/conda/envs/notebook/lib/python3.8/site-packages/coffea/nanoevents/mapping/uproot.py:96: UserWarning: Skipping AnalysisHLT_2g20_tight_icalovloose_L12EM15VHI as it is it cannot be represented as an Awkward array\n",
      "  warnings.warn(\n",
      "/srv/conda/envs/notebook/lib/python3.8/site-packages/coffea/nanoevents/mapping/uproot.py:96: UserWarning: Skipping AnalysisHLT_2g22_tight as it is it cannot be represented as an Awkward array\n",
      "  warnings.warn(\n",
      "/srv/conda/envs/notebook/lib/python3.8/site-packages/coffea/nanoevents/mapping/uproot.py:96: UserWarning: Skipping AnalysisHLT_2g22_tight_L12EM15VHI as it is it cannot be represented as an Awkward array\n",
      "  warnings.warn(\n",
      "/srv/conda/envs/notebook/lib/python3.8/site-packages/coffea/nanoevents/mapping/uproot.py:96: UserWarning: Skipping AnalysisHLT_2g22_tight_L1EM7_EMPTY as it is it cannot be represented as an Awkward array\n",
      "  warnings.warn(\n",
      "/srv/conda/envs/notebook/lib/python3.8/site-packages/coffea/nanoevents/mapping/uproot.py:96: UserWarning: Skipping AnalysisHLT_2g22_tight_L1EM7_UNPAIRED_ISO as it is it cannot be represented as an Awkward array\n",
      "  warnings.warn(\n",
      "/srv/conda/envs/notebook/lib/python3.8/site-packages/coffea/nanoevents/mapping/uproot.py:96: UserWarning: Skipping AnalysisHLT_2g22_tight_icalovloose as it is it cannot be represented as an Awkward array\n",
      "  warnings.warn(\n",
      "/srv/conda/envs/notebook/lib/python3.8/site-packages/coffea/nanoevents/mapping/uproot.py:96: UserWarning: Skipping AnalysisHLT_2g25_loose_g15_loose as it is it cannot be represented as an Awkward array\n",
      "  warnings.warn(\n",
      "/srv/conda/envs/notebook/lib/python3.8/site-packages/coffea/nanoevents/mapping/uproot.py:96: UserWarning: Skipping AnalysisHLT_2g25_tight_L12EM20VH as it is it cannot be represented as an Awkward array\n",
      "  warnings.warn(\n",
      "/srv/conda/envs/notebook/lib/python3.8/site-packages/coffea/nanoevents/mapping/uproot.py:96: UserWarning: Skipping AnalysisHLT_2g50_loose_L12EM20VH as it is it cannot be represented as an Awkward array\n",
      "  warnings.warn(\n",
      "/srv/conda/envs/notebook/lib/python3.8/site-packages/coffea/nanoevents/mapping/uproot.py:96: UserWarning: Skipping AnalysisHLT_2mu10 as it is it cannot be represented as an Awkward array\n",
      "  warnings.warn(\n",
      "/srv/conda/envs/notebook/lib/python3.8/site-packages/coffea/nanoevents/mapping/uproot.py:96: UserWarning: Skipping AnalysisHLT_2mu10_nomucomb as it is it cannot be represented as an Awkward array\n",
      "  warnings.warn(\n",
      "/srv/conda/envs/notebook/lib/python3.8/site-packages/coffea/nanoevents/mapping/uproot.py:96: UserWarning: Skipping AnalysisHLT_2mu14 as it is it cannot be represented as an Awkward array\n",
      "  warnings.warn(\n",
      "/srv/conda/envs/notebook/lib/python3.8/site-packages/coffea/nanoevents/mapping/uproot.py:96: UserWarning: Skipping AnalysisHLT_2mu14_nomucomb as it is it cannot be represented as an Awkward array\n",
      "  warnings.warn(\n",
      "/srv/conda/envs/notebook/lib/python3.8/site-packages/coffea/nanoevents/mapping/uproot.py:96: UserWarning: Skipping AnalysisHLT_2mu20_L12MU20_OVERLAY as it is it cannot be represented as an Awkward array\n",
      "  warnings.warn(\n",
      "/srv/conda/envs/notebook/lib/python3.8/site-packages/coffea/nanoevents/mapping/uproot.py:96: UserWarning: Skipping AnalysisHLT_2mu4_mu3_mu2noL1_L13MU4 as it is it cannot be represented as an Awkward array\n",
      "  warnings.warn(\n",
      "/srv/conda/envs/notebook/lib/python3.8/site-packages/coffea/nanoevents/mapping/uproot.py:96: UserWarning: Skipping AnalysisHLT_2mu6_10invm30_pt2_z10 as it is it cannot be represented as an Awkward array\n",
      "  warnings.warn(\n",
      "/srv/conda/envs/notebook/lib/python3.8/site-packages/coffea/nanoevents/mapping/uproot.py:96: UserWarning: Skipping AnalysisHLT_3g20_loose as it is it cannot be represented as an Awkward array\n",
      "  warnings.warn(\n",
      "/srv/conda/envs/notebook/lib/python3.8/site-packages/coffea/nanoevents/mapping/uproot.py:96: UserWarning: Skipping AnalysisHLT_3mu3_mu3noL1_L13MU4 as it is it cannot be represented as an Awkward array\n",
      "  warnings.warn(\n",
      "/srv/conda/envs/notebook/lib/python3.8/site-packages/coffea/nanoevents/mapping/uproot.py:96: UserWarning: Skipping AnalysisHLT_3mu4 as it is it cannot be represented as an Awkward array\n",
      "  warnings.warn(\n",
      "/srv/conda/envs/notebook/lib/python3.8/site-packages/coffea/nanoevents/mapping/uproot.py:96: UserWarning: Skipping AnalysisHLT_3mu4_mu2noL1 as it is it cannot be represented as an Awkward array\n",
      "  warnings.warn(\n",
      "/srv/conda/envs/notebook/lib/python3.8/site-packages/coffea/nanoevents/mapping/uproot.py:96: UserWarning: Skipping AnalysisHLT_3mu4_nomucomb as it is it cannot be represented as an Awkward array\n",
      "  warnings.warn(\n",
      "/srv/conda/envs/notebook/lib/python3.8/site-packages/coffea/nanoevents/mapping/uproot.py:96: UserWarning: Skipping AnalysisHLT_3mu4_nomucomb_mu2noL1 as it is it cannot be represented as an Awkward array\n",
      "  warnings.warn(\n",
      "/srv/conda/envs/notebook/lib/python3.8/site-packages/coffea/nanoevents/mapping/uproot.py:96: UserWarning: Skipping AnalysisHLT_3mu6 as it is it cannot be represented as an Awkward array\n",
      "  warnings.warn(\n",
      "/srv/conda/envs/notebook/lib/python3.8/site-packages/coffea/nanoevents/mapping/uproot.py:96: UserWarning: Skipping AnalysisHLT_3mu6_msonly as it is it cannot be represented as an Awkward array\n",
      "  warnings.warn(\n",
      "/srv/conda/envs/notebook/lib/python3.8/site-packages/coffea/nanoevents/mapping/uproot.py:96: UserWarning: Skipping AnalysisHLT_3mu6_msonly_L1MU4_UNPAIRED_ISO as it is it cannot be represented as an Awkward array\n",
      "  warnings.warn(\n",
      "/srv/conda/envs/notebook/lib/python3.8/site-packages/coffea/nanoevents/mapping/uproot.py:96: UserWarning: Skipping AnalysisHLT_3mu6_msonly_L1MU6_EMPTY as it is it cannot be represented as an Awkward array\n",
      "  warnings.warn(\n",
      "/srv/conda/envs/notebook/lib/python3.8/site-packages/coffea/nanoevents/mapping/uproot.py:96: UserWarning: Skipping AnalysisHLT_4mu4 as it is it cannot be represented as an Awkward array\n",
      "  warnings.warn(\n",
      "/srv/conda/envs/notebook/lib/python3.8/site-packages/coffea/nanoevents/mapping/uproot.py:96: UserWarning: Skipping AnalysisHLT_4mu4_nomucomb as it is it cannot be represented as an Awkward array\n",
      "  warnings.warn(\n",
      "/srv/conda/envs/notebook/lib/python3.8/site-packages/coffea/nanoevents/mapping/uproot.py:96: UserWarning: Skipping AnalysisHLT_e120_lhloose_nod0 as it is it cannot be represented as an Awkward array\n",
      "  warnings.warn(\n",
      "/srv/conda/envs/notebook/lib/python3.8/site-packages/coffea/nanoevents/mapping/uproot.py:96: UserWarning: Skipping AnalysisHLT_e12_lhloose_nod0_2mu10 as it is it cannot be represented as an Awkward array\n",
      "  warnings.warn(\n",
      "/srv/conda/envs/notebook/lib/python3.8/site-packages/coffea/nanoevents/mapping/uproot.py:96: UserWarning: Skipping AnalysisHLT_e140_lhloose_nod0 as it is it cannot be represented as an Awkward array\n",
      "  warnings.warn(\n",
      "/srv/conda/envs/notebook/lib/python3.8/site-packages/coffea/nanoevents/mapping/uproot.py:96: UserWarning: Skipping AnalysisHLT_e140_lhloose_nod0_L1EM24VHI as it is it cannot be represented as an Awkward array\n",
      "  warnings.warn(\n",
      "/srv/conda/envs/notebook/lib/python3.8/site-packages/coffea/nanoevents/mapping/uproot.py:96: UserWarning: Skipping AnalysisHLT_e140_lhloose_nod0_ringer as it is it cannot be represented as an Awkward array\n",
      "  warnings.warn(\n",
      "/srv/conda/envs/notebook/lib/python3.8/site-packages/coffea/nanoevents/mapping/uproot.py:96: UserWarning: Skipping AnalysisHLT_e140_lhvloose_nod0 as it is it cannot be represented as an Awkward array\n",
      "  warnings.warn(\n",
      "/srv/conda/envs/notebook/lib/python3.8/site-packages/coffea/nanoevents/mapping/uproot.py:96: UserWarning: Skipping AnalysisHLT_e160_lhvloose_nod0 as it is it cannot be represented as an Awkward array\n",
      "  warnings.warn(\n",
      "/srv/conda/envs/notebook/lib/python3.8/site-packages/coffea/nanoevents/mapping/uproot.py:96: UserWarning: Skipping AnalysisHLT_e17_lhloose_nod0_2e12_lhloose_nod0_L1EM15VH_3EM10VH as it is it cannot be represented as an Awkward array\n",
      "  warnings.warn(\n",
      "/srv/conda/envs/notebook/lib/python3.8/site-packages/coffea/nanoevents/mapping/uproot.py:96: UserWarning: Skipping AnalysisHLT_e17_lhloose_nod0_2e9_lhloose_nod0 as it is it cannot be represented as an Awkward array\n",
      "  warnings.warn(\n",
      "/srv/conda/envs/notebook/lib/python3.8/site-packages/coffea/nanoevents/mapping/uproot.py:96: UserWarning: Skipping AnalysisHLT_e17_lhloose_nod0_mu14 as it is it cannot be represented as an Awkward array\n",
      "  warnings.warn(\n",
      "/srv/conda/envs/notebook/lib/python3.8/site-packages/coffea/nanoevents/mapping/uproot.py:96: UserWarning: Skipping AnalysisHLT_e17_lhmedium_iloose_tau25_medium1_tracktwo as it is it cannot be represented as an Awkward array\n",
      "  warnings.warn(\n",
      "/srv/conda/envs/notebook/lib/python3.8/site-packages/coffea/nanoevents/mapping/uproot.py:96: UserWarning: Skipping AnalysisHLT_e17_lhmedium_nod0_iloose_tau25_medium1_tracktwo as it is it cannot be represented as an Awkward array\n",
      "  warnings.warn(\n",
      "/srv/conda/envs/notebook/lib/python3.8/site-packages/coffea/nanoevents/mapping/uproot.py:96: UserWarning: Skipping AnalysisHLT_e17_lhmedium_nod0_ivarloose_tau25_medium1_tracktwo as it is it cannot be represented as an Awkward array\n",
      "  warnings.warn(\n",
      "/srv/conda/envs/notebook/lib/python3.8/site-packages/coffea/nanoevents/mapping/uproot.py:96: UserWarning: Skipping AnalysisHLT_e17_lhmedium_nod0_ivarloose_tau25_medium1_tracktwoEF as it is it cannot be represented as an Awkward array\n",
      "  warnings.warn(\n",
      "/srv/conda/envs/notebook/lib/python3.8/site-packages/coffea/nanoevents/mapping/uproot.py:96: UserWarning: Skipping AnalysisHLT_e17_lhmedium_nod0_ivarloose_tau25_medium1_tracktwoEF_L1DR-EM15TAU12I-J25 as it is it cannot be represented as an Awkward array\n",
      "  warnings.warn(\n",
      "/srv/conda/envs/notebook/lib/python3.8/site-packages/coffea/nanoevents/mapping/uproot.py:96: UserWarning: Skipping AnalysisHLT_e17_lhmedium_nod0_ivarloose_tau25_medium1_tracktwoEF_L1EM15VHI_2TAU12IM_4J12 as it is it cannot be represented as an Awkward array\n",
      "  warnings.warn(\n",
      "/srv/conda/envs/notebook/lib/python3.8/site-packages/coffea/nanoevents/mapping/uproot.py:96: UserWarning: Skipping AnalysisHLT_e17_lhmedium_nod0_ivarloose_tau25_medium1_tracktwoMVA_L1DR-EM15TAU12I-J25 as it is it cannot be represented as an Awkward array\n",
      "  warnings.warn(\n",
      "/srv/conda/envs/notebook/lib/python3.8/site-packages/coffea/nanoevents/mapping/uproot.py:96: UserWarning: Skipping AnalysisHLT_e17_lhmedium_nod0_ivarloose_tau25_medium1_tracktwoMVA_L1EM15VHI_2TAU12IM_4J12 as it is it cannot be represented as an Awkward array\n",
      "  warnings.warn(\n",
      "/srv/conda/envs/notebook/lib/python3.8/site-packages/coffea/nanoevents/mapping/uproot.py:96: UserWarning: Skipping AnalysisHLT_e17_lhmedium_nod0_ivarloose_tau25_medium1_tracktwo_L1DR-EM15TAU12I-J25 as it is it cannot be represented as an Awkward array\n",
      "  warnings.warn(\n",
      "/srv/conda/envs/notebook/lib/python3.8/site-packages/coffea/nanoevents/mapping/uproot.py:96: UserWarning: Skipping AnalysisHLT_e17_lhmedium_nod0_ivarloose_tau25_medium1_tracktwo_L1EM15VHI_2TAU12IM_4J12 as it is it cannot be represented as an Awkward array\n",
      "  warnings.warn(\n",
      "/srv/conda/envs/notebook/lib/python3.8/site-packages/coffea/nanoevents/mapping/uproot.py:96: UserWarning: Skipping AnalysisHLT_e17_lhmedium_nod0_ivarloose_tau25_mediumRNN_tracktwoMVA as it is it cannot be represented as an Awkward array\n",
      "  warnings.warn(\n",
      "/srv/conda/envs/notebook/lib/python3.8/site-packages/coffea/nanoevents/mapping/uproot.py:96: UserWarning: Skipping AnalysisHLT_e17_lhmedium_nod0_ivarloose_tau25_mediumRNN_tracktwoMVA_L1DR-EM15TAU12I-J25 as it is it cannot be represented as an Awkward array\n",
      "  warnings.warn(\n",
      "/srv/conda/envs/notebook/lib/python3.8/site-packages/coffea/nanoevents/mapping/uproot.py:96: UserWarning: Skipping AnalysisHLT_e17_lhmedium_nod0_ivarloose_tau25_mediumRNN_tracktwoMVA_L1EM15VHI_2TAU12IM_4J12 as it is it cannot be represented as an Awkward array\n",
      "  warnings.warn(\n",
      "/srv/conda/envs/notebook/lib/python3.8/site-packages/coffea/nanoevents/mapping/uproot.py:96: UserWarning: Skipping AnalysisHLT_e17_lhmedium_nod0_tau25_medium1_tracktwo as it is it cannot be represented as an Awkward array\n",
      "  warnings.warn(\n",
      "/srv/conda/envs/notebook/lib/python3.8/site-packages/coffea/nanoevents/mapping/uproot.py:96: UserWarning: Skipping AnalysisHLT_e17_lhmedium_nod0_tau80_medium1_tracktwo as it is it cannot be represented as an Awkward array\n",
      "  warnings.warn(\n",
      "/srv/conda/envs/notebook/lib/python3.8/site-packages/coffea/nanoevents/mapping/uproot.py:96: UserWarning: Skipping AnalysisHLT_e17_lhmedium_tau25_medium1_tracktwo as it is it cannot be represented as an Awkward array\n",
      "  warnings.warn(\n",
      "/srv/conda/envs/notebook/lib/python3.8/site-packages/coffea/nanoevents/mapping/uproot.py:96: UserWarning: Skipping AnalysisHLT_e17_lhmedium_tau80_medium1_tracktwo as it is it cannot be represented as an Awkward array\n",
      "  warnings.warn(\n",
      "/srv/conda/envs/notebook/lib/python3.8/site-packages/coffea/nanoevents/mapping/uproot.py:96: UserWarning: Skipping AnalysisHLT_e200_etcut as it is it cannot be represented as an Awkward array\n",
      "  warnings.warn(\n",
      "/srv/conda/envs/notebook/lib/python3.8/site-packages/coffea/nanoevents/mapping/uproot.py:96: UserWarning: Skipping AnalysisHLT_e22_lhvloose_nod0_e12_lhvloose_nod0_e10_lhvloose_nod0_L1EM20VH_2EM10VH_3EM8VH as it is it cannot be represented as an Awkward array\n",
      "  warnings.warn(\n",
      "/srv/conda/envs/notebook/lib/python3.8/site-packages/coffea/nanoevents/mapping/uproot.py:96: UserWarning: Skipping AnalysisHLT_e24_lhmedium_nod0_L1EM20VHI_mu8noL1 as it is it cannot be represented as an Awkward array\n",
      "  warnings.warn(\n",
      "/srv/conda/envs/notebook/lib/python3.8/site-packages/coffea/nanoevents/mapping/uproot.py:96: UserWarning: Skipping AnalysisHLT_e24_lhmedium_nod0_ivarloose_tau35_medium1_tracktwo as it is it cannot be represented as an Awkward array\n",
      "  warnings.warn(\n",
      "/srv/conda/envs/notebook/lib/python3.8/site-packages/coffea/nanoevents/mapping/uproot.py:96: UserWarning: Skipping AnalysisHLT_e24_lhmedium_nod0_ivarloose_tau35_medium1_tracktwoEF as it is it cannot be represented as an Awkward array\n",
      "  warnings.warn(\n",
      "/srv/conda/envs/notebook/lib/python3.8/site-packages/coffea/nanoevents/mapping/uproot.py:96: UserWarning: Skipping AnalysisHLT_e24_lhmedium_nod0_ivarloose_tau35_medium1_tracktwoMVA as it is it cannot be represented as an Awkward array\n",
      "  warnings.warn(\n",
      "/srv/conda/envs/notebook/lib/python3.8/site-packages/coffea/nanoevents/mapping/uproot.py:96: UserWarning: Skipping AnalysisHLT_e24_lhmedium_nod0_ivarloose_tau35_mediumRNN_tracktwoMVA as it is it cannot be represented as an Awkward array\n",
      "  warnings.warn(\n",
      "/srv/conda/envs/notebook/lib/python3.8/site-packages/coffea/nanoevents/mapping/uproot.py:96: UserWarning: Skipping AnalysisHLT_e24_lhtight_nod0_ivarloose as it is it cannot be represented as an Awkward array\n",
      "  warnings.warn(\n",
      "/srv/conda/envs/notebook/lib/python3.8/site-packages/coffea/nanoevents/mapping/uproot.py:96: UserWarning: Skipping AnalysisHLT_e24_lhvloose_nod0_2e12_lhvloose_nod0_L1EM20VH_3EM10VH as it is it cannot be represented as an Awkward array\n",
      "  warnings.warn(\n",
      "/srv/conda/envs/notebook/lib/python3.8/site-packages/coffea/nanoevents/mapping/uproot.py:96: UserWarning: Skipping AnalysisHLT_e26_lhloose_nod0 as it is it cannot be represented as an Awkward array\n",
      "  warnings.warn(\n",
      "/srv/conda/envs/notebook/lib/python3.8/site-packages/coffea/nanoevents/mapping/uproot.py:96: UserWarning: Skipping AnalysisHLT_e26_lhloose_nod0_ringer as it is it cannot be represented as an Awkward array\n",
      "  warnings.warn(\n",
      "/srv/conda/envs/notebook/lib/python3.8/site-packages/coffea/nanoevents/mapping/uproot.py:96: UserWarning: Skipping AnalysisHLT_e26_lhmedium_nod0_mu8noL1 as it is it cannot be represented as an Awkward array\n",
      "  warnings.warn(\n",
      "/srv/conda/envs/notebook/lib/python3.8/site-packages/coffea/nanoevents/mapping/uproot.py:96: UserWarning: Skipping AnalysisHLT_e26_lhtight_cutd0dphideta_ivarloose as it is it cannot be represented as an Awkward array\n",
      "  warnings.warn(\n",
      "/srv/conda/envs/notebook/lib/python3.8/site-packages/coffea/nanoevents/mapping/uproot.py:96: UserWarning: Skipping AnalysisHLT_e26_lhtight_nod0 as it is it cannot be represented as an Awkward array\n",
      "  warnings.warn(\n",
      "/srv/conda/envs/notebook/lib/python3.8/site-packages/coffea/nanoevents/mapping/uproot.py:96: UserWarning: Skipping AnalysisHLT_e26_lhtight_nod0_e15_etcut_L1EM7_Zee as it is it cannot be represented as an Awkward array\n",
      "  warnings.warn(\n",
      "/srv/conda/envs/notebook/lib/python3.8/site-packages/coffea/nanoevents/mapping/uproot.py:96: UserWarning: Skipping AnalysisHLT_e26_lhtight_nod0_ivarloose as it is it cannot be represented as an Awkward array\n",
      "  warnings.warn(\n",
      "/srv/conda/envs/notebook/lib/python3.8/site-packages/coffea/nanoevents/mapping/uproot.py:96: UserWarning: Skipping AnalysisHLT_e26_lhtight_nod0_ringer_ivarloose as it is it cannot be represented as an Awkward array\n",
      "  warnings.warn(\n",
      "/srv/conda/envs/notebook/lib/python3.8/site-packages/coffea/nanoevents/mapping/uproot.py:96: UserWarning: Skipping AnalysisHLT_e28_lhmedium_nod0_mu8noL1 as it is it cannot be represented as an Awkward array\n",
      "  warnings.warn(\n",
      "/srv/conda/envs/notebook/lib/python3.8/site-packages/coffea/nanoevents/mapping/uproot.py:96: UserWarning: Skipping AnalysisHLT_e28_lhtight_nod0_L1EM22VHI as it is it cannot be represented as an Awkward array\n",
      "  warnings.warn(\n",
      "/srv/conda/envs/notebook/lib/python3.8/site-packages/coffea/nanoevents/mapping/uproot.py:96: UserWarning: Skipping AnalysisHLT_e28_lhtight_nod0_e15_etcut_L1EM7_Zee as it is it cannot be represented as an Awkward array\n",
      "  warnings.warn(\n",
      "/srv/conda/envs/notebook/lib/python3.8/site-packages/coffea/nanoevents/mapping/uproot.py:96: UserWarning: Skipping AnalysisHLT_e28_lhtight_nod0_ivarloose as it is it cannot be represented as an Awkward array\n",
      "  warnings.warn(\n",
      "/srv/conda/envs/notebook/lib/python3.8/site-packages/coffea/nanoevents/mapping/uproot.py:96: UserWarning: Skipping AnalysisHLT_e28_lhtight_nod0_noringer_ivarloose as it is it cannot be represented as an Awkward array\n",
      "  warnings.warn(\n",
      "/srv/conda/envs/notebook/lib/python3.8/site-packages/coffea/nanoevents/mapping/uproot.py:96: UserWarning: Skipping AnalysisHLT_e300_etcut as it is it cannot be represented as an Awkward array\n",
      "  warnings.warn(\n",
      "/srv/conda/envs/notebook/lib/python3.8/site-packages/coffea/nanoevents/mapping/uproot.py:96: UserWarning: Skipping AnalysisHLT_e60_lhmedium_nod0 as it is it cannot be represented as an Awkward array\n",
      "  warnings.warn(\n",
      "/srv/conda/envs/notebook/lib/python3.8/site-packages/coffea/nanoevents/mapping/uproot.py:96: UserWarning: Skipping AnalysisHLT_e60_lhmedium_nod0_L1EM24VHI as it is it cannot be represented as an Awkward array\n",
      "  warnings.warn(\n",
      "/srv/conda/envs/notebook/lib/python3.8/site-packages/coffea/nanoevents/mapping/uproot.py:96: UserWarning: Skipping AnalysisHLT_e60_lhmedium_nod0_ringer as it is it cannot be represented as an Awkward array\n",
      "  warnings.warn(\n",
      "/srv/conda/envs/notebook/lib/python3.8/site-packages/coffea/nanoevents/mapping/uproot.py:96: UserWarning: Skipping AnalysisHLT_e60_medium as it is it cannot be represented as an Awkward array\n",
      "  warnings.warn(\n",
      "/srv/conda/envs/notebook/lib/python3.8/site-packages/coffea/nanoevents/mapping/uproot.py:96: UserWarning: Skipping AnalysisHLT_e7_lhmedium_nod0_mu24 as it is it cannot be represented as an Awkward array\n",
      "  warnings.warn(\n",
      "/srv/conda/envs/notebook/lib/python3.8/site-packages/coffea/nanoevents/mapping/uproot.py:96: UserWarning: Skipping AnalysisHLT_e9_lhvloose_nod0_mu20_mu8noL1 as it is it cannot be represented as an Awkward array\n",
      "  warnings.warn(\n",
      "/srv/conda/envs/notebook/lib/python3.8/site-packages/coffea/nanoevents/mapping/uproot.py:96: UserWarning: Skipping AnalysisHLT_e9_lhvloose_nod0_mu20_mu8noL1_L1EM7_MU20 as it is it cannot be represented as an Awkward array\n",
      "  warnings.warn(\n",
      "/srv/conda/envs/notebook/lib/python3.8/site-packages/coffea/nanoevents/mapping/uproot.py:96: UserWarning: Skipping AnalysisHLT_g120_loose as it is it cannot be represented as an Awkward array\n",
      "  warnings.warn(\n",
      "/srv/conda/envs/notebook/lib/python3.8/site-packages/coffea/nanoevents/mapping/uproot.py:96: UserWarning: Skipping AnalysisHLT_g140_loose as it is it cannot be represented as an Awkward array\n",
      "  warnings.warn(\n",
      "/srv/conda/envs/notebook/lib/python3.8/site-packages/coffea/nanoevents/mapping/uproot.py:96: UserWarning: Skipping AnalysisHLT_g140_tight as it is it cannot be represented as an Awkward array\n",
      "  warnings.warn(\n",
      "/srv/conda/envs/notebook/lib/python3.8/site-packages/coffea/nanoevents/mapping/uproot.py:96: UserWarning: Skipping AnalysisHLT_g200_etcut as it is it cannot be represented as an Awkward array\n",
      "  warnings.warn(\n",
      "/srv/conda/envs/notebook/lib/python3.8/site-packages/coffea/nanoevents/mapping/uproot.py:96: UserWarning: Skipping AnalysisHLT_g200_loose as it is it cannot be represented as an Awkward array\n",
      "  warnings.warn(\n",
      "/srv/conda/envs/notebook/lib/python3.8/site-packages/coffea/nanoevents/mapping/uproot.py:96: UserWarning: Skipping AnalysisHLT_g300_etcut as it is it cannot be represented as an Awkward array\n",
      "  warnings.warn(\n",
      "/srv/conda/envs/notebook/lib/python3.8/site-packages/coffea/nanoevents/mapping/uproot.py:96: UserWarning: Skipping AnalysisHLT_g300_etcut_L1EM24VHI as it is it cannot be represented as an Awkward array\n",
      "  warnings.warn(\n",
      "/srv/conda/envs/notebook/lib/python3.8/site-packages/coffea/nanoevents/mapping/uproot.py:96: UserWarning: Skipping AnalysisHLT_g35_loose_g25_loose as it is it cannot be represented as an Awkward array\n",
      "  warnings.warn(\n",
      "/srv/conda/envs/notebook/lib/python3.8/site-packages/coffea/nanoevents/mapping/uproot.py:96: UserWarning: Skipping AnalysisHLT_g35_loose_g25_loose_L12EM20VH as it is it cannot be represented as an Awkward array\n",
      "  warnings.warn(\n",
      "/srv/conda/envs/notebook/lib/python3.8/site-packages/coffea/nanoevents/mapping/uproot.py:96: UserWarning: Skipping AnalysisHLT_g35_medium_g25_medium_L12EM20VH as it is it cannot be represented as an Awkward array\n",
      "  warnings.warn(\n",
      "/srv/conda/envs/notebook/lib/python3.8/site-packages/coffea/nanoevents/mapping/uproot.py:96: UserWarning: Skipping AnalysisHLT_g35_medium_g25_medium_L1EM7_EMPTY as it is it cannot be represented as an Awkward array\n",
      "  warnings.warn(\n",
      "/srv/conda/envs/notebook/lib/python3.8/site-packages/coffea/nanoevents/mapping/uproot.py:96: UserWarning: Skipping AnalysisHLT_g35_medium_g25_medium_L1EM7_UNPAIRED_ISO as it is it cannot be represented as an Awkward array\n",
      "  warnings.warn(\n",
      "/srv/conda/envs/notebook/lib/python3.8/site-packages/coffea/nanoevents/mapping/uproot.py:96: UserWarning: Skipping AnalysisHLT_id_cosmicid_L1MU11_EMPTY as it is it cannot be represented as an Awkward array\n",
      "  warnings.warn(\n",
      "/srv/conda/envs/notebook/lib/python3.8/site-packages/coffea/nanoevents/mapping/uproot.py:96: UserWarning: Skipping AnalysisHLT_mu11_2mu4noL1_nscan03_L1MU11_2MU6 as it is it cannot be represented as an Awkward array\n",
      "  warnings.warn(\n",
      "/srv/conda/envs/notebook/lib/python3.8/site-packages/coffea/nanoevents/mapping/uproot.py:96: UserWarning: Skipping AnalysisHLT_mu11_L1MU10_2mu4noL1_nscan03_L1MU10_2MU6 as it is it cannot be represented as an Awkward array\n",
      "  warnings.warn(\n",
      "/srv/conda/envs/notebook/lib/python3.8/site-packages/coffea/nanoevents/mapping/uproot.py:96: UserWarning: Skipping AnalysisHLT_mu11_nomucomb_2mu4noL1_nscan03_L1MU11_2MU6 as it is it cannot be represented as an Awkward array\n",
      "  warnings.warn(\n",
      "/srv/conda/envs/notebook/lib/python3.8/site-packages/coffea/nanoevents/mapping/uproot.py:96: UserWarning: Skipping AnalysisHLT_mu13_mu13_idperf_Zmumu as it is it cannot be represented as an Awkward array\n",
      "  warnings.warn(\n",
      "/srv/conda/envs/notebook/lib/python3.8/site-packages/coffea/nanoevents/mapping/uproot.py:96: UserWarning: Skipping AnalysisHLT_mu14_iloose_tau25_medium1_tracktwo as it is it cannot be represented as an Awkward array\n",
      "  warnings.warn(\n",
      "/srv/conda/envs/notebook/lib/python3.8/site-packages/coffea/nanoevents/mapping/uproot.py:96: UserWarning: Skipping AnalysisHLT_mu14_iloose_tau35_medium1_tracktwo as it is it cannot be represented as an Awkward array\n",
      "  warnings.warn(\n",
      "/srv/conda/envs/notebook/lib/python3.8/site-packages/coffea/nanoevents/mapping/uproot.py:96: UserWarning: Skipping AnalysisHLT_mu14_ivarloose_L1MU11_tau35_medium1_tracktwoEF_L1MU11_TAU20IM as it is it cannot be represented as an Awkward array\n",
      "  warnings.warn(\n",
      "/srv/conda/envs/notebook/lib/python3.8/site-packages/coffea/nanoevents/mapping/uproot.py:96: UserWarning: Skipping AnalysisHLT_mu14_ivarloose_L1MU11_tau35_medium1_tracktwoMVA_L1MU11_TAU20IM as it is it cannot be represented as an Awkward array\n",
      "  warnings.warn(\n",
      "/srv/conda/envs/notebook/lib/python3.8/site-packages/coffea/nanoevents/mapping/uproot.py:96: UserWarning: Skipping AnalysisHLT_mu14_ivarloose_L1MU11_tau35_medium1_tracktwo_L1MU11_TAU20IM as it is it cannot be represented as an Awkward array\n",
      "  warnings.warn(\n",
      "/srv/conda/envs/notebook/lib/python3.8/site-packages/coffea/nanoevents/mapping/uproot.py:96: UserWarning: Skipping AnalysisHLT_mu14_ivarloose_L1MU11_tau35_mediumRNN_tracktwoMVA_L1MU11_TAU20IM as it is it cannot be represented as an Awkward array\n",
      "  warnings.warn(\n",
      "/srv/conda/envs/notebook/lib/python3.8/site-packages/coffea/nanoevents/mapping/uproot.py:96: UserWarning: Skipping AnalysisHLT_mu14_ivarloose_tau25_medium1_tracktwo as it is it cannot be represented as an Awkward array\n",
      "  warnings.warn(\n",
      "/srv/conda/envs/notebook/lib/python3.8/site-packages/coffea/nanoevents/mapping/uproot.py:96: UserWarning: Skipping AnalysisHLT_mu14_ivarloose_tau25_medium1_tracktwoEF as it is it cannot be represented as an Awkward array\n",
      "  warnings.warn(\n",
      "/srv/conda/envs/notebook/lib/python3.8/site-packages/coffea/nanoevents/mapping/uproot.py:96: UserWarning: Skipping AnalysisHLT_mu14_ivarloose_tau25_medium1_tracktwoEF_L1DR-MU10TAU12I_TAU12I-J25 as it is it cannot be represented as an Awkward array\n",
      "  warnings.warn(\n",
      "/srv/conda/envs/notebook/lib/python3.8/site-packages/coffea/nanoevents/mapping/uproot.py:96: UserWarning: Skipping AnalysisHLT_mu14_ivarloose_tau25_medium1_tracktwoEF_L1MU10_TAU12IM_3J12 as it is it cannot be represented as an Awkward array\n",
      "  warnings.warn(\n",
      "/srv/conda/envs/notebook/lib/python3.8/site-packages/coffea/nanoevents/mapping/uproot.py:96: UserWarning: Skipping AnalysisHLT_mu14_ivarloose_tau25_medium1_tracktwoMVA_L1DR-MU10TAU12I_TAU12I-J25 as it is it cannot be represented as an Awkward array\n",
      "  warnings.warn(\n",
      "/srv/conda/envs/notebook/lib/python3.8/site-packages/coffea/nanoevents/mapping/uproot.py:96: UserWarning: Skipping AnalysisHLT_mu14_ivarloose_tau25_medium1_tracktwoMVA_L1MU10_TAU12IM_3J12 as it is it cannot be represented as an Awkward array\n",
      "  warnings.warn(\n",
      "/srv/conda/envs/notebook/lib/python3.8/site-packages/coffea/nanoevents/mapping/uproot.py:96: UserWarning: Skipping AnalysisHLT_mu14_ivarloose_tau25_medium1_tracktwo_L1DR-MU10TAU12I_TAU12I-J25 as it is it cannot be represented as an Awkward array\n",
      "  warnings.warn(\n",
      "/srv/conda/envs/notebook/lib/python3.8/site-packages/coffea/nanoevents/mapping/uproot.py:96: UserWarning: Skipping AnalysisHLT_mu14_ivarloose_tau25_medium1_tracktwo_L1MU10_TAU12IM_3J12 as it is it cannot be represented as an Awkward array\n",
      "  warnings.warn(\n",
      "/srv/conda/envs/notebook/lib/python3.8/site-packages/coffea/nanoevents/mapping/uproot.py:96: UserWarning: Skipping AnalysisHLT_mu14_ivarloose_tau25_mediumRNN_tracktwoMVA as it is it cannot be represented as an Awkward array\n",
      "  warnings.warn(\n",
      "/srv/conda/envs/notebook/lib/python3.8/site-packages/coffea/nanoevents/mapping/uproot.py:96: UserWarning: Skipping AnalysisHLT_mu14_ivarloose_tau25_mediumRNN_tracktwoMVA_L1DR-MU10TAU12I_TAU12I-J25 as it is it cannot be represented as an Awkward array\n",
      "  warnings.warn(\n",
      "/srv/conda/envs/notebook/lib/python3.8/site-packages/coffea/nanoevents/mapping/uproot.py:96: UserWarning: Skipping AnalysisHLT_mu14_ivarloose_tau25_mediumRNN_tracktwoMVA_L1MU10_TAU12IM_3J12 as it is it cannot be represented as an Awkward array\n",
      "  warnings.warn(\n",
      "/srv/conda/envs/notebook/lib/python3.8/site-packages/coffea/nanoevents/mapping/uproot.py:96: UserWarning: Skipping AnalysisHLT_mu14_ivarloose_tau35_medium1_tracktwo as it is it cannot be represented as an Awkward array\n",
      "  warnings.warn(\n",
      "/srv/conda/envs/notebook/lib/python3.8/site-packages/coffea/nanoevents/mapping/uproot.py:96: UserWarning: Skipping AnalysisHLT_mu14_ivarloose_tau35_medium1_tracktwoEF as it is it cannot be represented as an Awkward array\n",
      "  warnings.warn(\n",
      "/srv/conda/envs/notebook/lib/python3.8/site-packages/coffea/nanoevents/mapping/uproot.py:96: UserWarning: Skipping AnalysisHLT_mu14_ivarloose_tau35_medium1_tracktwoEF_L1MU10_TAU20IM_J25_2J20 as it is it cannot be represented as an Awkward array\n",
      "  warnings.warn(\n",
      "/srv/conda/envs/notebook/lib/python3.8/site-packages/coffea/nanoevents/mapping/uproot.py:96: UserWarning: Skipping AnalysisHLT_mu14_ivarloose_tau35_medium1_tracktwoMVA_L1MU10_TAU20IM_J25_2J20 as it is it cannot be represented as an Awkward array\n",
      "  warnings.warn(\n",
      "/srv/conda/envs/notebook/lib/python3.8/site-packages/coffea/nanoevents/mapping/uproot.py:96: UserWarning: Skipping AnalysisHLT_mu14_ivarloose_tau35_medium1_tracktwo_L1MU10_TAU20IM_J25_2J20 as it is it cannot be represented as an Awkward array\n",
      "  warnings.warn(\n",
      "/srv/conda/envs/notebook/lib/python3.8/site-packages/coffea/nanoevents/mapping/uproot.py:96: UserWarning: Skipping AnalysisHLT_mu14_ivarloose_tau35_mediumRNN_tracktwoMVA as it is it cannot be represented as an Awkward array\n",
      "  warnings.warn(\n",
      "/srv/conda/envs/notebook/lib/python3.8/site-packages/coffea/nanoevents/mapping/uproot.py:96: UserWarning: Skipping AnalysisHLT_mu14_ivarloose_tau35_mediumRNN_tracktwoMVA_L1MU10_TAU20IM_J25_2J20 as it is it cannot be represented as an Awkward array\n",
      "  warnings.warn(\n",
      "/srv/conda/envs/notebook/lib/python3.8/site-packages/coffea/nanoevents/mapping/uproot.py:96: UserWarning: Skipping AnalysisHLT_mu14_tau25_medium1_tracktwo as it is it cannot be represented as an Awkward array\n",
      "  warnings.warn(\n",
      "/srv/conda/envs/notebook/lib/python3.8/site-packages/coffea/nanoevents/mapping/uproot.py:96: UserWarning: Skipping AnalysisHLT_mu14_tau35_medium1_tracktwo as it is it cannot be represented as an Awkward array\n",
      "  warnings.warn(\n",
      "/srv/conda/envs/notebook/lib/python3.8/site-packages/coffea/nanoevents/mapping/uproot.py:96: UserWarning: Skipping AnalysisHLT_mu20_2mu2noL1_JpsimumuFS as it is it cannot be represented as an Awkward array\n",
      "  warnings.warn(\n",
      "/srv/conda/envs/notebook/lib/python3.8/site-packages/coffea/nanoevents/mapping/uproot.py:96: UserWarning: Skipping AnalysisHLT_mu20_2mu4_JpsimumuL2 as it is it cannot be represented as an Awkward array\n",
      "  warnings.warn(\n",
      "/srv/conda/envs/notebook/lib/python3.8/site-packages/coffea/nanoevents/mapping/uproot.py:96: UserWarning: Skipping AnalysisHLT_mu20_2mu4noL1 as it is it cannot be represented as an Awkward array\n",
      "  warnings.warn(\n",
      "/srv/conda/envs/notebook/lib/python3.8/site-packages/coffea/nanoevents/mapping/uproot.py:96: UserWarning: Skipping AnalysisHLT_mu20_ivarmedium_mu8noL1 as it is it cannot be represented as an Awkward array\n",
      "  warnings.warn(\n",
      "/srv/conda/envs/notebook/lib/python3.8/site-packages/coffea/nanoevents/mapping/uproot.py:96: UserWarning: Skipping AnalysisHLT_mu20_msonly_iloosems_mu6noL1_msonly_nscan05_L1MU4_UNPAIRED_ISO as it is it cannot be represented as an Awkward array\n",
      "  warnings.warn(\n",
      "/srv/conda/envs/notebook/lib/python3.8/site-packages/coffea/nanoevents/mapping/uproot.py:96: UserWarning: Skipping AnalysisHLT_mu20_msonly_iloosems_mu6noL1_msonly_nscan05_L1MU6_EMPTY as it is it cannot be represented as an Awkward array\n",
      "  warnings.warn(\n",
      "/srv/conda/envs/notebook/lib/python3.8/site-packages/coffea/nanoevents/mapping/uproot.py:96: UserWarning: Skipping AnalysisHLT_mu20_msonly_mu10noL1_msonly_nscan05_noComb as it is it cannot be represented as an Awkward array\n",
      "  warnings.warn(\n",
      "/srv/conda/envs/notebook/lib/python3.8/site-packages/coffea/nanoevents/mapping/uproot.py:96: UserWarning: Skipping AnalysisHLT_mu20_msonly_mu10noL1_msonly_nscan05_noComb_L1MU4_UNPAIRED_ISO as it is it cannot be represented as an Awkward array\n",
      "  warnings.warn(\n",
      "/srv/conda/envs/notebook/lib/python3.8/site-packages/coffea/nanoevents/mapping/uproot.py:96: UserWarning: Skipping AnalysisHLT_mu20_msonly_mu10noL1_msonly_nscan05_noComb_L1MU6_EMPTY as it is it cannot be represented as an Awkward array\n",
      "  warnings.warn(\n",
      "/srv/conda/envs/notebook/lib/python3.8/site-packages/coffea/nanoevents/mapping/uproot.py:96: UserWarning: Skipping AnalysisHLT_mu20_msonly_mu15noL1_msonly_nscan05_noComb as it is it cannot be represented as an Awkward array\n",
      "  warnings.warn(\n",
      "/srv/conda/envs/notebook/lib/python3.8/site-packages/coffea/nanoevents/mapping/uproot.py:96: UserWarning: Skipping AnalysisHLT_mu20_msonly_mu15noL1_msonly_nscan05_noComb_L1MU4_UNPAIRED_ISO as it is it cannot be represented as an Awkward array\n",
      "  warnings.warn(\n",
      "/srv/conda/envs/notebook/lib/python3.8/site-packages/coffea/nanoevents/mapping/uproot.py:96: UserWarning: Skipping AnalysisHLT_mu20_msonly_mu15noL1_msonly_nscan05_noComb_L1MU6_EMPTY as it is it cannot be represented as an Awkward array\n",
      "  warnings.warn(\n",
      "/srv/conda/envs/notebook/lib/python3.8/site-packages/coffea/nanoevents/mapping/uproot.py:96: UserWarning: Skipping AnalysisHLT_mu20_msonly_mu6noL1_msonly_nscan05 as it is it cannot be represented as an Awkward array\n",
      "  warnings.warn(\n",
      "/srv/conda/envs/notebook/lib/python3.8/site-packages/coffea/nanoevents/mapping/uproot.py:96: UserWarning: Skipping AnalysisHLT_mu20_mu8noL1 as it is it cannot be represented as an Awkward array\n",
      "  warnings.warn(\n",
      "/srv/conda/envs/notebook/lib/python3.8/site-packages/coffea/nanoevents/mapping/uproot.py:96: UserWarning: Skipping AnalysisHLT_mu20_nomucomb_mu6noL1_nscan03 as it is it cannot be represented as an Awkward array\n",
      "  warnings.warn(\n",
      "/srv/conda/envs/notebook/lib/python3.8/site-packages/coffea/nanoevents/mapping/uproot.py:96: UserWarning: Skipping AnalysisHLT_mu22_mu8noL1 as it is it cannot be represented as an Awkward array\n",
      "  warnings.warn(\n",
      "/srv/conda/envs/notebook/lib/python3.8/site-packages/coffea/nanoevents/mapping/uproot.py:96: UserWarning: Skipping AnalysisHLT_mu22_mu8noL1_TagandProbe as it is it cannot be represented as an Awkward array\n",
      "  warnings.warn(\n",
      "/srv/conda/envs/notebook/lib/python3.8/site-packages/coffea/nanoevents/mapping/uproot.py:96: UserWarning: Skipping AnalysisHLT_mu24_iloose as it is it cannot be represented as an Awkward array\n",
      "  warnings.warn(\n",
      "/srv/conda/envs/notebook/lib/python3.8/site-packages/coffea/nanoevents/mapping/uproot.py:96: UserWarning: Skipping AnalysisHLT_mu24_imedium as it is it cannot be represented as an Awkward array\n",
      "  warnings.warn(\n",
      "/srv/conda/envs/notebook/lib/python3.8/site-packages/coffea/nanoevents/mapping/uproot.py:96: UserWarning: Skipping AnalysisHLT_mu24_ivarloose as it is it cannot be represented as an Awkward array\n",
      "  warnings.warn(\n",
      "/srv/conda/envs/notebook/lib/python3.8/site-packages/coffea/nanoevents/mapping/uproot.py:96: UserWarning: Skipping AnalysisHLT_mu24_ivarmedium as it is it cannot be represented as an Awkward array\n",
      "  warnings.warn(\n",
      "/srv/conda/envs/notebook/lib/python3.8/site-packages/coffea/nanoevents/mapping/uproot.py:96: UserWarning: Skipping AnalysisHLT_mu24_mu8noL1 as it is it cannot be represented as an Awkward array\n",
      "  warnings.warn(\n",
      "/srv/conda/envs/notebook/lib/python3.8/site-packages/coffea/nanoevents/mapping/uproot.py:96: UserWarning: Skipping AnalysisHLT_mu26_ivarmedium as it is it cannot be represented as an Awkward array\n",
      "  warnings.warn(\n",
      "/srv/conda/envs/notebook/lib/python3.8/site-packages/coffea/nanoevents/mapping/uproot.py:96: UserWarning: Skipping AnalysisHLT_mu40 as it is it cannot be represented as an Awkward array\n",
      "  warnings.warn(\n",
      "/srv/conda/envs/notebook/lib/python3.8/site-packages/coffea/nanoevents/mapping/uproot.py:96: UserWarning: Skipping AnalysisHLT_mu50 as it is it cannot be represented as an Awkward array\n",
      "  warnings.warn(\n",
      "/srv/conda/envs/notebook/lib/python3.8/site-packages/coffea/nanoevents/mapping/uproot.py:96: UserWarning: Skipping AnalysisHLT_mu60 as it is it cannot be represented as an Awkward array\n",
      "  warnings.warn(\n",
      "/srv/conda/envs/notebook/lib/python3.8/site-packages/coffea/nanoevents/mapping/uproot.py:96: UserWarning: Skipping AnalysisHLT_mu60_0eta105_msonly as it is it cannot be represented as an Awkward array\n",
      "  warnings.warn(\n",
      "/srv/conda/envs/notebook/lib/python3.8/site-packages/coffea/nanoevents/mapping/uproot.py:96: UserWarning: Skipping AnalysisHLT_mu6_2mu4 as it is it cannot be represented as an Awkward array\n",
      "  warnings.warn(\n",
      "/srv/conda/envs/notebook/lib/python3.8/site-packages/coffea/nanoevents/mapping/uproot.py:96: UserWarning: Skipping AnalysisHLT_mu6_dRl1_mu20_msonly_iloosems_mu6noL1_dRl1_msonly as it is it cannot be represented as an Awkward array\n",
      "  warnings.warn(\n",
      "/srv/conda/envs/notebook/lib/python3.8/site-packages/coffea/nanoevents/mapping/uproot.py:96: UserWarning: Skipping AnalysisHLT_mu6_iloose_mu6_11invm24_noos as it is it cannot be represented as an Awkward array\n",
      "  warnings.warn(\n",
      "/srv/conda/envs/notebook/lib/python3.8/site-packages/coffea/nanoevents/mapping/uproot.py:96: UserWarning: Skipping AnalysisHLT_mu6_nomucomb_2mu4_nomucomb_L1MU6_3MU4 as it is it cannot be represented as an Awkward array\n",
      "  warnings.warn(\n",
      "/srv/conda/envs/notebook/lib/python3.8/site-packages/coffea/nanoevents/mapping/uproot.py:96: UserWarning: Skipping AnalysisHLT_mu80_msonly_3layersEC as it is it cannot be represented as an Awkward array\n",
      "  warnings.warn(\n",
      "/srv/conda/envs/notebook/lib/python3.8/site-packages/coffea/nanoevents/mapping/uproot.py:96: UserWarning: Skipping AnalysisHLT_tau125_medium1_track as it is it cannot be represented as an Awkward array\n",
      "  warnings.warn(\n",
      "/srv/conda/envs/notebook/lib/python3.8/site-packages/coffea/nanoevents/mapping/uproot.py:96: UserWarning: Skipping AnalysisHLT_tau125_medium1_tracktwo as it is it cannot be represented as an Awkward array\n",
      "  warnings.warn(\n",
      "/srv/conda/envs/notebook/lib/python3.8/site-packages/coffea/nanoevents/mapping/uproot.py:96: UserWarning: Skipping AnalysisHLT_tau160_medium1_tracktwo as it is it cannot be represented as an Awkward array\n",
      "  warnings.warn(\n",
      "/srv/conda/envs/notebook/lib/python3.8/site-packages/coffea/nanoevents/mapping/uproot.py:96: UserWarning: Skipping AnalysisHLT_tau160_medium1_tracktwoEF_L1TAU100 as it is it cannot be represented as an Awkward array\n",
      "  warnings.warn(\n",
      "/srv/conda/envs/notebook/lib/python3.8/site-packages/coffea/nanoevents/mapping/uproot.py:96: UserWarning: Skipping AnalysisHLT_tau160_medium1_tracktwoMVA_L1TAU100 as it is it cannot be represented as an Awkward array\n",
      "  warnings.warn(\n",
      "/srv/conda/envs/notebook/lib/python3.8/site-packages/coffea/nanoevents/mapping/uproot.py:96: UserWarning: Skipping AnalysisHLT_tau160_medium1_tracktwo_L1TAU100 as it is it cannot be represented as an Awkward array\n",
      "  warnings.warn(\n",
      "/srv/conda/envs/notebook/lib/python3.8/site-packages/coffea/nanoevents/mapping/uproot.py:96: UserWarning: Skipping AnalysisHLT_tau160_mediumRNN_tracktwoMVA_L1TAU100 as it is it cannot be represented as an Awkward array\n",
      "  warnings.warn(\n",
      "/srv/conda/envs/notebook/lib/python3.8/site-packages/coffea/nanoevents/mapping/uproot.py:96: UserWarning: Skipping AnalysisHLT_tau35_loose1_tracktwo_tau25_loose1_tracktwo as it is it cannot be represented as an Awkward array\n",
      "  warnings.warn(\n",
      "/srv/conda/envs/notebook/lib/python3.8/site-packages/coffea/nanoevents/mapping/uproot.py:96: UserWarning: Skipping AnalysisHLT_tau35_medium1_tracktwoEF_tau25_medium1_tracktwoEF_03dR30_L1DR-TAU20ITAU12I-J25 as it is it cannot be represented as an Awkward array\n",
      "  warnings.warn(\n",
      "/srv/conda/envs/notebook/lib/python3.8/site-packages/coffea/nanoevents/mapping/uproot.py:96: UserWarning: Skipping AnalysisHLT_tau35_medium1_tracktwoEF_tau25_medium1_tracktwoEF_L1DR-TAU20ITAU12I-J25 as it is it cannot be represented as an Awkward array\n",
      "  warnings.warn(\n",
      "/srv/conda/envs/notebook/lib/python3.8/site-packages/coffea/nanoevents/mapping/uproot.py:96: UserWarning: Skipping AnalysisHLT_tau35_medium1_tracktwoEF_tau25_medium1_tracktwoEF_L1TAU20IM_2TAU12IM_4J12_0ETA23 as it is it cannot be represented as an Awkward array\n",
      "  warnings.warn(\n",
      "/srv/conda/envs/notebook/lib/python3.8/site-packages/coffea/nanoevents/mapping/uproot.py:96: UserWarning: Skipping AnalysisHLT_tau35_medium1_tracktwoEF_xe70_L1XE45 as it is it cannot be represented as an Awkward array\n",
      "  warnings.warn(\n",
      "/srv/conda/envs/notebook/lib/python3.8/site-packages/coffea/nanoevents/mapping/uproot.py:96: UserWarning: Skipping AnalysisHLT_tau35_medium1_tracktwoMVA_tau25_medium1_tracktwoMVA_03dR30_L1DR-TAU20ITAU12I-J25 as it is it cannot be represented as an Awkward array\n",
      "  warnings.warn(\n",
      "/srv/conda/envs/notebook/lib/python3.8/site-packages/coffea/nanoevents/mapping/uproot.py:96: UserWarning: Skipping AnalysisHLT_tau35_medium1_tracktwoMVA_tau25_medium1_tracktwoMVA_L1DR-TAU20ITAU12I-J25 as it is it cannot be represented as an Awkward array\n",
      "  warnings.warn(\n",
      "/srv/conda/envs/notebook/lib/python3.8/site-packages/coffea/nanoevents/mapping/uproot.py:96: UserWarning: Skipping AnalysisHLT_tau35_medium1_tracktwoMVA_tau25_medium1_tracktwoMVA_L1TAU20IM_2TAU12IM_4J12_0ETA23 as it is it cannot be represented as an Awkward array\n",
      "  warnings.warn(\n",
      "/srv/conda/envs/notebook/lib/python3.8/site-packages/coffea/nanoevents/mapping/uproot.py:96: UserWarning: Skipping AnalysisHLT_tau35_medium1_tracktwoMVA_xe70_L1XE45 as it is it cannot be represented as an Awkward array\n",
      "  warnings.warn(\n",
      "/srv/conda/envs/notebook/lib/python3.8/site-packages/coffea/nanoevents/mapping/uproot.py:96: UserWarning: Skipping AnalysisHLT_tau35_medium1_tracktwo_tau25_medium1_tracktwo as it is it cannot be represented as an Awkward array\n",
      "  warnings.warn(\n",
      "/srv/conda/envs/notebook/lib/python3.8/site-packages/coffea/nanoevents/mapping/uproot.py:96: UserWarning: Skipping AnalysisHLT_tau35_medium1_tracktwo_tau25_medium1_tracktwo_03dR30_L1DR-TAU20ITAU12I-J25 as it is it cannot be represented as an Awkward array\n",
      "  warnings.warn(\n",
      "/srv/conda/envs/notebook/lib/python3.8/site-packages/coffea/nanoevents/mapping/uproot.py:96: UserWarning: Skipping AnalysisHLT_tau35_medium1_tracktwo_tau25_medium1_tracktwo_L1DR-TAU20ITAU12I-J25 as it is it cannot be represented as an Awkward array\n",
      "  warnings.warn(\n",
      "/srv/conda/envs/notebook/lib/python3.8/site-packages/coffea/nanoevents/mapping/uproot.py:96: UserWarning: Skipping AnalysisHLT_tau35_medium1_tracktwo_tau25_medium1_tracktwo_L1TAU20IM_2TAU12IM as it is it cannot be represented as an Awkward array\n",
      "  warnings.warn(\n",
      "/srv/conda/envs/notebook/lib/python3.8/site-packages/coffea/nanoevents/mapping/uproot.py:96: UserWarning: Skipping AnalysisHLT_tau35_medium1_tracktwo_tau25_medium1_tracktwo_L1TAU20IM_2TAU12IM_4J12 as it is it cannot be represented as an Awkward array\n",
      "  warnings.warn(\n",
      "/srv/conda/envs/notebook/lib/python3.8/site-packages/coffea/nanoevents/mapping/uproot.py:96: UserWarning: Skipping AnalysisHLT_tau35_medium1_tracktwo_tau25_medium1_tracktwo_L1TAU20IM_2TAU12IM_4J12_0ETA23 as it is it cannot be represented as an Awkward array\n",
      "  warnings.warn(\n",
      "/srv/conda/envs/notebook/lib/python3.8/site-packages/coffea/nanoevents/mapping/uproot.py:96: UserWarning: Skipping AnalysisHLT_tau35_medium1_tracktwo_tau25_medium1_tracktwo_tautsf_L1DR-TAU20ITAU12I-J25 as it is it cannot be represented as an Awkward array\n",
      "  warnings.warn(\n",
      "/srv/conda/envs/notebook/lib/python3.8/site-packages/coffea/nanoevents/mapping/uproot.py:96: UserWarning: Skipping AnalysisHLT_tau35_medium1_tracktwo_tau25_medium1_tracktwo_xe50 as it is it cannot be represented as an Awkward array\n",
      "  warnings.warn(\n",
      "/srv/conda/envs/notebook/lib/python3.8/site-packages/coffea/nanoevents/mapping/uproot.py:96: UserWarning: Skipping AnalysisHLT_tau35_medium1_tracktwo_xe70_L1XE45 as it is it cannot be represented as an Awkward array\n",
      "  warnings.warn(\n",
      "/srv/conda/envs/notebook/lib/python3.8/site-packages/coffea/nanoevents/mapping/uproot.py:96: UserWarning: Skipping AnalysisHLT_tau35_mediumRNN_tracktwoMVA_tau25_mediumRNN_tracktwoMVA_03dR30_L1DR-TAU20ITAU12I-J25 as it is it cannot be represented as an Awkward array\n",
      "  warnings.warn(\n",
      "/srv/conda/envs/notebook/lib/python3.8/site-packages/coffea/nanoevents/mapping/uproot.py:96: UserWarning: Skipping AnalysisHLT_tau35_mediumRNN_tracktwoMVA_tau25_mediumRNN_tracktwoMVA_L1DR-TAU20ITAU12I-J25 as it is it cannot be represented as an Awkward array\n",
      "  warnings.warn(\n",
      "/srv/conda/envs/notebook/lib/python3.8/site-packages/coffea/nanoevents/mapping/uproot.py:96: UserWarning: Skipping AnalysisHLT_tau35_mediumRNN_tracktwoMVA_tau25_mediumRNN_tracktwoMVA_L1TAU20IM_2TAU12IM_4J12_0ETA23 as it is it cannot be represented as an Awkward array\n",
      "  warnings.warn(\n",
      "/srv/conda/envs/notebook/lib/python3.8/site-packages/coffea/nanoevents/mapping/uproot.py:96: UserWarning: Skipping AnalysisHLT_tau35_mediumRNN_tracktwoMVA_xe70_L1XE45 as it is it cannot be represented as an Awkward array\n",
      "  warnings.warn(\n",
      "/srv/conda/envs/notebook/lib/python3.8/site-packages/coffea/nanoevents/mapping/uproot.py:96: UserWarning: Skipping AnalysisHLT_tau40_medium1_tracktwoEF_tau35_medium1_tracktwoEF as it is it cannot be represented as an Awkward array\n",
      "  warnings.warn(\n",
      "/srv/conda/envs/notebook/lib/python3.8/site-packages/coffea/nanoevents/mapping/uproot.py:96: UserWarning: Skipping AnalysisHLT_tau40_medium1_tracktwoMVA_tau35_medium1_tracktwoMVA as it is it cannot be represented as an Awkward array\n",
      "  warnings.warn(\n",
      "/srv/conda/envs/notebook/lib/python3.8/site-packages/coffea/nanoevents/mapping/uproot.py:96: UserWarning: Skipping AnalysisHLT_tau40_medium1_tracktwo_tau35_medium1_tracktwo as it is it cannot be represented as an Awkward array\n",
      "  warnings.warn(\n",
      "/srv/conda/envs/notebook/lib/python3.8/site-packages/coffea/nanoevents/mapping/uproot.py:96: UserWarning: Skipping AnalysisHLT_tau40_mediumRNN_tracktwoMVA_tau35_mediumRNN_tracktwoMVA as it is it cannot be represented as an Awkward array\n",
      "  warnings.warn(\n",
      "/srv/conda/envs/notebook/lib/python3.8/site-packages/coffea/nanoevents/mapping/uproot.py:96: UserWarning: Skipping AnalysisHLT_tau60_medium1_tracktwoEF_tau25_medium1_tracktwoEF_xe50 as it is it cannot be represented as an Awkward array\n",
      "  warnings.warn(\n",
      "/srv/conda/envs/notebook/lib/python3.8/site-packages/coffea/nanoevents/mapping/uproot.py:96: UserWarning: Skipping AnalysisHLT_tau60_medium1_tracktwoMVA_tau25_medium1_tracktwoMVA_xe50 as it is it cannot be represented as an Awkward array\n",
      "  warnings.warn(\n",
      "/srv/conda/envs/notebook/lib/python3.8/site-packages/coffea/nanoevents/mapping/uproot.py:96: UserWarning: Skipping AnalysisHLT_tau60_medium1_tracktwo_tau25_medium1_tracktwo_xe50 as it is it cannot be represented as an Awkward array\n",
      "  warnings.warn(\n",
      "/srv/conda/envs/notebook/lib/python3.8/site-packages/coffea/nanoevents/mapping/uproot.py:96: UserWarning: Skipping AnalysisHLT_tau60_medium1_tracktwo_tau35_medium1_tracktwo as it is it cannot be represented as an Awkward array\n",
      "  warnings.warn(\n",
      "/srv/conda/envs/notebook/lib/python3.8/site-packages/coffea/nanoevents/mapping/uproot.py:96: UserWarning: Skipping AnalysisHLT_tau60_mediumRNN_tracktwoMVA_tau25_mediumRNN_tracktwoMVA_xe50 as it is it cannot be represented as an Awkward array\n",
      "  warnings.warn(\n",
      "/srv/conda/envs/notebook/lib/python3.8/site-packages/coffea/nanoevents/mapping/uproot.py:96: UserWarning: Skipping AnalysisHLT_tau80_medium1_tracktwoEF_L1TAU60_tau35_medium1_tracktwoEF_L1TAU12IM_L1TAU60_DR-TAU20ITAU12I as it is it cannot be represented as an Awkward array\n",
      "  warnings.warn(\n",
      "/srv/conda/envs/notebook/lib/python3.8/site-packages/coffea/nanoevents/mapping/uproot.py:96: UserWarning: Skipping AnalysisHLT_tau80_medium1_tracktwoEF_L1TAU60_tau60_medium1_tracktwoEF_L1TAU40 as it is it cannot be represented as an Awkward array\n",
      "  warnings.warn(\n",
      "/srv/conda/envs/notebook/lib/python3.8/site-packages/coffea/nanoevents/mapping/uproot.py:96: UserWarning: Skipping AnalysisHLT_tau80_medium1_tracktwoMVA_L1TAU60_tau35_medium1_tracktwoMVA_L1TAU12IM_L1TAU60_DR-TAU20ITAU12I as it is it cannot be represented as an Awkward array\n",
      "  warnings.warn(\n",
      "/srv/conda/envs/notebook/lib/python3.8/site-packages/coffea/nanoevents/mapping/uproot.py:96: UserWarning: Skipping AnalysisHLT_tau80_medium1_tracktwoMVA_L1TAU60_tau60_medium1_tracktwoMVA_L1TAU40 as it is it cannot be represented as an Awkward array\n",
      "  warnings.warn(\n",
      "/srv/conda/envs/notebook/lib/python3.8/site-packages/coffea/nanoevents/mapping/uproot.py:96: UserWarning: Skipping AnalysisHLT_tau80_medium1_tracktwo_L1TAU60 as it is it cannot be represented as an Awkward array\n",
      "  warnings.warn(\n",
      "/srv/conda/envs/notebook/lib/python3.8/site-packages/coffea/nanoevents/mapping/uproot.py:96: UserWarning: Skipping AnalysisHLT_tau80_medium1_tracktwo_L1TAU60_tau35_medium1_tracktwo_L1TAU12IM_L1TAU60_DR-TAU20ITAU12I as it is it cannot be represented as an Awkward array\n",
      "  warnings.warn(\n",
      "/srv/conda/envs/notebook/lib/python3.8/site-packages/coffea/nanoevents/mapping/uproot.py:96: UserWarning: Skipping AnalysisHLT_tau80_medium1_tracktwo_L1TAU60_tau50_medium1_tracktwo_L1TAU12 as it is it cannot be represented as an Awkward array\n",
      "  warnings.warn(\n",
      "/srv/conda/envs/notebook/lib/python3.8/site-packages/coffea/nanoevents/mapping/uproot.py:96: UserWarning: Skipping AnalysisHLT_tau80_medium1_tracktwo_L1TAU60_tau60_medium1_tracktwo_L1TAU40 as it is it cannot be represented as an Awkward array\n",
      "  warnings.warn(\n",
      "/srv/conda/envs/notebook/lib/python3.8/site-packages/coffea/nanoevents/mapping/uproot.py:96: UserWarning: Skipping AnalysisHLT_tau80_mediumRNN_tracktwoMVA_L1TAU60_tau35_mediumRNN_tracktwoMVA_L1TAU12IM_L1TAU60_DR-TAU20ITAU12I as it is it cannot be represented as an Awkward array\n",
      "  warnings.warn(\n",
      "/srv/conda/envs/notebook/lib/python3.8/site-packages/coffea/nanoevents/mapping/uproot.py:96: UserWarning: Skipping AnalysisHLT_tau80_mediumRNN_tracktwoMVA_L1TAU60_tau60_mediumRNN_tracktwoMVA_L1TAU40 as it is it cannot be represented as an Awkward array\n",
      "  warnings.warn(\n",
      "/srv/conda/envs/notebook/lib/python3.8/site-packages/coffea/nanoevents/mapping/uproot.py:96: UserWarning: Skipping PrimaryVerticesAuxDyn.neutralParticleLinks as it is it cannot be represented as an Awkward array\n",
      "  warnings.warn(\n",
      "/srv/conda/envs/notebook/lib/python3.8/site-packages/coffea/nanoevents/schemas/physlite.py:104: UserWarning: Can't zip collection TrigConfKeys\n",
      "  warnings.warn(f\"Can't zip collection {objname}\")\n",
      "/srv/conda/envs/notebook/lib/python3.8/site-packages/coffea/nanoevents/schemas/physlite.py:104: UserWarning: Can't zip collection EventInfoAux\n",
      "  warnings.warn(f\"Can't zip collection {objname}\")\n",
      "/srv/conda/envs/notebook/lib/python3.8/site-packages/coffea/nanoevents/schemas/physlite.py:104: UserWarning: Can't zip collection xTrigDecisionAux\n",
      "  warnings.warn(f\"Can't zip collection {objname}\")\n",
      "/srv/conda/envs/notebook/lib/python3.8/site-packages/coffea/nanoevents/schemas/physlite.py:104: UserWarning: Can't zip collection EventInfo\n",
      "  warnings.warn(f\"Can't zip collection {objname}\")\n",
      "/srv/conda/envs/notebook/lib/python3.8/site-packages/coffea/nanoevents/schemas/physlite.py:104: UserWarning: Can't zip collection xTrigDecision\n",
      "  warnings.warn(f\"Can't zip collection {objname}\")\n",
      "/srv/conda/envs/notebook/lib/python3.8/site-packages/coffea/nanoevents/schemas/physlite.py:104: UserWarning: Can't zip collection ElectronsAux\n",
      "  warnings.warn(f\"Can't zip collection {objname}\")\n",
      "/srv/conda/envs/notebook/lib/python3.8/site-packages/coffea/nanoevents/schemas/physlite.py:104: UserWarning: Can't zip collection HLT_2e12_lhloose_nod0_mu10Aux\n",
      "  warnings.warn(f\"Can't zip collection {objname}\")\n",
      "/srv/conda/envs/notebook/lib/python3.8/site-packages/coffea/nanoevents/schemas/physlite.py:104: UserWarning: Can't zip collection HLT_2e12_lhloose_nodeta_L12EM10VHAux\n",
      "  warnings.warn(f\"Can't zip collection {objname}\")\n",
      "/srv/conda/envs/notebook/lib/python3.8/site-packages/coffea/nanoevents/schemas/physlite.py:104: UserWarning: Can't zip collection HLT_2e12_lhloose_nodphires_L12EM10VHAux\n",
      "  warnings.warn(f\"Can't zip collection {objname}\")\n",
      "/srv/conda/envs/notebook/lib/python3.8/site-packages/coffea/nanoevents/schemas/physlite.py:104: UserWarning: Can't zip collection HLT_2e17_lhvloose_nod0Aux\n",
      "  warnings.warn(f\"Can't zip collection {objname}\")\n",
      "/srv/conda/envs/notebook/lib/python3.8/site-packages/coffea/nanoevents/schemas/physlite.py:104: UserWarning: Can't zip collection HLT_2e17_lhvloose_nod0_L12EM15VHIAux\n",
      "  warnings.warn(f\"Can't zip collection {objname}\")\n",
      "/srv/conda/envs/notebook/lib/python3.8/site-packages/coffea/nanoevents/schemas/physlite.py:104: UserWarning: Can't zip collection HLT_2e17_lhvloose_nod0_ringerAux\n",
      "  warnings.warn(f\"Can't zip collection {objname}\")\n",
      "/srv/conda/envs/notebook/lib/python3.8/site-packages/coffea/nanoevents/schemas/physlite.py:104: UserWarning: Can't zip collection HLT_2e17_lhvloose_nod0_ringer_L12EM15VHIAux\n",
      "  warnings.warn(f\"Can't zip collection {objname}\")\n",
      "/srv/conda/envs/notebook/lib/python3.8/site-packages/coffea/nanoevents/schemas/physlite.py:104: UserWarning: Can't zip collection HLT_2e24_lhvloose_nod0Aux\n",
      "  warnings.warn(f\"Can't zip collection {objname}\")\n",
      "/srv/conda/envs/notebook/lib/python3.8/site-packages/coffea/nanoevents/schemas/physlite.py:104: UserWarning: Can't zip collection HLT_2g20_loose_g15_looseAux\n",
      "  warnings.warn(f\"Can't zip collection {objname}\")\n",
      "/srv/conda/envs/notebook/lib/python3.8/site-packages/coffea/nanoevents/schemas/physlite.py:104: UserWarning: Can't zip collection HLT_2g20_tightAux\n",
      "  warnings.warn(f\"Can't zip collection {objname}\")\n",
      "/srv/conda/envs/notebook/lib/python3.8/site-packages/coffea/nanoevents/schemas/physlite.py:104: UserWarning: Can't zip collection HLT_2g20_tight_icalovloose_L12EM15VHIAux\n",
      "  warnings.warn(f\"Can't zip collection {objname}\")\n",
      "/srv/conda/envs/notebook/lib/python3.8/site-packages/coffea/nanoevents/schemas/physlite.py:104: UserWarning: Can't zip collection HLT_2g22_tightAux\n",
      "  warnings.warn(f\"Can't zip collection {objname}\")\n",
      "/srv/conda/envs/notebook/lib/python3.8/site-packages/coffea/nanoevents/schemas/physlite.py:104: UserWarning: Can't zip collection HLT_2g22_tight_L12EM15VHIAux\n",
      "  warnings.warn(f\"Can't zip collection {objname}\")\n",
      "/srv/conda/envs/notebook/lib/python3.8/site-packages/coffea/nanoevents/schemas/physlite.py:104: UserWarning: Can't zip collection HLT_2g22_tight_L1EM7_EMPTYAux\n",
      "  warnings.warn(f\"Can't zip collection {objname}\")\n",
      "/srv/conda/envs/notebook/lib/python3.8/site-packages/coffea/nanoevents/schemas/physlite.py:104: UserWarning: Can't zip collection HLT_2g22_tight_L1EM7_UNPAIRED_ISOAux\n",
      "  warnings.warn(f\"Can't zip collection {objname}\")\n",
      "/srv/conda/envs/notebook/lib/python3.8/site-packages/coffea/nanoevents/schemas/physlite.py:104: UserWarning: Can't zip collection HLT_2g22_tight_icalovlooseAux\n",
      "  warnings.warn(f\"Can't zip collection {objname}\")\n",
      "/srv/conda/envs/notebook/lib/python3.8/site-packages/coffea/nanoevents/schemas/physlite.py:104: UserWarning: Can't zip collection HLT_2g25_loose_g15_looseAux\n",
      "  warnings.warn(f\"Can't zip collection {objname}\")\n",
      "/srv/conda/envs/notebook/lib/python3.8/site-packages/coffea/nanoevents/schemas/physlite.py:104: UserWarning: Can't zip collection HLT_2g25_tight_L12EM20VHAux\n",
      "  warnings.warn(f\"Can't zip collection {objname}\")\n",
      "/srv/conda/envs/notebook/lib/python3.8/site-packages/coffea/nanoevents/schemas/physlite.py:104: UserWarning: Can't zip collection HLT_2g50_loose_L12EM20VHAux\n",
      "  warnings.warn(f\"Can't zip collection {objname}\")\n",
      "/srv/conda/envs/notebook/lib/python3.8/site-packages/coffea/nanoevents/schemas/physlite.py:104: UserWarning: Can't zip collection HLT_2mu10Aux\n",
      "  warnings.warn(f\"Can't zip collection {objname}\")\n",
      "/srv/conda/envs/notebook/lib/python3.8/site-packages/coffea/nanoevents/schemas/physlite.py:104: UserWarning: Can't zip collection HLT_2mu10_nomucombAux\n",
      "  warnings.warn(f\"Can't zip collection {objname}\")\n",
      "/srv/conda/envs/notebook/lib/python3.8/site-packages/coffea/nanoevents/schemas/physlite.py:104: UserWarning: Can't zip collection HLT_2mu14Aux\n",
      "  warnings.warn(f\"Can't zip collection {objname}\")\n",
      "/srv/conda/envs/notebook/lib/python3.8/site-packages/coffea/nanoevents/schemas/physlite.py:104: UserWarning: Can't zip collection HLT_2mu14_nomucombAux\n",
      "  warnings.warn(f\"Can't zip collection {objname}\")\n",
      "/srv/conda/envs/notebook/lib/python3.8/site-packages/coffea/nanoevents/schemas/physlite.py:104: UserWarning: Can't zip collection HLT_2mu20_L12MU20_OVERLAYAux\n",
      "  warnings.warn(f\"Can't zip collection {objname}\")\n",
      "/srv/conda/envs/notebook/lib/python3.8/site-packages/coffea/nanoevents/schemas/physlite.py:104: UserWarning: Can't zip collection HLT_2mu4_mu3_mu2noL1_L13MU4Aux\n",
      "  warnings.warn(f\"Can't zip collection {objname}\")\n",
      "/srv/conda/envs/notebook/lib/python3.8/site-packages/coffea/nanoevents/schemas/physlite.py:104: UserWarning: Can't zip collection HLT_2mu6_10invm30_pt2_z10Aux\n",
      "  warnings.warn(f\"Can't zip collection {objname}\")\n",
      "/srv/conda/envs/notebook/lib/python3.8/site-packages/coffea/nanoevents/schemas/physlite.py:104: UserWarning: Can't zip collection HLT_3g20_looseAux\n",
      "  warnings.warn(f\"Can't zip collection {objname}\")\n",
      "/srv/conda/envs/notebook/lib/python3.8/site-packages/coffea/nanoevents/schemas/physlite.py:104: UserWarning: Can't zip collection HLT_3mu3_mu3noL1_L13MU4Aux\n",
      "  warnings.warn(f\"Can't zip collection {objname}\")\n",
      "/srv/conda/envs/notebook/lib/python3.8/site-packages/coffea/nanoevents/schemas/physlite.py:104: UserWarning: Can't zip collection HLT_3mu4Aux\n",
      "  warnings.warn(f\"Can't zip collection {objname}\")\n",
      "/srv/conda/envs/notebook/lib/python3.8/site-packages/coffea/nanoevents/schemas/physlite.py:104: UserWarning: Can't zip collection HLT_3mu4_mu2noL1Aux\n",
      "  warnings.warn(f\"Can't zip collection {objname}\")\n",
      "/srv/conda/envs/notebook/lib/python3.8/site-packages/coffea/nanoevents/schemas/physlite.py:104: UserWarning: Can't zip collection HLT_3mu4_nomucombAux\n",
      "  warnings.warn(f\"Can't zip collection {objname}\")\n",
      "/srv/conda/envs/notebook/lib/python3.8/site-packages/coffea/nanoevents/schemas/physlite.py:104: UserWarning: Can't zip collection HLT_3mu4_nomucomb_mu2noL1Aux\n",
      "  warnings.warn(f\"Can't zip collection {objname}\")\n",
      "/srv/conda/envs/notebook/lib/python3.8/site-packages/coffea/nanoevents/schemas/physlite.py:104: UserWarning: Can't zip collection HLT_3mu6Aux\n",
      "  warnings.warn(f\"Can't zip collection {objname}\")\n",
      "/srv/conda/envs/notebook/lib/python3.8/site-packages/coffea/nanoevents/schemas/physlite.py:104: UserWarning: Can't zip collection HLT_3mu6_msonlyAux\n",
      "  warnings.warn(f\"Can't zip collection {objname}\")\n",
      "/srv/conda/envs/notebook/lib/python3.8/site-packages/coffea/nanoevents/schemas/physlite.py:104: UserWarning: Can't zip collection HLT_3mu6_msonly_L1MU4_UNPAIRED_ISOAux\n",
      "  warnings.warn(f\"Can't zip collection {objname}\")\n",
      "/srv/conda/envs/notebook/lib/python3.8/site-packages/coffea/nanoevents/schemas/physlite.py:104: UserWarning: Can't zip collection HLT_3mu6_msonly_L1MU6_EMPTYAux\n",
      "  warnings.warn(f\"Can't zip collection {objname}\")\n",
      "/srv/conda/envs/notebook/lib/python3.8/site-packages/coffea/nanoevents/schemas/physlite.py:104: UserWarning: Can't zip collection HLT_4mu4Aux\n",
      "  warnings.warn(f\"Can't zip collection {objname}\")\n",
      "/srv/conda/envs/notebook/lib/python3.8/site-packages/coffea/nanoevents/schemas/physlite.py:104: UserWarning: Can't zip collection HLT_4mu4_nomucombAux\n",
      "  warnings.warn(f\"Can't zip collection {objname}\")\n",
      "/srv/conda/envs/notebook/lib/python3.8/site-packages/coffea/nanoevents/schemas/physlite.py:104: UserWarning: Can't zip collection HLT_e120_lhloose_nod0Aux\n",
      "  warnings.warn(f\"Can't zip collection {objname}\")\n",
      "/srv/conda/envs/notebook/lib/python3.8/site-packages/coffea/nanoevents/schemas/physlite.py:104: UserWarning: Can't zip collection HLT_e12_lhloose_nod0_2mu10Aux\n",
      "  warnings.warn(f\"Can't zip collection {objname}\")\n",
      "/srv/conda/envs/notebook/lib/python3.8/site-packages/coffea/nanoevents/schemas/physlite.py:104: UserWarning: Can't zip collection HLT_e140_lhloose_nod0Aux\n",
      "  warnings.warn(f\"Can't zip collection {objname}\")\n",
      "/srv/conda/envs/notebook/lib/python3.8/site-packages/coffea/nanoevents/schemas/physlite.py:104: UserWarning: Can't zip collection HLT_e140_lhloose_nod0_L1EM24VHIAux\n",
      "  warnings.warn(f\"Can't zip collection {objname}\")\n",
      "/srv/conda/envs/notebook/lib/python3.8/site-packages/coffea/nanoevents/schemas/physlite.py:104: UserWarning: Can't zip collection HLT_e140_lhloose_nod0_ringerAux\n",
      "  warnings.warn(f\"Can't zip collection {objname}\")\n",
      "/srv/conda/envs/notebook/lib/python3.8/site-packages/coffea/nanoevents/schemas/physlite.py:104: UserWarning: Can't zip collection HLT_e140_lhvloose_nod0Aux\n",
      "  warnings.warn(f\"Can't zip collection {objname}\")\n",
      "/srv/conda/envs/notebook/lib/python3.8/site-packages/coffea/nanoevents/schemas/physlite.py:104: UserWarning: Can't zip collection HLT_e160_lhvloose_nod0Aux\n",
      "  warnings.warn(f\"Can't zip collection {objname}\")\n",
      "/srv/conda/envs/notebook/lib/python3.8/site-packages/coffea/nanoevents/schemas/physlite.py:104: UserWarning: Can't zip collection HLT_e17_lhloose_nod0_2e12_lhloose_nod0_L1EM15VH_3EM10VHAux\n",
      "  warnings.warn(f\"Can't zip collection {objname}\")\n",
      "/srv/conda/envs/notebook/lib/python3.8/site-packages/coffea/nanoevents/schemas/physlite.py:104: UserWarning: Can't zip collection HLT_e17_lhloose_nod0_2e9_lhloose_nod0Aux\n",
      "  warnings.warn(f\"Can't zip collection {objname}\")\n",
      "/srv/conda/envs/notebook/lib/python3.8/site-packages/coffea/nanoevents/schemas/physlite.py:104: UserWarning: Can't zip collection HLT_e17_lhloose_nod0_mu14Aux\n",
      "  warnings.warn(f\"Can't zip collection {objname}\")\n",
      "/srv/conda/envs/notebook/lib/python3.8/site-packages/coffea/nanoevents/schemas/physlite.py:104: UserWarning: Can't zip collection HLT_e17_lhmedium_iloose_tau25_medium1_tracktwoAux\n",
      "  warnings.warn(f\"Can't zip collection {objname}\")\n",
      "/srv/conda/envs/notebook/lib/python3.8/site-packages/coffea/nanoevents/schemas/physlite.py:104: UserWarning: Can't zip collection HLT_e17_lhmedium_nod0_iloose_tau25_medium1_tracktwoAux\n",
      "  warnings.warn(f\"Can't zip collection {objname}\")\n",
      "/srv/conda/envs/notebook/lib/python3.8/site-packages/coffea/nanoevents/schemas/physlite.py:104: UserWarning: Can't zip collection HLT_e17_lhmedium_nod0_ivarloose_tau25_medium1_tracktwoAux\n",
      "  warnings.warn(f\"Can't zip collection {objname}\")\n",
      "/srv/conda/envs/notebook/lib/python3.8/site-packages/coffea/nanoevents/schemas/physlite.py:104: UserWarning: Can't zip collection HLT_e17_lhmedium_nod0_ivarloose_tau25_medium1_tracktwoEFAux\n",
      "  warnings.warn(f\"Can't zip collection {objname}\")\n",
      "/srv/conda/envs/notebook/lib/python3.8/site-packages/coffea/nanoevents/schemas/physlite.py:104: UserWarning: Can't zip collection HLT_e17_lhmedium_nod0_ivarloose_tau25_medium1_tracktwoEF_L1DR-EM15TAU12I-J25Aux\n",
      "  warnings.warn(f\"Can't zip collection {objname}\")\n",
      "/srv/conda/envs/notebook/lib/python3.8/site-packages/coffea/nanoevents/schemas/physlite.py:104: UserWarning: Can't zip collection HLT_e17_lhmedium_nod0_ivarloose_tau25_medium1_tracktwoEF_L1EM15VHI_2TAU12IM_4J12Aux\n",
      "  warnings.warn(f\"Can't zip collection {objname}\")\n",
      "/srv/conda/envs/notebook/lib/python3.8/site-packages/coffea/nanoevents/schemas/physlite.py:104: UserWarning: Can't zip collection HLT_e17_lhmedium_nod0_ivarloose_tau25_medium1_tracktwoMVA_L1DR-EM15TAU12I-J25Aux\n",
      "  warnings.warn(f\"Can't zip collection {objname}\")\n",
      "/srv/conda/envs/notebook/lib/python3.8/site-packages/coffea/nanoevents/schemas/physlite.py:104: UserWarning: Can't zip collection HLT_e17_lhmedium_nod0_ivarloose_tau25_medium1_tracktwoMVA_L1EM15VHI_2TAU12IM_4J12Aux\n",
      "  warnings.warn(f\"Can't zip collection {objname}\")\n",
      "/srv/conda/envs/notebook/lib/python3.8/site-packages/coffea/nanoevents/schemas/physlite.py:104: UserWarning: Can't zip collection HLT_e17_lhmedium_nod0_ivarloose_tau25_medium1_tracktwo_L1DR-EM15TAU12I-J25Aux\n",
      "  warnings.warn(f\"Can't zip collection {objname}\")\n",
      "/srv/conda/envs/notebook/lib/python3.8/site-packages/coffea/nanoevents/schemas/physlite.py:104: UserWarning: Can't zip collection HLT_e17_lhmedium_nod0_ivarloose_tau25_medium1_tracktwo_L1EM15VHI_2TAU12IM_4J12Aux\n",
      "  warnings.warn(f\"Can't zip collection {objname}\")\n",
      "/srv/conda/envs/notebook/lib/python3.8/site-packages/coffea/nanoevents/schemas/physlite.py:104: UserWarning: Can't zip collection HLT_e17_lhmedium_nod0_ivarloose_tau25_mediumRNN_tracktwoMVAAux\n",
      "  warnings.warn(f\"Can't zip collection {objname}\")\n",
      "/srv/conda/envs/notebook/lib/python3.8/site-packages/coffea/nanoevents/schemas/physlite.py:104: UserWarning: Can't zip collection HLT_e17_lhmedium_nod0_ivarloose_tau25_mediumRNN_tracktwoMVA_L1DR-EM15TAU12I-J25Aux\n",
      "  warnings.warn(f\"Can't zip collection {objname}\")\n",
      "/srv/conda/envs/notebook/lib/python3.8/site-packages/coffea/nanoevents/schemas/physlite.py:104: UserWarning: Can't zip collection HLT_e17_lhmedium_nod0_ivarloose_tau25_mediumRNN_tracktwoMVA_L1EM15VHI_2TAU12IM_4J12Aux\n",
      "  warnings.warn(f\"Can't zip collection {objname}\")\n",
      "/srv/conda/envs/notebook/lib/python3.8/site-packages/coffea/nanoevents/schemas/physlite.py:104: UserWarning: Can't zip collection HLT_e17_lhmedium_nod0_tau25_medium1_tracktwoAux\n",
      "  warnings.warn(f\"Can't zip collection {objname}\")\n",
      "/srv/conda/envs/notebook/lib/python3.8/site-packages/coffea/nanoevents/schemas/physlite.py:104: UserWarning: Can't zip collection HLT_e17_lhmedium_nod0_tau80_medium1_tracktwoAux\n",
      "  warnings.warn(f\"Can't zip collection {objname}\")\n",
      "/srv/conda/envs/notebook/lib/python3.8/site-packages/coffea/nanoevents/schemas/physlite.py:104: UserWarning: Can't zip collection HLT_e17_lhmedium_tau25_medium1_tracktwoAux\n",
      "  warnings.warn(f\"Can't zip collection {objname}\")\n",
      "/srv/conda/envs/notebook/lib/python3.8/site-packages/coffea/nanoevents/schemas/physlite.py:104: UserWarning: Can't zip collection HLT_e17_lhmedium_tau80_medium1_tracktwoAux\n",
      "  warnings.warn(f\"Can't zip collection {objname}\")\n",
      "/srv/conda/envs/notebook/lib/python3.8/site-packages/coffea/nanoevents/schemas/physlite.py:104: UserWarning: Can't zip collection HLT_e200_etcutAux\n",
      "  warnings.warn(f\"Can't zip collection {objname}\")\n",
      "/srv/conda/envs/notebook/lib/python3.8/site-packages/coffea/nanoevents/schemas/physlite.py:104: UserWarning: Can't zip collection HLT_e22_lhvloose_nod0_e12_lhvloose_nod0_e10_lhvloose_nod0_L1EM20VH_2EM10VH_3EM8VHAux\n",
      "  warnings.warn(f\"Can't zip collection {objname}\")\n",
      "/srv/conda/envs/notebook/lib/python3.8/site-packages/coffea/nanoevents/schemas/physlite.py:104: UserWarning: Can't zip collection HLT_e24_lhmedium_nod0_L1EM20VHI_mu8noL1Aux\n",
      "  warnings.warn(f\"Can't zip collection {objname}\")\n",
      "/srv/conda/envs/notebook/lib/python3.8/site-packages/coffea/nanoevents/schemas/physlite.py:104: UserWarning: Can't zip collection HLT_e24_lhmedium_nod0_ivarloose_tau35_medium1_tracktwoAux\n",
      "  warnings.warn(f\"Can't zip collection {objname}\")\n",
      "/srv/conda/envs/notebook/lib/python3.8/site-packages/coffea/nanoevents/schemas/physlite.py:104: UserWarning: Can't zip collection HLT_e24_lhmedium_nod0_ivarloose_tau35_medium1_tracktwoEFAux\n",
      "  warnings.warn(f\"Can't zip collection {objname}\")\n",
      "/srv/conda/envs/notebook/lib/python3.8/site-packages/coffea/nanoevents/schemas/physlite.py:104: UserWarning: Can't zip collection HLT_e24_lhmedium_nod0_ivarloose_tau35_medium1_tracktwoMVAAux\n",
      "  warnings.warn(f\"Can't zip collection {objname}\")\n",
      "/srv/conda/envs/notebook/lib/python3.8/site-packages/coffea/nanoevents/schemas/physlite.py:104: UserWarning: Can't zip collection HLT_e24_lhmedium_nod0_ivarloose_tau35_mediumRNN_tracktwoMVAAux\n",
      "  warnings.warn(f\"Can't zip collection {objname}\")\n",
      "/srv/conda/envs/notebook/lib/python3.8/site-packages/coffea/nanoevents/schemas/physlite.py:104: UserWarning: Can't zip collection HLT_e24_lhtight_nod0_ivarlooseAux\n",
      "  warnings.warn(f\"Can't zip collection {objname}\")\n",
      "/srv/conda/envs/notebook/lib/python3.8/site-packages/coffea/nanoevents/schemas/physlite.py:104: UserWarning: Can't zip collection HLT_e24_lhvloose_nod0_2e12_lhvloose_nod0_L1EM20VH_3EM10VHAux\n",
      "  warnings.warn(f\"Can't zip collection {objname}\")\n",
      "/srv/conda/envs/notebook/lib/python3.8/site-packages/coffea/nanoevents/schemas/physlite.py:104: UserWarning: Can't zip collection HLT_e26_lhloose_nod0Aux\n",
      "  warnings.warn(f\"Can't zip collection {objname}\")\n",
      "/srv/conda/envs/notebook/lib/python3.8/site-packages/coffea/nanoevents/schemas/physlite.py:104: UserWarning: Can't zip collection HLT_e26_lhloose_nod0_ringerAux\n",
      "  warnings.warn(f\"Can't zip collection {objname}\")\n",
      "/srv/conda/envs/notebook/lib/python3.8/site-packages/coffea/nanoevents/schemas/physlite.py:104: UserWarning: Can't zip collection HLT_e26_lhmedium_nod0_mu8noL1Aux\n",
      "  warnings.warn(f\"Can't zip collection {objname}\")\n",
      "/srv/conda/envs/notebook/lib/python3.8/site-packages/coffea/nanoevents/schemas/physlite.py:104: UserWarning: Can't zip collection HLT_e26_lhtight_cutd0dphideta_ivarlooseAux\n",
      "  warnings.warn(f\"Can't zip collection {objname}\")\n",
      "/srv/conda/envs/notebook/lib/python3.8/site-packages/coffea/nanoevents/schemas/physlite.py:104: UserWarning: Can't zip collection HLT_e26_lhtight_nod0Aux\n",
      "  warnings.warn(f\"Can't zip collection {objname}\")\n",
      "/srv/conda/envs/notebook/lib/python3.8/site-packages/coffea/nanoevents/schemas/physlite.py:104: UserWarning: Can't zip collection HLT_e26_lhtight_nod0_e15_etcut_L1EM7_ZeeAux\n",
      "  warnings.warn(f\"Can't zip collection {objname}\")\n",
      "/srv/conda/envs/notebook/lib/python3.8/site-packages/coffea/nanoevents/schemas/physlite.py:104: UserWarning: Can't zip collection HLT_e26_lhtight_nod0_ivarlooseAux\n",
      "  warnings.warn(f\"Can't zip collection {objname}\")\n",
      "/srv/conda/envs/notebook/lib/python3.8/site-packages/coffea/nanoevents/schemas/physlite.py:104: UserWarning: Can't zip collection HLT_e26_lhtight_nod0_ringer_ivarlooseAux\n",
      "  warnings.warn(f\"Can't zip collection {objname}\")\n",
      "/srv/conda/envs/notebook/lib/python3.8/site-packages/coffea/nanoevents/schemas/physlite.py:104: UserWarning: Can't zip collection HLT_e28_lhmedium_nod0_mu8noL1Aux\n",
      "  warnings.warn(f\"Can't zip collection {objname}\")\n",
      "/srv/conda/envs/notebook/lib/python3.8/site-packages/coffea/nanoevents/schemas/physlite.py:104: UserWarning: Can't zip collection HLT_e28_lhtight_nod0_L1EM22VHIAux\n",
      "  warnings.warn(f\"Can't zip collection {objname}\")\n",
      "/srv/conda/envs/notebook/lib/python3.8/site-packages/coffea/nanoevents/schemas/physlite.py:104: UserWarning: Can't zip collection HLT_e28_lhtight_nod0_e15_etcut_L1EM7_ZeeAux\n",
      "  warnings.warn(f\"Can't zip collection {objname}\")\n",
      "/srv/conda/envs/notebook/lib/python3.8/site-packages/coffea/nanoevents/schemas/physlite.py:104: UserWarning: Can't zip collection HLT_e28_lhtight_nod0_ivarlooseAux\n",
      "  warnings.warn(f\"Can't zip collection {objname}\")\n",
      "/srv/conda/envs/notebook/lib/python3.8/site-packages/coffea/nanoevents/schemas/physlite.py:104: UserWarning: Can't zip collection HLT_e28_lhtight_nod0_noringer_ivarlooseAux\n",
      "  warnings.warn(f\"Can't zip collection {objname}\")\n",
      "/srv/conda/envs/notebook/lib/python3.8/site-packages/coffea/nanoevents/schemas/physlite.py:104: UserWarning: Can't zip collection HLT_e300_etcutAux\n",
      "  warnings.warn(f\"Can't zip collection {objname}\")\n",
      "/srv/conda/envs/notebook/lib/python3.8/site-packages/coffea/nanoevents/schemas/physlite.py:104: UserWarning: Can't zip collection HLT_e60_lhmedium_nod0Aux\n",
      "  warnings.warn(f\"Can't zip collection {objname}\")\n",
      "/srv/conda/envs/notebook/lib/python3.8/site-packages/coffea/nanoevents/schemas/physlite.py:104: UserWarning: Can't zip collection HLT_e60_lhmedium_nod0_L1EM24VHIAux\n",
      "  warnings.warn(f\"Can't zip collection {objname}\")\n",
      "/srv/conda/envs/notebook/lib/python3.8/site-packages/coffea/nanoevents/schemas/physlite.py:104: UserWarning: Can't zip collection HLT_e60_lhmedium_nod0_ringerAux\n",
      "  warnings.warn(f\"Can't zip collection {objname}\")\n",
      "/srv/conda/envs/notebook/lib/python3.8/site-packages/coffea/nanoevents/schemas/physlite.py:104: UserWarning: Can't zip collection HLT_e60_mediumAux\n",
      "  warnings.warn(f\"Can't zip collection {objname}\")\n",
      "/srv/conda/envs/notebook/lib/python3.8/site-packages/coffea/nanoevents/schemas/physlite.py:104: UserWarning: Can't zip collection HLT_e7_lhmedium_nod0_mu24Aux\n",
      "  warnings.warn(f\"Can't zip collection {objname}\")\n",
      "/srv/conda/envs/notebook/lib/python3.8/site-packages/coffea/nanoevents/schemas/physlite.py:104: UserWarning: Can't zip collection HLT_e9_lhvloose_nod0_mu20_mu8noL1Aux\n",
      "  warnings.warn(f\"Can't zip collection {objname}\")\n",
      "/srv/conda/envs/notebook/lib/python3.8/site-packages/coffea/nanoevents/schemas/physlite.py:104: UserWarning: Can't zip collection HLT_e9_lhvloose_nod0_mu20_mu8noL1_L1EM7_MU20Aux\n",
      "  warnings.warn(f\"Can't zip collection {objname}\")\n",
      "/srv/conda/envs/notebook/lib/python3.8/site-packages/coffea/nanoevents/schemas/physlite.py:104: UserWarning: Can't zip collection HLT_g120_looseAux\n",
      "  warnings.warn(f\"Can't zip collection {objname}\")\n",
      "/srv/conda/envs/notebook/lib/python3.8/site-packages/coffea/nanoevents/schemas/physlite.py:104: UserWarning: Can't zip collection HLT_g140_looseAux\n",
      "  warnings.warn(f\"Can't zip collection {objname}\")\n",
      "/srv/conda/envs/notebook/lib/python3.8/site-packages/coffea/nanoevents/schemas/physlite.py:104: UserWarning: Can't zip collection HLT_g140_tightAux\n",
      "  warnings.warn(f\"Can't zip collection {objname}\")\n",
      "/srv/conda/envs/notebook/lib/python3.8/site-packages/coffea/nanoevents/schemas/physlite.py:104: UserWarning: Can't zip collection HLT_g200_etcutAux\n",
      "  warnings.warn(f\"Can't zip collection {objname}\")\n",
      "/srv/conda/envs/notebook/lib/python3.8/site-packages/coffea/nanoevents/schemas/physlite.py:104: UserWarning: Can't zip collection HLT_g200_looseAux\n",
      "  warnings.warn(f\"Can't zip collection {objname}\")\n",
      "/srv/conda/envs/notebook/lib/python3.8/site-packages/coffea/nanoevents/schemas/physlite.py:104: UserWarning: Can't zip collection HLT_g300_etcutAux\n",
      "  warnings.warn(f\"Can't zip collection {objname}\")\n",
      "/srv/conda/envs/notebook/lib/python3.8/site-packages/coffea/nanoevents/schemas/physlite.py:104: UserWarning: Can't zip collection HLT_g300_etcut_L1EM24VHIAux\n",
      "  warnings.warn(f\"Can't zip collection {objname}\")\n",
      "/srv/conda/envs/notebook/lib/python3.8/site-packages/coffea/nanoevents/schemas/physlite.py:104: UserWarning: Can't zip collection HLT_g35_loose_g25_looseAux\n",
      "  warnings.warn(f\"Can't zip collection {objname}\")\n",
      "/srv/conda/envs/notebook/lib/python3.8/site-packages/coffea/nanoevents/schemas/physlite.py:104: UserWarning: Can't zip collection HLT_g35_loose_g25_loose_L12EM20VHAux\n",
      "  warnings.warn(f\"Can't zip collection {objname}\")\n",
      "/srv/conda/envs/notebook/lib/python3.8/site-packages/coffea/nanoevents/schemas/physlite.py:104: UserWarning: Can't zip collection HLT_g35_medium_g25_medium_L12EM20VHAux\n",
      "  warnings.warn(f\"Can't zip collection {objname}\")\n",
      "/srv/conda/envs/notebook/lib/python3.8/site-packages/coffea/nanoevents/schemas/physlite.py:104: UserWarning: Can't zip collection HLT_g35_medium_g25_medium_L1EM7_EMPTYAux\n",
      "  warnings.warn(f\"Can't zip collection {objname}\")\n",
      "/srv/conda/envs/notebook/lib/python3.8/site-packages/coffea/nanoevents/schemas/physlite.py:104: UserWarning: Can't zip collection HLT_g35_medium_g25_medium_L1EM7_UNPAIRED_ISOAux\n",
      "  warnings.warn(f\"Can't zip collection {objname}\")\n",
      "/srv/conda/envs/notebook/lib/python3.8/site-packages/coffea/nanoevents/schemas/physlite.py:104: UserWarning: Can't zip collection HLT_id_cosmicid_L1MU11_EMPTYAux\n",
      "  warnings.warn(f\"Can't zip collection {objname}\")\n",
      "/srv/conda/envs/notebook/lib/python3.8/site-packages/coffea/nanoevents/schemas/physlite.py:104: UserWarning: Can't zip collection HLT_mu11_2mu4noL1_nscan03_L1MU11_2MU6Aux\n",
      "  warnings.warn(f\"Can't zip collection {objname}\")\n",
      "/srv/conda/envs/notebook/lib/python3.8/site-packages/coffea/nanoevents/schemas/physlite.py:104: UserWarning: Can't zip collection HLT_mu11_L1MU10_2mu4noL1_nscan03_L1MU10_2MU6Aux\n",
      "  warnings.warn(f\"Can't zip collection {objname}\")\n",
      "/srv/conda/envs/notebook/lib/python3.8/site-packages/coffea/nanoevents/schemas/physlite.py:104: UserWarning: Can't zip collection HLT_mu11_nomucomb_2mu4noL1_nscan03_L1MU11_2MU6Aux\n",
      "  warnings.warn(f\"Can't zip collection {objname}\")\n",
      "/srv/conda/envs/notebook/lib/python3.8/site-packages/coffea/nanoevents/schemas/physlite.py:104: UserWarning: Can't zip collection HLT_mu13_mu13_idperf_ZmumuAux\n",
      "  warnings.warn(f\"Can't zip collection {objname}\")\n",
      "/srv/conda/envs/notebook/lib/python3.8/site-packages/coffea/nanoevents/schemas/physlite.py:104: UserWarning: Can't zip collection HLT_mu14_iloose_tau25_medium1_tracktwoAux\n",
      "  warnings.warn(f\"Can't zip collection {objname}\")\n",
      "/srv/conda/envs/notebook/lib/python3.8/site-packages/coffea/nanoevents/schemas/physlite.py:104: UserWarning: Can't zip collection HLT_mu14_iloose_tau35_medium1_tracktwoAux\n",
      "  warnings.warn(f\"Can't zip collection {objname}\")\n",
      "/srv/conda/envs/notebook/lib/python3.8/site-packages/coffea/nanoevents/schemas/physlite.py:104: UserWarning: Can't zip collection HLT_mu14_ivarloose_L1MU11_tau35_medium1_tracktwoEF_L1MU11_TAU20IMAux\n",
      "  warnings.warn(f\"Can't zip collection {objname}\")\n",
      "/srv/conda/envs/notebook/lib/python3.8/site-packages/coffea/nanoevents/schemas/physlite.py:104: UserWarning: Can't zip collection HLT_mu14_ivarloose_L1MU11_tau35_medium1_tracktwoMVA_L1MU11_TAU20IMAux\n",
      "  warnings.warn(f\"Can't zip collection {objname}\")\n",
      "/srv/conda/envs/notebook/lib/python3.8/site-packages/coffea/nanoevents/schemas/physlite.py:104: UserWarning: Can't zip collection HLT_mu14_ivarloose_L1MU11_tau35_medium1_tracktwo_L1MU11_TAU20IMAux\n",
      "  warnings.warn(f\"Can't zip collection {objname}\")\n",
      "/srv/conda/envs/notebook/lib/python3.8/site-packages/coffea/nanoevents/schemas/physlite.py:104: UserWarning: Can't zip collection HLT_mu14_ivarloose_L1MU11_tau35_mediumRNN_tracktwoMVA_L1MU11_TAU20IMAux\n",
      "  warnings.warn(f\"Can't zip collection {objname}\")\n",
      "/srv/conda/envs/notebook/lib/python3.8/site-packages/coffea/nanoevents/schemas/physlite.py:104: UserWarning: Can't zip collection HLT_mu14_ivarloose_tau25_medium1_tracktwoAux\n",
      "  warnings.warn(f\"Can't zip collection {objname}\")\n",
      "/srv/conda/envs/notebook/lib/python3.8/site-packages/coffea/nanoevents/schemas/physlite.py:104: UserWarning: Can't zip collection HLT_mu14_ivarloose_tau25_medium1_tracktwoEFAux\n",
      "  warnings.warn(f\"Can't zip collection {objname}\")\n",
      "/srv/conda/envs/notebook/lib/python3.8/site-packages/coffea/nanoevents/schemas/physlite.py:104: UserWarning: Can't zip collection HLT_mu14_ivarloose_tau25_medium1_tracktwoEF_L1DR-MU10TAU12I_TAU12I-J25Aux\n",
      "  warnings.warn(f\"Can't zip collection {objname}\")\n",
      "/srv/conda/envs/notebook/lib/python3.8/site-packages/coffea/nanoevents/schemas/physlite.py:104: UserWarning: Can't zip collection HLT_mu14_ivarloose_tau25_medium1_tracktwoEF_L1MU10_TAU12IM_3J12Aux\n",
      "  warnings.warn(f\"Can't zip collection {objname}\")\n",
      "/srv/conda/envs/notebook/lib/python3.8/site-packages/coffea/nanoevents/schemas/physlite.py:104: UserWarning: Can't zip collection HLT_mu14_ivarloose_tau25_medium1_tracktwoMVA_L1DR-MU10TAU12I_TAU12I-J25Aux\n",
      "  warnings.warn(f\"Can't zip collection {objname}\")\n",
      "/srv/conda/envs/notebook/lib/python3.8/site-packages/coffea/nanoevents/schemas/physlite.py:104: UserWarning: Can't zip collection HLT_mu14_ivarloose_tau25_medium1_tracktwoMVA_L1MU10_TAU12IM_3J12Aux\n",
      "  warnings.warn(f\"Can't zip collection {objname}\")\n",
      "/srv/conda/envs/notebook/lib/python3.8/site-packages/coffea/nanoevents/schemas/physlite.py:104: UserWarning: Can't zip collection HLT_mu14_ivarloose_tau25_medium1_tracktwo_L1DR-MU10TAU12I_TAU12I-J25Aux\n",
      "  warnings.warn(f\"Can't zip collection {objname}\")\n",
      "/srv/conda/envs/notebook/lib/python3.8/site-packages/coffea/nanoevents/schemas/physlite.py:104: UserWarning: Can't zip collection HLT_mu14_ivarloose_tau25_medium1_tracktwo_L1MU10_TAU12IM_3J12Aux\n",
      "  warnings.warn(f\"Can't zip collection {objname}\")\n",
      "/srv/conda/envs/notebook/lib/python3.8/site-packages/coffea/nanoevents/schemas/physlite.py:104: UserWarning: Can't zip collection HLT_mu14_ivarloose_tau25_mediumRNN_tracktwoMVAAux\n",
      "  warnings.warn(f\"Can't zip collection {objname}\")\n",
      "/srv/conda/envs/notebook/lib/python3.8/site-packages/coffea/nanoevents/schemas/physlite.py:104: UserWarning: Can't zip collection HLT_mu14_ivarloose_tau25_mediumRNN_tracktwoMVA_L1DR-MU10TAU12I_TAU12I-J25Aux\n",
      "  warnings.warn(f\"Can't zip collection {objname}\")\n",
      "/srv/conda/envs/notebook/lib/python3.8/site-packages/coffea/nanoevents/schemas/physlite.py:104: UserWarning: Can't zip collection HLT_mu14_ivarloose_tau25_mediumRNN_tracktwoMVA_L1MU10_TAU12IM_3J12Aux\n",
      "  warnings.warn(f\"Can't zip collection {objname}\")\n",
      "/srv/conda/envs/notebook/lib/python3.8/site-packages/coffea/nanoevents/schemas/physlite.py:104: UserWarning: Can't zip collection HLT_mu14_ivarloose_tau35_medium1_tracktwoAux\n",
      "  warnings.warn(f\"Can't zip collection {objname}\")\n",
      "/srv/conda/envs/notebook/lib/python3.8/site-packages/coffea/nanoevents/schemas/physlite.py:104: UserWarning: Can't zip collection HLT_mu14_ivarloose_tau35_medium1_tracktwoEFAux\n",
      "  warnings.warn(f\"Can't zip collection {objname}\")\n",
      "/srv/conda/envs/notebook/lib/python3.8/site-packages/coffea/nanoevents/schemas/physlite.py:104: UserWarning: Can't zip collection HLT_mu14_ivarloose_tau35_medium1_tracktwoEF_L1MU10_TAU20IM_J25_2J20Aux\n",
      "  warnings.warn(f\"Can't zip collection {objname}\")\n",
      "/srv/conda/envs/notebook/lib/python3.8/site-packages/coffea/nanoevents/schemas/physlite.py:104: UserWarning: Can't zip collection HLT_mu14_ivarloose_tau35_medium1_tracktwoMVA_L1MU10_TAU20IM_J25_2J20Aux\n",
      "  warnings.warn(f\"Can't zip collection {objname}\")\n",
      "/srv/conda/envs/notebook/lib/python3.8/site-packages/coffea/nanoevents/schemas/physlite.py:104: UserWarning: Can't zip collection HLT_mu14_ivarloose_tau35_medium1_tracktwo_L1MU10_TAU20IM_J25_2J20Aux\n",
      "  warnings.warn(f\"Can't zip collection {objname}\")\n",
      "/srv/conda/envs/notebook/lib/python3.8/site-packages/coffea/nanoevents/schemas/physlite.py:104: UserWarning: Can't zip collection HLT_mu14_ivarloose_tau35_mediumRNN_tracktwoMVAAux\n",
      "  warnings.warn(f\"Can't zip collection {objname}\")\n",
      "/srv/conda/envs/notebook/lib/python3.8/site-packages/coffea/nanoevents/schemas/physlite.py:104: UserWarning: Can't zip collection HLT_mu14_ivarloose_tau35_mediumRNN_tracktwoMVA_L1MU10_TAU20IM_J25_2J20Aux\n",
      "  warnings.warn(f\"Can't zip collection {objname}\")\n",
      "/srv/conda/envs/notebook/lib/python3.8/site-packages/coffea/nanoevents/schemas/physlite.py:104: UserWarning: Can't zip collection HLT_mu14_tau25_medium1_tracktwoAux\n",
      "  warnings.warn(f\"Can't zip collection {objname}\")\n",
      "/srv/conda/envs/notebook/lib/python3.8/site-packages/coffea/nanoevents/schemas/physlite.py:104: UserWarning: Can't zip collection HLT_mu14_tau35_medium1_tracktwoAux\n",
      "  warnings.warn(f\"Can't zip collection {objname}\")\n",
      "/srv/conda/envs/notebook/lib/python3.8/site-packages/coffea/nanoevents/schemas/physlite.py:104: UserWarning: Can't zip collection HLT_mu20_2mu2noL1_JpsimumuFSAux\n",
      "  warnings.warn(f\"Can't zip collection {objname}\")\n",
      "/srv/conda/envs/notebook/lib/python3.8/site-packages/coffea/nanoevents/schemas/physlite.py:104: UserWarning: Can't zip collection HLT_mu20_2mu4_JpsimumuL2Aux\n",
      "  warnings.warn(f\"Can't zip collection {objname}\")\n",
      "/srv/conda/envs/notebook/lib/python3.8/site-packages/coffea/nanoevents/schemas/physlite.py:104: UserWarning: Can't zip collection HLT_mu20_2mu4noL1Aux\n",
      "  warnings.warn(f\"Can't zip collection {objname}\")\n",
      "/srv/conda/envs/notebook/lib/python3.8/site-packages/coffea/nanoevents/schemas/physlite.py:104: UserWarning: Can't zip collection HLT_mu20_ivarmedium_mu8noL1Aux\n",
      "  warnings.warn(f\"Can't zip collection {objname}\")\n",
      "/srv/conda/envs/notebook/lib/python3.8/site-packages/coffea/nanoevents/schemas/physlite.py:104: UserWarning: Can't zip collection HLT_mu20_msonly_iloosems_mu6noL1_msonly_nscan05_L1MU4_UNPAIRED_ISOAux\n",
      "  warnings.warn(f\"Can't zip collection {objname}\")\n",
      "/srv/conda/envs/notebook/lib/python3.8/site-packages/coffea/nanoevents/schemas/physlite.py:104: UserWarning: Can't zip collection HLT_mu20_msonly_iloosems_mu6noL1_msonly_nscan05_L1MU6_EMPTYAux\n",
      "  warnings.warn(f\"Can't zip collection {objname}\")\n",
      "/srv/conda/envs/notebook/lib/python3.8/site-packages/coffea/nanoevents/schemas/physlite.py:104: UserWarning: Can't zip collection HLT_mu20_msonly_mu10noL1_msonly_nscan05_noCombAux\n",
      "  warnings.warn(f\"Can't zip collection {objname}\")\n",
      "/srv/conda/envs/notebook/lib/python3.8/site-packages/coffea/nanoevents/schemas/physlite.py:104: UserWarning: Can't zip collection HLT_mu20_msonly_mu10noL1_msonly_nscan05_noComb_L1MU4_UNPAIRED_ISOAux\n",
      "  warnings.warn(f\"Can't zip collection {objname}\")\n",
      "/srv/conda/envs/notebook/lib/python3.8/site-packages/coffea/nanoevents/schemas/physlite.py:104: UserWarning: Can't zip collection HLT_mu20_msonly_mu10noL1_msonly_nscan05_noComb_L1MU6_EMPTYAux\n",
      "  warnings.warn(f\"Can't zip collection {objname}\")\n",
      "/srv/conda/envs/notebook/lib/python3.8/site-packages/coffea/nanoevents/schemas/physlite.py:104: UserWarning: Can't zip collection HLT_mu20_msonly_mu15noL1_msonly_nscan05_noCombAux\n",
      "  warnings.warn(f\"Can't zip collection {objname}\")\n",
      "/srv/conda/envs/notebook/lib/python3.8/site-packages/coffea/nanoevents/schemas/physlite.py:104: UserWarning: Can't zip collection HLT_mu20_msonly_mu15noL1_msonly_nscan05_noComb_L1MU4_UNPAIRED_ISOAux\n",
      "  warnings.warn(f\"Can't zip collection {objname}\")\n",
      "/srv/conda/envs/notebook/lib/python3.8/site-packages/coffea/nanoevents/schemas/physlite.py:104: UserWarning: Can't zip collection HLT_mu20_msonly_mu15noL1_msonly_nscan05_noComb_L1MU6_EMPTYAux\n",
      "  warnings.warn(f\"Can't zip collection {objname}\")\n",
      "/srv/conda/envs/notebook/lib/python3.8/site-packages/coffea/nanoevents/schemas/physlite.py:104: UserWarning: Can't zip collection HLT_mu20_msonly_mu6noL1_msonly_nscan05Aux\n",
      "  warnings.warn(f\"Can't zip collection {objname}\")\n",
      "/srv/conda/envs/notebook/lib/python3.8/site-packages/coffea/nanoevents/schemas/physlite.py:104: UserWarning: Can't zip collection HLT_mu20_mu8noL1Aux\n",
      "  warnings.warn(f\"Can't zip collection {objname}\")\n",
      "/srv/conda/envs/notebook/lib/python3.8/site-packages/coffea/nanoevents/schemas/physlite.py:104: UserWarning: Can't zip collection HLT_mu20_nomucomb_mu6noL1_nscan03Aux\n",
      "  warnings.warn(f\"Can't zip collection {objname}\")\n",
      "/srv/conda/envs/notebook/lib/python3.8/site-packages/coffea/nanoevents/schemas/physlite.py:104: UserWarning: Can't zip collection HLT_mu22_mu8noL1Aux\n",
      "  warnings.warn(f\"Can't zip collection {objname}\")\n",
      "/srv/conda/envs/notebook/lib/python3.8/site-packages/coffea/nanoevents/schemas/physlite.py:104: UserWarning: Can't zip collection HLT_mu22_mu8noL1_TagandProbeAux\n",
      "  warnings.warn(f\"Can't zip collection {objname}\")\n",
      "/srv/conda/envs/notebook/lib/python3.8/site-packages/coffea/nanoevents/schemas/physlite.py:104: UserWarning: Can't zip collection HLT_mu24_ilooseAux\n",
      "  warnings.warn(f\"Can't zip collection {objname}\")\n",
      "/srv/conda/envs/notebook/lib/python3.8/site-packages/coffea/nanoevents/schemas/physlite.py:104: UserWarning: Can't zip collection HLT_mu24_imediumAux\n",
      "  warnings.warn(f\"Can't zip collection {objname}\")\n",
      "/srv/conda/envs/notebook/lib/python3.8/site-packages/coffea/nanoevents/schemas/physlite.py:104: UserWarning: Can't zip collection HLT_mu24_ivarlooseAux\n",
      "  warnings.warn(f\"Can't zip collection {objname}\")\n",
      "/srv/conda/envs/notebook/lib/python3.8/site-packages/coffea/nanoevents/schemas/physlite.py:104: UserWarning: Can't zip collection HLT_mu24_ivarmediumAux\n",
      "  warnings.warn(f\"Can't zip collection {objname}\")\n",
      "/srv/conda/envs/notebook/lib/python3.8/site-packages/coffea/nanoevents/schemas/physlite.py:104: UserWarning: Can't zip collection HLT_mu24_mu8noL1Aux\n",
      "  warnings.warn(f\"Can't zip collection {objname}\")\n",
      "/srv/conda/envs/notebook/lib/python3.8/site-packages/coffea/nanoevents/schemas/physlite.py:104: UserWarning: Can't zip collection HLT_mu26_ivarmediumAux\n",
      "  warnings.warn(f\"Can't zip collection {objname}\")\n",
      "/srv/conda/envs/notebook/lib/python3.8/site-packages/coffea/nanoevents/schemas/physlite.py:104: UserWarning: Can't zip collection HLT_mu40Aux\n",
      "  warnings.warn(f\"Can't zip collection {objname}\")\n",
      "/srv/conda/envs/notebook/lib/python3.8/site-packages/coffea/nanoevents/schemas/physlite.py:104: UserWarning: Can't zip collection HLT_mu50Aux\n",
      "  warnings.warn(f\"Can't zip collection {objname}\")\n",
      "/srv/conda/envs/notebook/lib/python3.8/site-packages/coffea/nanoevents/schemas/physlite.py:104: UserWarning: Can't zip collection HLT_mu60Aux\n",
      "  warnings.warn(f\"Can't zip collection {objname}\")\n",
      "/srv/conda/envs/notebook/lib/python3.8/site-packages/coffea/nanoevents/schemas/physlite.py:104: UserWarning: Can't zip collection HLT_mu60_0eta105_msonlyAux\n",
      "  warnings.warn(f\"Can't zip collection {objname}\")\n",
      "/srv/conda/envs/notebook/lib/python3.8/site-packages/coffea/nanoevents/schemas/physlite.py:104: UserWarning: Can't zip collection HLT_mu6_2mu4Aux\n",
      "  warnings.warn(f\"Can't zip collection {objname}\")\n",
      "/srv/conda/envs/notebook/lib/python3.8/site-packages/coffea/nanoevents/schemas/physlite.py:104: UserWarning: Can't zip collection HLT_mu6_dRl1_mu20_msonly_iloosems_mu6noL1_dRl1_msonlyAux\n",
      "  warnings.warn(f\"Can't zip collection {objname}\")\n",
      "/srv/conda/envs/notebook/lib/python3.8/site-packages/coffea/nanoevents/schemas/physlite.py:104: UserWarning: Can't zip collection HLT_mu6_iloose_mu6_11invm24_noosAux\n",
      "  warnings.warn(f\"Can't zip collection {objname}\")\n",
      "/srv/conda/envs/notebook/lib/python3.8/site-packages/coffea/nanoevents/schemas/physlite.py:104: UserWarning: Can't zip collection HLT_mu6_nomucomb_2mu4_nomucomb_L1MU6_3MU4Aux\n",
      "  warnings.warn(f\"Can't zip collection {objname}\")\n",
      "/srv/conda/envs/notebook/lib/python3.8/site-packages/coffea/nanoevents/schemas/physlite.py:104: UserWarning: Can't zip collection HLT_mu80_msonly_3layersECAux\n",
      "  warnings.warn(f\"Can't zip collection {objname}\")\n",
      "/srv/conda/envs/notebook/lib/python3.8/site-packages/coffea/nanoevents/schemas/physlite.py:104: UserWarning: Can't zip collection HLT_tau125_medium1_trackAux\n",
      "  warnings.warn(f\"Can't zip collection {objname}\")\n",
      "/srv/conda/envs/notebook/lib/python3.8/site-packages/coffea/nanoevents/schemas/physlite.py:104: UserWarning: Can't zip collection HLT_tau125_medium1_tracktwoAux\n",
      "  warnings.warn(f\"Can't zip collection {objname}\")\n",
      "/srv/conda/envs/notebook/lib/python3.8/site-packages/coffea/nanoevents/schemas/physlite.py:104: UserWarning: Can't zip collection HLT_tau160_medium1_tracktwoAux\n",
      "  warnings.warn(f\"Can't zip collection {objname}\")\n",
      "/srv/conda/envs/notebook/lib/python3.8/site-packages/coffea/nanoevents/schemas/physlite.py:104: UserWarning: Can't zip collection HLT_tau160_medium1_tracktwoEF_L1TAU100Aux\n",
      "  warnings.warn(f\"Can't zip collection {objname}\")\n",
      "/srv/conda/envs/notebook/lib/python3.8/site-packages/coffea/nanoevents/schemas/physlite.py:104: UserWarning: Can't zip collection HLT_tau160_medium1_tracktwoMVA_L1TAU100Aux\n",
      "  warnings.warn(f\"Can't zip collection {objname}\")\n",
      "/srv/conda/envs/notebook/lib/python3.8/site-packages/coffea/nanoevents/schemas/physlite.py:104: UserWarning: Can't zip collection HLT_tau160_medium1_tracktwo_L1TAU100Aux\n",
      "  warnings.warn(f\"Can't zip collection {objname}\")\n",
      "/srv/conda/envs/notebook/lib/python3.8/site-packages/coffea/nanoevents/schemas/physlite.py:104: UserWarning: Can't zip collection HLT_tau160_mediumRNN_tracktwoMVA_L1TAU100Aux\n",
      "  warnings.warn(f\"Can't zip collection {objname}\")\n",
      "/srv/conda/envs/notebook/lib/python3.8/site-packages/coffea/nanoevents/schemas/physlite.py:104: UserWarning: Can't zip collection HLT_tau35_loose1_tracktwo_tau25_loose1_tracktwoAux\n",
      "  warnings.warn(f\"Can't zip collection {objname}\")\n",
      "/srv/conda/envs/notebook/lib/python3.8/site-packages/coffea/nanoevents/schemas/physlite.py:104: UserWarning: Can't zip collection HLT_tau35_medium1_tracktwoEF_tau25_medium1_tracktwoEF_03dR30_L1DR-TAU20ITAU12I-J25Aux\n",
      "  warnings.warn(f\"Can't zip collection {objname}\")\n",
      "/srv/conda/envs/notebook/lib/python3.8/site-packages/coffea/nanoevents/schemas/physlite.py:104: UserWarning: Can't zip collection HLT_tau35_medium1_tracktwoEF_tau25_medium1_tracktwoEF_L1DR-TAU20ITAU12I-J25Aux\n",
      "  warnings.warn(f\"Can't zip collection {objname}\")\n",
      "/srv/conda/envs/notebook/lib/python3.8/site-packages/coffea/nanoevents/schemas/physlite.py:104: UserWarning: Can't zip collection HLT_tau35_medium1_tracktwoEF_tau25_medium1_tracktwoEF_L1TAU20IM_2TAU12IM_4J12_0ETA23Aux\n",
      "  warnings.warn(f\"Can't zip collection {objname}\")\n",
      "/srv/conda/envs/notebook/lib/python3.8/site-packages/coffea/nanoevents/schemas/physlite.py:104: UserWarning: Can't zip collection HLT_tau35_medium1_tracktwoEF_xe70_L1XE45Aux\n",
      "  warnings.warn(f\"Can't zip collection {objname}\")\n",
      "/srv/conda/envs/notebook/lib/python3.8/site-packages/coffea/nanoevents/schemas/physlite.py:104: UserWarning: Can't zip collection HLT_tau35_medium1_tracktwoMVA_tau25_medium1_tracktwoMVA_03dR30_L1DR-TAU20ITAU12I-J25Aux\n",
      "  warnings.warn(f\"Can't zip collection {objname}\")\n",
      "/srv/conda/envs/notebook/lib/python3.8/site-packages/coffea/nanoevents/schemas/physlite.py:104: UserWarning: Can't zip collection HLT_tau35_medium1_tracktwoMVA_tau25_medium1_tracktwoMVA_L1DR-TAU20ITAU12I-J25Aux\n",
      "  warnings.warn(f\"Can't zip collection {objname}\")\n",
      "/srv/conda/envs/notebook/lib/python3.8/site-packages/coffea/nanoevents/schemas/physlite.py:104: UserWarning: Can't zip collection HLT_tau35_medium1_tracktwoMVA_tau25_medium1_tracktwoMVA_L1TAU20IM_2TAU12IM_4J12_0ETA23Aux\n",
      "  warnings.warn(f\"Can't zip collection {objname}\")\n",
      "/srv/conda/envs/notebook/lib/python3.8/site-packages/coffea/nanoevents/schemas/physlite.py:104: UserWarning: Can't zip collection HLT_tau35_medium1_tracktwoMVA_xe70_L1XE45Aux\n",
      "  warnings.warn(f\"Can't zip collection {objname}\")\n",
      "/srv/conda/envs/notebook/lib/python3.8/site-packages/coffea/nanoevents/schemas/physlite.py:104: UserWarning: Can't zip collection HLT_tau35_medium1_tracktwo_tau25_medium1_tracktwoAux\n",
      "  warnings.warn(f\"Can't zip collection {objname}\")\n",
      "/srv/conda/envs/notebook/lib/python3.8/site-packages/coffea/nanoevents/schemas/physlite.py:104: UserWarning: Can't zip collection HLT_tau35_medium1_tracktwo_tau25_medium1_tracktwo_03dR30_L1DR-TAU20ITAU12I-J25Aux\n",
      "  warnings.warn(f\"Can't zip collection {objname}\")\n",
      "/srv/conda/envs/notebook/lib/python3.8/site-packages/coffea/nanoevents/schemas/physlite.py:104: UserWarning: Can't zip collection HLT_tau35_medium1_tracktwo_tau25_medium1_tracktwo_L1DR-TAU20ITAU12I-J25Aux\n",
      "  warnings.warn(f\"Can't zip collection {objname}\")\n",
      "/srv/conda/envs/notebook/lib/python3.8/site-packages/coffea/nanoevents/schemas/physlite.py:104: UserWarning: Can't zip collection HLT_tau35_medium1_tracktwo_tau25_medium1_tracktwo_L1TAU20IM_2TAU12IMAux\n",
      "  warnings.warn(f\"Can't zip collection {objname}\")\n",
      "/srv/conda/envs/notebook/lib/python3.8/site-packages/coffea/nanoevents/schemas/physlite.py:104: UserWarning: Can't zip collection HLT_tau35_medium1_tracktwo_tau25_medium1_tracktwo_L1TAU20IM_2TAU12IM_4J12Aux\n",
      "  warnings.warn(f\"Can't zip collection {objname}\")\n",
      "/srv/conda/envs/notebook/lib/python3.8/site-packages/coffea/nanoevents/schemas/physlite.py:104: UserWarning: Can't zip collection HLT_tau35_medium1_tracktwo_tau25_medium1_tracktwo_L1TAU20IM_2TAU12IM_4J12_0ETA23Aux\n",
      "  warnings.warn(f\"Can't zip collection {objname}\")\n",
      "/srv/conda/envs/notebook/lib/python3.8/site-packages/coffea/nanoevents/schemas/physlite.py:104: UserWarning: Can't zip collection HLT_tau35_medium1_tracktwo_tau25_medium1_tracktwo_tautsf_L1DR-TAU20ITAU12I-J25Aux\n",
      "  warnings.warn(f\"Can't zip collection {objname}\")\n",
      "/srv/conda/envs/notebook/lib/python3.8/site-packages/coffea/nanoevents/schemas/physlite.py:104: UserWarning: Can't zip collection HLT_tau35_medium1_tracktwo_tau25_medium1_tracktwo_xe50Aux\n",
      "  warnings.warn(f\"Can't zip collection {objname}\")\n",
      "/srv/conda/envs/notebook/lib/python3.8/site-packages/coffea/nanoevents/schemas/physlite.py:104: UserWarning: Can't zip collection HLT_tau35_medium1_tracktwo_xe70_L1XE45Aux\n",
      "  warnings.warn(f\"Can't zip collection {objname}\")\n",
      "/srv/conda/envs/notebook/lib/python3.8/site-packages/coffea/nanoevents/schemas/physlite.py:104: UserWarning: Can't zip collection HLT_tau35_mediumRNN_tracktwoMVA_tau25_mediumRNN_tracktwoMVA_03dR30_L1DR-TAU20ITAU12I-J25Aux\n",
      "  warnings.warn(f\"Can't zip collection {objname}\")\n",
      "/srv/conda/envs/notebook/lib/python3.8/site-packages/coffea/nanoevents/schemas/physlite.py:104: UserWarning: Can't zip collection HLT_tau35_mediumRNN_tracktwoMVA_tau25_mediumRNN_tracktwoMVA_L1DR-TAU20ITAU12I-J25Aux\n",
      "  warnings.warn(f\"Can't zip collection {objname}\")\n",
      "/srv/conda/envs/notebook/lib/python3.8/site-packages/coffea/nanoevents/schemas/physlite.py:104: UserWarning: Can't zip collection HLT_tau35_mediumRNN_tracktwoMVA_tau25_mediumRNN_tracktwoMVA_L1TAU20IM_2TAU12IM_4J12_0ETA23Aux\n",
      "  warnings.warn(f\"Can't zip collection {objname}\")\n",
      "/srv/conda/envs/notebook/lib/python3.8/site-packages/coffea/nanoevents/schemas/physlite.py:104: UserWarning: Can't zip collection HLT_tau35_mediumRNN_tracktwoMVA_xe70_L1XE45Aux\n",
      "  warnings.warn(f\"Can't zip collection {objname}\")\n",
      "/srv/conda/envs/notebook/lib/python3.8/site-packages/coffea/nanoevents/schemas/physlite.py:104: UserWarning: Can't zip collection HLT_tau40_medium1_tracktwoEF_tau35_medium1_tracktwoEFAux\n",
      "  warnings.warn(f\"Can't zip collection {objname}\")\n",
      "/srv/conda/envs/notebook/lib/python3.8/site-packages/coffea/nanoevents/schemas/physlite.py:104: UserWarning: Can't zip collection HLT_tau40_medium1_tracktwoMVA_tau35_medium1_tracktwoMVAAux\n",
      "  warnings.warn(f\"Can't zip collection {objname}\")\n",
      "/srv/conda/envs/notebook/lib/python3.8/site-packages/coffea/nanoevents/schemas/physlite.py:104: UserWarning: Can't zip collection HLT_tau40_medium1_tracktwo_tau35_medium1_tracktwoAux\n",
      "  warnings.warn(f\"Can't zip collection {objname}\")\n",
      "/srv/conda/envs/notebook/lib/python3.8/site-packages/coffea/nanoevents/schemas/physlite.py:104: UserWarning: Can't zip collection HLT_tau40_mediumRNN_tracktwoMVA_tau35_mediumRNN_tracktwoMVAAux\n",
      "  warnings.warn(f\"Can't zip collection {objname}\")\n",
      "/srv/conda/envs/notebook/lib/python3.8/site-packages/coffea/nanoevents/schemas/physlite.py:104: UserWarning: Can't zip collection HLT_tau60_medium1_tracktwoEF_tau25_medium1_tracktwoEF_xe50Aux\n",
      "  warnings.warn(f\"Can't zip collection {objname}\")\n",
      "/srv/conda/envs/notebook/lib/python3.8/site-packages/coffea/nanoevents/schemas/physlite.py:104: UserWarning: Can't zip collection HLT_tau60_medium1_tracktwoMVA_tau25_medium1_tracktwoMVA_xe50Aux\n",
      "  warnings.warn(f\"Can't zip collection {objname}\")\n",
      "/srv/conda/envs/notebook/lib/python3.8/site-packages/coffea/nanoevents/schemas/physlite.py:104: UserWarning: Can't zip collection HLT_tau60_medium1_tracktwo_tau25_medium1_tracktwo_xe50Aux\n",
      "  warnings.warn(f\"Can't zip collection {objname}\")\n",
      "/srv/conda/envs/notebook/lib/python3.8/site-packages/coffea/nanoevents/schemas/physlite.py:104: UserWarning: Can't zip collection HLT_tau60_medium1_tracktwo_tau35_medium1_tracktwoAux\n",
      "  warnings.warn(f\"Can't zip collection {objname}\")\n",
      "/srv/conda/envs/notebook/lib/python3.8/site-packages/coffea/nanoevents/schemas/physlite.py:104: UserWarning: Can't zip collection HLT_tau60_mediumRNN_tracktwoMVA_tau25_mediumRNN_tracktwoMVA_xe50Aux\n",
      "  warnings.warn(f\"Can't zip collection {objname}\")\n",
      "/srv/conda/envs/notebook/lib/python3.8/site-packages/coffea/nanoevents/schemas/physlite.py:104: UserWarning: Can't zip collection HLT_tau80_medium1_tracktwoEF_L1TAU60_tau35_medium1_tracktwoEF_L1TAU12IM_L1TAU60_DR-TAU20ITAU12IAux\n",
      "  warnings.warn(f\"Can't zip collection {objname}\")\n",
      "/srv/conda/envs/notebook/lib/python3.8/site-packages/coffea/nanoevents/schemas/physlite.py:104: UserWarning: Can't zip collection HLT_tau80_medium1_tracktwoEF_L1TAU60_tau60_medium1_tracktwoEF_L1TAU40Aux\n",
      "  warnings.warn(f\"Can't zip collection {objname}\")\n",
      "/srv/conda/envs/notebook/lib/python3.8/site-packages/coffea/nanoevents/schemas/physlite.py:104: UserWarning: Can't zip collection HLT_tau80_medium1_tracktwoMVA_L1TAU60_tau35_medium1_tracktwoMVA_L1TAU12IM_L1TAU60_DR-TAU20ITAU12IAux\n",
      "  warnings.warn(f\"Can't zip collection {objname}\")\n",
      "/srv/conda/envs/notebook/lib/python3.8/site-packages/coffea/nanoevents/schemas/physlite.py:104: UserWarning: Can't zip collection HLT_tau80_medium1_tracktwoMVA_L1TAU60_tau60_medium1_tracktwoMVA_L1TAU40Aux\n",
      "  warnings.warn(f\"Can't zip collection {objname}\")\n",
      "/srv/conda/envs/notebook/lib/python3.8/site-packages/coffea/nanoevents/schemas/physlite.py:104: UserWarning: Can't zip collection HLT_tau80_medium1_tracktwo_L1TAU60Aux\n",
      "  warnings.warn(f\"Can't zip collection {objname}\")\n",
      "/srv/conda/envs/notebook/lib/python3.8/site-packages/coffea/nanoevents/schemas/physlite.py:104: UserWarning: Can't zip collection HLT_tau80_medium1_tracktwo_L1TAU60_tau35_medium1_tracktwo_L1TAU12IM_L1TAU60_DR-TAU20ITAU12IAux\n",
      "  warnings.warn(f\"Can't zip collection {objname}\")\n",
      "/srv/conda/envs/notebook/lib/python3.8/site-packages/coffea/nanoevents/schemas/physlite.py:104: UserWarning: Can't zip collection HLT_tau80_medium1_tracktwo_L1TAU60_tau50_medium1_tracktwo_L1TAU12Aux\n",
      "  warnings.warn(f\"Can't zip collection {objname}\")\n",
      "/srv/conda/envs/notebook/lib/python3.8/site-packages/coffea/nanoevents/schemas/physlite.py:104: UserWarning: Can't zip collection HLT_tau80_medium1_tracktwo_L1TAU60_tau60_medium1_tracktwo_L1TAU40Aux\n",
      "  warnings.warn(f\"Can't zip collection {objname}\")\n",
      "/srv/conda/envs/notebook/lib/python3.8/site-packages/coffea/nanoevents/schemas/physlite.py:104: UserWarning: Can't zip collection HLT_tau80_mediumRNN_tracktwoMVA_L1TAU60_tau35_mediumRNN_tracktwoMVA_L1TAU12IM_L1TAU60_DR-TAU20ITAU12IAux\n",
      "  warnings.warn(f\"Can't zip collection {objname}\")\n",
      "/srv/conda/envs/notebook/lib/python3.8/site-packages/coffea/nanoevents/schemas/physlite.py:104: UserWarning: Can't zip collection HLT_tau80_mediumRNN_tracktwoMVA_L1TAU60_tau60_mediumRNN_tracktwoMVA_L1TAU40Aux\n",
      "  warnings.warn(f\"Can't zip collection {objname}\")\n",
      "/srv/conda/envs/notebook/lib/python3.8/site-packages/coffea/nanoevents/schemas/physlite.py:104: UserWarning: Can't zip collection JetsAux\n",
      "  warnings.warn(f\"Can't zip collection {objname}\")\n",
      "/srv/conda/envs/notebook/lib/python3.8/site-packages/coffea/nanoevents/schemas/physlite.py:104: UserWarning: Can't zip collection LargeRJetsAux\n",
      "  warnings.warn(f\"Can't zip collection {objname}\")\n",
      "/srv/conda/envs/notebook/lib/python3.8/site-packages/coffea/nanoevents/schemas/physlite.py:104: UserWarning: Can't zip collection MuonsAux\n",
      "  warnings.warn(f\"Can't zip collection {objname}\")\n",
      "/srv/conda/envs/notebook/lib/python3.8/site-packages/coffea/nanoevents/schemas/physlite.py:104: UserWarning: Can't zip collection PhotonsAux\n",
      "  warnings.warn(f\"Can't zip collection {objname}\")\n",
      "/srv/conda/envs/notebook/lib/python3.8/site-packages/coffea/nanoevents/schemas/physlite.py:104: UserWarning: Can't zip collection TauJetsAux\n",
      "  warnings.warn(f\"Can't zip collection {objname}\")\n",
      "/srv/conda/envs/notebook/lib/python3.8/site-packages/coffea/nanoevents/schemas/physlite.py:104: UserWarning: Can't zip collection BTagging_AntiKt4EMPFlow_201903Aux\n",
      "  warnings.warn(f\"Can't zip collection {objname}\")\n",
      "/srv/conda/envs/notebook/lib/python3.8/site-packages/coffea/nanoevents/schemas/physlite.py:104: UserWarning: Can't zip collection BornLeptonsAux\n",
      "  warnings.warn(f\"Can't zip collection {objname}\")\n",
      "/srv/conda/envs/notebook/lib/python3.8/site-packages/coffea/nanoevents/schemas/physlite.py:104: UserWarning: Can't zip collection CaloCalTopoClustersAux\n",
      "  warnings.warn(f\"Can't zip collection {objname}\")\n",
      "/srv/conda/envs/notebook/lib/python3.8/site-packages/coffea/nanoevents/schemas/physlite.py:104: UserWarning: Can't zip collection CombinedMuonTrackParticlesAux\n",
      "  warnings.warn(f\"Can't zip collection {objname}\")\n",
      "/srv/conda/envs/notebook/lib/python3.8/site-packages/coffea/nanoevents/schemas/physlite.py:104: UserWarning: Can't zip collection ExtrapolatedMuonTrackParticlesAux\n",
      "  warnings.warn(f\"Can't zip collection {objname}\")\n",
      "/srv/conda/envs/notebook/lib/python3.8/site-packages/coffea/nanoevents/schemas/physlite.py:104: UserWarning: Can't zip collection GSFTrackParticlesAux\n",
      "  warnings.warn(f\"Can't zip collection {objname}\")\n",
      "/srv/conda/envs/notebook/lib/python3.8/site-packages/coffea/nanoevents/schemas/physlite.py:104: UserWarning: Can't zip collection HardScatterParticlesAux\n",
      "  warnings.warn(f\"Can't zip collection {objname}\")\n",
      "/srv/conda/envs/notebook/lib/python3.8/site-packages/coffea/nanoevents/schemas/physlite.py:104: UserWarning: Can't zip collection HardScatterVerticesAux\n",
      "  warnings.warn(f\"Can't zip collection {objname}\")\n",
      "/srv/conda/envs/notebook/lib/python3.8/site-packages/coffea/nanoevents/schemas/physlite.py:104: UserWarning: Can't zip collection InDetTrackParticlesAux\n",
      "  warnings.warn(f\"Can't zip collection {objname}\")\n",
      "/srv/conda/envs/notebook/lib/python3.8/site-packages/coffea/nanoevents/schemas/physlite.py:104: UserWarning: Can't zip collection MET_Core_METAux\n",
      "  warnings.warn(f\"Can't zip collection {objname}\")\n",
      "/srv/conda/envs/notebook/lib/python3.8/site-packages/coffea/nanoevents/schemas/physlite.py:104: UserWarning: Can't zip collection MET_TruthAux\n",
      "  warnings.warn(f\"Can't zip collection {objname}\")\n",
      "/srv/conda/envs/notebook/lib/python3.8/site-packages/coffea/nanoevents/schemas/physlite.py:104: UserWarning: Can't zip collection MuonSpectrometerTrackParticlesAux\n",
      "  warnings.warn(f\"Can't zip collection {objname}\")\n",
      "/srv/conda/envs/notebook/lib/python3.8/site-packages/coffea/nanoevents/schemas/physlite.py:104: UserWarning: Can't zip collection PrimaryVerticesAux\n",
      "  warnings.warn(f\"Can't zip collection {objname}\")\n",
      "/srv/conda/envs/notebook/lib/python3.8/site-packages/coffea/nanoevents/schemas/physlite.py:104: UserWarning: Can't zip collection TruthBSMAux\n",
      "  warnings.warn(f\"Can't zip collection {objname}\")\n",
      "/srv/conda/envs/notebook/lib/python3.8/site-packages/coffea/nanoevents/schemas/physlite.py:104: UserWarning: Can't zip collection TruthBSMWithDecayParticlesAux\n",
      "  warnings.warn(f\"Can't zip collection {objname}\")\n",
      "/srv/conda/envs/notebook/lib/python3.8/site-packages/coffea/nanoevents/schemas/physlite.py:104: UserWarning: Can't zip collection TruthBSMWithDecayVerticesAux\n",
      "  warnings.warn(f\"Can't zip collection {objname}\")\n",
      "/srv/conda/envs/notebook/lib/python3.8/site-packages/coffea/nanoevents/schemas/physlite.py:104: UserWarning: Can't zip collection TruthBosonAux\n",
      "  warnings.warn(f\"Can't zip collection {objname}\")\n",
      "/srv/conda/envs/notebook/lib/python3.8/site-packages/coffea/nanoevents/schemas/physlite.py:104: UserWarning: Can't zip collection TruthBosonsWithDecayParticlesAux\n",
      "  warnings.warn(f\"Can't zip collection {objname}\")\n",
      "/srv/conda/envs/notebook/lib/python3.8/site-packages/coffea/nanoevents/schemas/physlite.py:104: UserWarning: Can't zip collection TruthBosonsWithDecayVerticesAux\n",
      "  warnings.warn(f\"Can't zip collection {objname}\")\n",
      "/srv/conda/envs/notebook/lib/python3.8/site-packages/coffea/nanoevents/schemas/physlite.py:104: UserWarning: Can't zip collection TruthBottomAux\n",
      "  warnings.warn(f\"Can't zip collection {objname}\")\n",
      "/srv/conda/envs/notebook/lib/python3.8/site-packages/coffea/nanoevents/schemas/physlite.py:104: UserWarning: Can't zip collection TruthElectronsAux\n",
      "  warnings.warn(f\"Can't zip collection {objname}\")\n",
      "/srv/conda/envs/notebook/lib/python3.8/site-packages/coffea/nanoevents/schemas/physlite.py:104: UserWarning: Can't zip collection TruthEventsAux\n",
      "  warnings.warn(f\"Can't zip collection {objname}\")\n",
      "/srv/conda/envs/notebook/lib/python3.8/site-packages/coffea/nanoevents/schemas/physlite.py:104: UserWarning: Can't zip collection TruthForwardProtonsAux\n",
      "  warnings.warn(f\"Can't zip collection {objname}\")\n",
      "/srv/conda/envs/notebook/lib/python3.8/site-packages/coffea/nanoevents/schemas/physlite.py:104: UserWarning: Can't zip collection TruthMuonsAux\n",
      "  warnings.warn(f\"Can't zip collection {objname}\")\n",
      "/srv/conda/envs/notebook/lib/python3.8/site-packages/coffea/nanoevents/schemas/physlite.py:104: UserWarning: Can't zip collection TruthNeutrinosAux\n",
      "  warnings.warn(f\"Can't zip collection {objname}\")\n",
      "/srv/conda/envs/notebook/lib/python3.8/site-packages/coffea/nanoevents/schemas/physlite.py:104: UserWarning: Can't zip collection TruthPhotonsAux\n",
      "  warnings.warn(f\"Can't zip collection {objname}\")\n",
      "/srv/conda/envs/notebook/lib/python3.8/site-packages/coffea/nanoevents/schemas/physlite.py:104: UserWarning: Can't zip collection TruthPrimaryVerticesAux\n",
      "  warnings.warn(f\"Can't zip collection {objname}\")\n",
      "/srv/conda/envs/notebook/lib/python3.8/site-packages/coffea/nanoevents/schemas/physlite.py:104: UserWarning: Can't zip collection TruthTausAux\n",
      "  warnings.warn(f\"Can't zip collection {objname}\")\n",
      "/srv/conda/envs/notebook/lib/python3.8/site-packages/coffea/nanoevents/schemas/physlite.py:104: UserWarning: Can't zip collection TruthTopAux\n",
      "  warnings.warn(f\"Can't zip collection {objname}\")\n",
      "/srv/conda/envs/notebook/lib/python3.8/site-packages/coffea/nanoevents/schemas/physlite.py:104: UserWarning: Can't zip collection egammaClustersAux\n",
      "  warnings.warn(f\"Can't zip collection {objname}\")\n"
     ]
    }
   ],
   "source": [
    "factory = NanoEventsFactory.from_root(\n",
    "    \"data/DAOD_PHYSLITE_21.2.108.0.art.pool.root\",\n",
    "    \"CollectionTree\",\n",
    "    schemaclass=PHYSLITESchema\n",
    ")\n",
    "events = factory.events()"
   ]
  },
  {
   "cell_type": "markdown",
   "id": "b711d5ea-82b9-4801-bcba-f83a51c0e9e7",
   "metadata": {},
   "source": [
    "This groups particles and the available properties conveniently under one central `event` array\n",
    "\n",
    "* everything is lazy loading\n",
    "* cross referencing via ElementLinks already implemented for some collections\n",
    "* particles behave as LorentzVectors (can add them, calculate invariant masses and much more)\n",
    "\n",
    "See [my tutorial at the IRIS-HEP AGC tools workshop 2021](https://github.com/nikoladze/agc-tools-workshop-2021-physlite) for more technical details"
   ]
  },
  {
   "cell_type": "code",
   "execution_count": 14,
   "id": "197b42c6-7dd5-4ef8-9027-8e9aecbd6fbc",
   "metadata": {},
   "outputs": [
    {
     "data": {
      "text/plain": [
       "<ElectronArray [[], [], ... Electron], [Electron]] type='40 * var * electron'>"
      ]
     },
     "execution_count": 14,
     "metadata": {},
     "output_type": "execute_result"
    }
   ],
   "source": [
    "events.Electrons"
   ]
  },
  {
   "cell_type": "code",
   "execution_count": 15,
   "id": "8e7cdf33-0d49-43f7-a244-1376884150f4",
   "metadata": {},
   "outputs": [
    {
     "data": {
      "text/plain": [
       "['trackParticleLinks',\n",
       " 'pt',\n",
       " '_eventindex',\n",
       " 'eta',\n",
       " 'phi',\n",
       " 'm',\n",
       " 'charge',\n",
       " 'ptvarcone30_TightTTVA_pt1000',\n",
       " 'ptcone20_TightTTVA_pt1000',\n",
       " 'ptvarcone20_TightTTVA_pt1000',\n",
       " 'ptvarcone30_TightTTVA_pt500',\n",
       " 'ptcone20_TightTTVA_pt500',\n",
       " 'DFCommonElectronsLHLoose',\n",
       " 'topoetcone20',\n",
       " 'ptvarcone20',\n",
       " 'truthOrigin',\n",
       " 'truthParticleLink.m_persKey',\n",
       " 'truthParticleLink.m_persIndex',\n",
       " 'truthType',\n",
       " 'author',\n",
       " 'ptvarcone40',\n",
       " 'caloClusterLinks',\n",
       " 'OQ',\n",
       " 'ambiguityLink.m_persKey',\n",
       " 'ambiguityLink.m_persIndex',\n",
       " 'ambiguityType',\n",
       " 'topoetcone20ptCorrection',\n",
       " 'DFCommonElectronsLHVeryLoose',\n",
       " 'DFCommonElectronsLHVeryLooseIsEMValue',\n",
       " 'DFCommonElectronsLHLooseIsEMValue',\n",
       " 'DFCommonElectronsLHLooseBL',\n",
       " 'DFCommonElectronsLHLooseBLIsEMValue',\n",
       " 'DFCommonElectronsLHMedium',\n",
       " 'DFCommonElectronsLHMediumIsEMValue',\n",
       " 'DFCommonElectronsLHTight',\n",
       " 'DFCommonElectronsLHTightIsEMValue',\n",
       " 'DFCommonElectronsECIDS',\n",
       " 'DFCommonElectronsECIDSResult',\n",
       " 'truthPdgId',\n",
       " 'firstEgMotherTruthType',\n",
       " 'firstEgMotherTruthOrigin',\n",
       " 'firstEgMotherTruthParticleLink.m_persKey',\n",
       " 'firstEgMotherTruthParticleLink.m_persIndex',\n",
       " 'firstEgMotherPdgId']"
      ]
     },
     "execution_count": 15,
     "metadata": {},
     "output_type": "execute_result"
    }
   ],
   "source": [
    "events.Electrons.fields"
   ]
  },
  {
   "cell_type": "code",
   "execution_count": 16,
   "id": "97aebe36-ab05-41df-87b6-f4d78f44be3e",
   "metadata": {},
   "outputs": [
    {
     "data": {
      "text/plain": [
       "<TrackParticleArray [[], [], ... TrackParticle]]] type='40 * var * var * ?trackP...'>"
      ]
     },
     "execution_count": 16,
     "metadata": {},
     "output_type": "execute_result"
    }
   ],
   "source": [
    "events.Electrons.trackParticles"
   ]
  },
  {
   "cell_type": "code",
   "execution_count": 17,
   "id": "182dbf93-e788-43af-89f4-fea097e3194c",
   "metadata": {},
   "outputs": [
    {
     "data": {
      "text/plain": [
       "<Array [[], [], ... [[-8.73, -0.0982]]] type='40 * var * var * ?float32[paramete...'>"
      ]
     },
     "execution_count": 17,
     "metadata": {},
     "output_type": "execute_result"
    }
   ],
   "source": [
    "events.Electrons.trackParticles.z0"
   ]
  },
  {
   "cell_type": "code",
   "execution_count": 18,
   "id": "f698fb19-d255-459a-85ba-5eb7dd8a88be",
   "metadata": {},
   "outputs": [
    {
     "data": {
      "text/plain": [
       "<TrackParticleArray [[], [], ... TrackParticle]]] type='40 * var * var * ?trackP...'>"
      ]
     },
     "execution_count": 18,
     "metadata": {},
     "output_type": "execute_result"
    }
   ],
   "source": [
    "events.Electrons[events.Electrons.pt > 10000].trackParticles"
   ]
  },
  {
   "cell_type": "code",
   "execution_count": 19,
   "id": "3c8a6ce0-d89b-4253-ba11-a6a979ad941c",
   "metadata": {},
   "outputs": [
    {
     "data": {
      "text/plain": [
       "<TruthParticleArray [[[TruthParticle], ... TruthParticle]]] type='40 * truthPart...'>"
      ]
     },
     "execution_count": 19,
     "metadata": {},
     "output_type": "execute_result"
    }
   ],
   "source": [
    "events.TruthElectrons.parents"
   ]
  },
  {
   "cell_type": "code",
   "execution_count": 20,
   "id": "04f96869-ac2e-4c16-b3a0-04efef9ac73c",
   "metadata": {},
   "outputs": [
    {
     "data": {
      "text/plain": [
       "<TruthParticleArray [[[[TruthParticle, ... TruthParticle]]]] type='40 * truthPar...'>"
      ]
     },
     "execution_count": 20,
     "metadata": {},
     "output_type": "execute_result"
    }
   ],
   "source": [
    "events.TruthElectrons.parents.children"
   ]
  },
  {
   "cell_type": "code",
   "execution_count": 21,
   "id": "42739469-b1ff-4842-aaea-39f163416c96",
   "metadata": {},
   "outputs": [
    {
     "data": {
      "text/plain": [
       "<TruthParticleArray [[[[[TruthParticle, ... ] type='40 * truthParticle'>"
      ]
     },
     "execution_count": 21,
     "metadata": {},
     "output_type": "execute_result"
    }
   ],
   "source": [
    "events.TruthElectrons.parents.children.parents"
   ]
  },
  {
   "cell_type": "code",
   "execution_count": 22,
   "id": "b8410153-cd43-4e60-9728-f6576dc2f3d0",
   "metadata": {},
   "outputs": [
    {
     "data": {
      "text/plain": [
       "<Array [[[[[[16, 11, -12, ... -12, 22, 22]]]]]] type='40 * var * var * option[va...'>"
      ]
     },
     "execution_count": 22,
     "metadata": {},
     "output_type": "execute_result"
    }
   ],
   "source": [
    "events.TruthElectrons.parents.children.parents.children.pdgId"
   ]
  },
  {
   "cell_type": "code",
   "execution_count": 23,
   "id": "be845283-8086-4867-9d62-cea7886b04cd",
   "metadata": {},
   "outputs": [
    {
     "data": {
      "text/plain": [
       "6"
      ]
     },
     "execution_count": 23,
     "metadata": {},
     "output_type": "execute_result"
    }
   ],
   "source": [
    "events.TruthElectrons.parents.children.parents.children.pdgId.ndim"
   ]
  },
  {
   "cell_type": "markdown",
   "id": "a3c0fc00-b3d1-453f-8263-6dde5184587c",
   "metadata": {},
   "source": [
    "## Read data via HTTPS from google cloud storage (authentication via rucio)"
   ]
  },
  {
   "cell_type": "markdown",
   "id": "6a862289-18cd-441b-a44b-c6fe7ffc6fe7",
   "metadata": {},
   "source": [
    "*Now we are going to do something a bit weird: instead of importing some utility functions we will directly execute a python file containing them. This is because we later want dask to serialize the functions to send them to the workers (which don't have access to our local directory on the submission node). It's a workaround for interactively developing functions that are sent to dask workers on a dask gateway cluster (which is used here). This issue does not occur in a setting where you have a shared filesystem for all workers.*\n",
    "\n",
    "**Let me know if you know a better approach - one alternative is dask's `upload_file` method, but that has it's own issues**\n",
    "\n",
    "**Note: trying the `UploadFile` worker plugin now, see https://distributed.dask.org/en/latest/plugins.html#built-in-worker-plugins**"
   ]
  },
  {
   "cell_type": "code",
   "execution_count": 24,
   "id": "0a0f8229-3053-451c-bbea-c1c8db34271f",
   "metadata": {},
   "outputs": [],
   "source": [
    "from utils import setup_rucio_and_proxy, get_signed_url, get_signed_url_worker"
   ]
  },
  {
   "cell_type": "markdown",
   "id": "a97f8f03-276b-4583-8d02-db7263681a6a",
   "metadata": {},
   "source": [
    "We will use these functions to authenticate to rucio and get signed urls on google cloud storage (GCS).\n",
    "\n",
    "For that we have to provide a VOMS proxy. To avoid the need for having the grid certificate and the voms tools on this jupyterhub instance we create the voms proxy outside (some machine where we have the voms tools and our grid certificate) and upload it to this notebook:"
   ]
  },
  {
   "cell_type": "code",
   "execution_count": 25,
   "id": "25b42925-4ea8-4a7f-b3a5-d96e58d9c1e4",
   "metadata": {},
   "outputs": [
    {
     "data": {
      "application/vnd.jupyter.widget-view+json": {
       "model_id": "faa202bc21b14aad80b58e2425126ac3",
       "version_major": 2,
       "version_minor": 0
      },
      "text/plain": [
       "FileUpload(value={}, description='Upload')"
      ]
     },
     "metadata": {},
     "output_type": "display_data"
    }
   ],
   "source": [
    "from ipywidgets import FileUpload\n",
    "upload = FileUpload()\n",
    "display(upload)"
   ]
  },
  {
   "cell_type": "markdown",
   "id": "6624494a-16d1-4d6f-9f4e-136aceaeca66",
   "metadata": {},
   "source": [
    "Then we setup the nescessary environment variables (fill in your cern account name):"
   ]
  },
  {
   "cell_type": "code",
   "execution_count": 26,
   "id": "5aaecc2d-774c-48b4-a36b-d1a2a6e12844",
   "metadata": {},
   "outputs": [],
   "source": [
    "setup_rucio_and_proxy(upload.data[-1], rucio_account=\"nihartma\")"
   ]
  },
  {
   "cell_type": "markdown",
   "id": "664e38f1-88f4-4cc5-9994-0b87212ad6b4",
   "metadata": {},
   "source": [
    "Now we should be able to query rucio:"
   ]
  },
  {
   "cell_type": "code",
   "execution_count": 27,
   "id": "77cbe046-c3e4-4f6f-bc20-b880ef5ca7b6",
   "metadata": {},
   "outputs": [
    {
     "name": "stderr",
     "output_type": "stream",
     "text": [
      "/srv/conda/envs/notebook/lib/python3.8/site-packages/urllib3/connectionpool.py:1013: InsecureRequestWarning: Unverified HTTPS request is being made to host 'voatlasrucio-auth-prod.cern.ch'. Adding certificate verification is strongly advised. See: https://urllib3.readthedocs.io/en/latest/advanced-usage.html#ssl-warnings\n",
      "  warnings.warn(\n"
     ]
    }
   ],
   "source": [
    "import rucio.client\n",
    "rucio_client = rucio.client.Client(ca_cert=False)"
   ]
  },
  {
   "cell_type": "markdown",
   "id": "4ea9e554-0bda-40e3-beab-9387bb53905d",
   "metadata": {},
   "source": [
    "Let's get a list of all files in one data period, corresponding to around 10% of the whole Run2 data - around 10TB in total:"
   ]
  },
  {
   "cell_type": "code",
   "execution_count": 28,
   "id": "f9c56a1d-ccaf-4f12-af91-a50aadbc34e8",
   "metadata": {},
   "outputs": [
    {
     "name": "stderr",
     "output_type": "stream",
     "text": [
      "/srv/conda/envs/notebook/lib/python3.8/site-packages/urllib3/connectionpool.py:1013: InsecureRequestWarning: Unverified HTTPS request is being made to host 'voatlasrucio-server-prod.cern.ch'. Adding certificate verification is strongly advised. See: https://urllib3.readthedocs.io/en/latest/advanced-usage.html#ssl-warnings\n",
      "  warnings.warn(\n"
     ]
    }
   ],
   "source": [
    "files = list(rucio_client.list_files(\"data17_13TeV\", \"data17_13TeV.periodK.physics_Main.PhysCont.DAOD_PHYSLITE.grp17_v01_p4309\"))"
   ]
  },
  {
   "cell_type": "code",
   "execution_count": 29,
   "id": "4b637740-e1bf-4fca-b115-8b35c5aab437",
   "metadata": {},
   "outputs": [
    {
     "data": {
      "text/plain": [
       "{'scope': 'data17_13TeV',\n",
       " 'name': 'DAOD_PHYSLITE.22958312._000001.pool.root.1',\n",
       " 'bytes': 339098731,\n",
       " 'adler32': 'ea4a58e1',\n",
       " 'guid': '9182E93759873A4BA6ABC72E1C286873',\n",
       " 'events': 42870}"
      ]
     },
     "execution_count": 29,
     "metadata": {},
     "output_type": "execute_result"
    }
   ],
   "source": [
    "files[0]"
   ]
  },
  {
   "cell_type": "code",
   "execution_count": 30,
   "id": "5606b178-fc6c-465c-878a-9aed678d4de3",
   "metadata": {},
   "outputs": [
    {
     "data": {
      "text/plain": [
       "10.121311471758418"
      ]
     },
     "execution_count": 30,
     "metadata": {},
     "output_type": "execute_result"
    }
   ],
   "source": [
    "sum(file[\"bytes\"] for file in files) / 1024 ** 4"
   ]
  },
  {
   "cell_type": "markdown",
   "id": "06a75ef1-22b0-4469-a530-61374cee93eb",
   "metadata": {},
   "source": [
    "The full Run2 dataset is replicated to GCS. To access it via https we can ask rucio for a signed url. Uproot can directly deal with http(s) urls:"
   ]
  },
  {
   "cell_type": "code",
   "execution_count": 31,
   "id": "c353ee01-b541-49f3-98b3-69ce57542e37",
   "metadata": {},
   "outputs": [
    {
     "name": "stderr",
     "output_type": "stream",
     "text": [
      "/srv/conda/envs/notebook/lib/python3.8/site-packages/urllib3/connectionpool.py:1013: InsecureRequestWarning: Unverified HTTPS request is being made to host 'voatlasrucio-server-prod.cern.ch'. Adding certificate verification is strongly advised. See: https://urllib3.readthedocs.io/en/latest/advanced-usage.html#ssl-warnings\n",
      "  warnings.warn(\n"
     ]
    }
   ],
   "source": [
    "url = get_signed_url(rucio_client, files[0][\"scope\"], files[0][\"name\"])"
   ]
  },
  {
   "cell_type": "code",
   "execution_count": 32,
   "id": "062ade9f-7030-43c7-b3dc-6c9c345cbe8e",
   "metadata": {},
   "outputs": [],
   "source": [
    "f_remote = uproot.open(url)"
   ]
  },
  {
   "cell_type": "code",
   "execution_count": 33,
   "id": "4cfc588b-e751-485d-975f-e1456a041017",
   "metadata": {},
   "outputs": [
    {
     "data": {
      "text/plain": [
       "<Array [[], [], [], [], ... [], [4.81e+03], []] type='42870 * var * float32'>"
      ]
     },
     "execution_count": 33,
     "metadata": {},
     "output_type": "execute_result"
    }
   ],
   "source": [
    "f_remote[\"CollectionTree/AnalysisElectronsAuxDyn.pt\"].array()"
   ]
  },
  {
   "cell_type": "markdown",
   "id": "31b6b9a4-a030-4359-abee-25a77ad5cadd",
   "metadata": {},
   "source": [
    "Some notes on this:\n",
    "\n",
    "* GCS does not support multi-range requests (equivalent to xrootd vector reads), single-range requests are allowed\n",
    "* Single-range requests with the uproot `MultithreadedHTTPSource` are suboptimal\n",
    "* GCS seems fine with a huge number of parallel requests - this can be done with asyncio\n",
    "* However, oftentimes downloading the whole file is still faster async reading of partial chunks (but needs lot's of memory)"
   ]
  },
  {
   "cell_type": "code",
   "execution_count": 34,
   "id": "2c27d263-4406-48bc-a717-0b7114e9cd14",
   "metadata": {},
   "outputs": [],
   "source": [
    "import requests\n",
    "\n",
    "def download(url):\n",
    "    return requests.get(url).content"
   ]
  },
  {
   "cell_type": "code",
   "execution_count": 35,
   "id": "617004cb-6b0b-43ce-9959-71d314094512",
   "metadata": {},
   "outputs": [],
   "source": [
    "data = download(url)"
   ]
  },
  {
   "cell_type": "code",
   "execution_count": 36,
   "id": "e6b98122-3bff-4eb5-843e-71d07ec26354",
   "metadata": {},
   "outputs": [
    {
     "data": {
      "text/plain": [
       "<Array [[], [], [], [], ... [], [4.81e+03], []] type='42870 * var * float32'>"
      ]
     },
     "execution_count": 36,
     "metadata": {},
     "output_type": "execute_result"
    }
   ],
   "source": [
    "import io\n",
    "\n",
    "uproot.open(io.BytesIO(data))[\"CollectionTree/AnalysisElectronsAuxDyn.pt\"].array()"
   ]
  },
  {
   "cell_type": "markdown",
   "id": "b5279025-93c9-4278-9326-d704122d9ba6",
   "metadata": {},
   "source": [
    "I have an experimental implementation for an asyncio HTTPSource for uproot (should probably make a PR for uproot at some point or consider using an interface to fsspec which has a `cat_ranges` method that might be used for this).\n",
    "\n",
    "GCS seems fine with 100 parallel tcp connections (even for each worker on a larger cluster):"
   ]
  },
  {
   "cell_type": "code",
   "execution_count": 37,
   "id": "2d53b818-357a-4ffc-9ec5-816011776b2c",
   "metadata": {},
   "outputs": [],
   "source": [
    "from physlite_experiments.io import AIOHTTPSource\n",
    "\n",
    "class AIOHTTP100Source(AIOHTTPSource):\n",
    "    def __init__(self, *args, **kwargs):\n",
    "        super().__init__(*args, tcp_connection_limit=100, **kwargs)"
   ]
  },
  {
   "cell_type": "code",
   "execution_count": 38,
   "id": "0690236d-ff68-4fea-82bd-621e8e5c4eb9",
   "metadata": {},
   "outputs": [
    {
     "data": {
      "text/plain": [
       "<Array [[], [], [], [], ... [], [4.81e+03], []] type='42870 * var * float32'>"
      ]
     },
     "execution_count": 38,
     "metadata": {},
     "output_type": "execute_result"
    }
   ],
   "source": [
    "uproot.open(url, http_handler=AIOHTTP100Source)[\"CollectionTree/AnalysisElectronsAuxDyn.pt\"].array()"
   ]
  },
  {
   "cell_type": "markdown",
   "id": "77635c1e-613e-454d-95ab-8bb93aa63d0b",
   "metadata": {},
   "source": [
    "## Run an actual analysis with this"
   ]
  },
  {
   "cell_type": "code",
   "execution_count": 51,
   "id": "7ba88f8e-5927-46de-8af7-6f568b3ee1f8",
   "metadata": {},
   "outputs": [],
   "source": [
    "import warnings\n",
    "with warnings.catch_warnings():\n",
    "    warnings.simplefilter(\"ignore\")\n",
    "    factory = NanoEventsFactory.from_root(url, \"CollectionTree\", schemaclass=PHYSLITESchema, uproot_options=dict(http_handler=AIOHTTP100Source))"
   ]
  },
  {
   "cell_type": "code",
   "execution_count": 52,
   "id": "a1cc9d21-a71b-4333-b6a4-2e0f9aa1031c",
   "metadata": {},
   "outputs": [],
   "source": [
    "events = factory.events()"
   ]
  },
  {
   "cell_type": "code",
   "execution_count": 53,
   "id": "00b04b06-42dc-4b7a-af5f-aedb34c746dd",
   "metadata": {},
   "outputs": [
    {
     "data": {
      "text/plain": [
       "<Array [[], [], [], [], ... [[19.8, 24.8]], []] type='42870 * var * var * ?float...'>"
      ]
     },
     "execution_count": 53,
     "metadata": {},
     "output_type": "execute_result"
    }
   ],
   "source": [
    "events.Electrons.trackParticles.z0"
   ]
  },
  {
   "cell_type": "code",
   "execution_count": 54,
   "id": "378781f2-3661-482c-b905-6c1407b924f9",
   "metadata": {},
   "outputs": [],
   "source": [
    "from physlite_experiments.analysis_example import get_obj_sel"
   ]
  },
  {
   "cell_type": "code",
   "execution_count": 55,
   "id": "5bf3ff64-ba7a-4d3e-939f-dd71cb42d614",
   "metadata": {},
   "outputs": [],
   "source": [
    "def run_analysis(events):\n",
    "    events = get_obj_sel(events)\n",
    "    return  {\n",
    "        collection: {\n",
    "            flag : ak.count_nonzero(events[collection][flag])\n",
    "            for flag in [\"baseline\", \"passOR\", \"signal\"]\n",
    "        } for collection in [\"Electrons\", \"Muons\", \"Jets\"]\n",
    "    }"
   ]
  },
  {
   "cell_type": "code",
   "execution_count": 56,
   "id": "3d762f05-18d1-4d86-9c3a-d3a7c70b1194",
   "metadata": {},
   "outputs": [],
   "source": [
    "def merge(results):\n",
    "    out = {\n",
    "        collection: {\n",
    "            flag: 0\n",
    "            for flag in [\"baseline\", \"passOR\", \"signal\"]\n",
    "        } for collection in [\"Electrons\", \"Muons\", \"Jets\"]\n",
    "    }\n",
    "    for result in results:\n",
    "        for collection, flags in result.items():\n",
    "            for flag, count in flags.items():\n",
    "                out[collection][flag] += count\n",
    "    return out"
   ]
  },
  {
   "cell_type": "code",
   "execution_count": 57,
   "id": "65ca48d2-a973-47e1-bc1e-a7bdad459b71",
   "metadata": {},
   "outputs": [
    {
     "name": "stderr",
     "output_type": "stream",
     "text": [
      "/srv/conda/envs/notebook/lib/python3.8/site-packages/aiohttp/client.py:331: ResourceWarning: Unclosed client session <aiohttp.client.ClientSession object at 0x7f539f373ee0>\n",
      "  _warnings.warn(\n",
      "ResourceWarning: Enable tracemalloc to get the object allocation traceback\n",
      "Unclosed client session\n",
      "client_session: <aiohttp.client.ClientSession object at 0x7f539f373ee0>\n",
      "/srv/conda/envs/notebook/lib/python3.8/site-packages/aiohttp/client.py:331: ResourceWarning: Unclosed client session <aiohttp.client.ClientSession object at 0x7f539c238a90>\n",
      "  _warnings.warn(\n",
      "ResourceWarning: Enable tracemalloc to get the object allocation traceback\n",
      "Unclosed client session\n",
      "client_session: <aiohttp.client.ClientSession object at 0x7f539c238a90>\n",
      "/srv/conda/envs/notebook/lib/python3.8/site-packages/awkward/_connect/_numpy.py:195: RuntimeWarning: divide by zero encountered in true_divide\n",
      "  result = getattr(ufunc, method)(\n"
     ]
    },
    {
     "name": "stdout",
     "output_type": "stream",
     "text": [
      "CPU times: user 6.37 s, sys: 623 ms, total: 6.99 s\n",
      "Wall time: 9.46 s\n"
     ]
    }
   ],
   "source": [
    "%%time\n",
    "result = run_analysis(events)"
   ]
  },
  {
   "cell_type": "code",
   "execution_count": 58,
   "id": "414dd451-cd84-4566-bda9-8fc8c1ce9d3c",
   "metadata": {},
   "outputs": [
    {
     "data": {
      "text/plain": [
       "{'Electrons': {'baseline': 5417, 'passOR': 5373, 'signal': 4005},\n",
       " 'Muons': {'baseline': 9740, 'passOR': 7248, 'signal': 5264},\n",
       " 'Jets': {'baseline': 260703, 'passOR': 253124, 'signal': 224775}}"
      ]
     },
     "execution_count": 58,
     "metadata": {},
     "output_type": "execute_result"
    }
   ],
   "source": [
    "result"
   ]
  },
  {
   "cell_type": "markdown",
   "id": "2cc40a49-473c-407e-8b57-e5d3eff4341c",
   "metadata": {},
   "source": [
    "## Run on a dask cluster"
   ]
  },
  {
   "cell_type": "markdown",
   "id": "6cd05797-9ab2-4dd3-86fa-2e186723c4e3",
   "metadata": {},
   "source": [
    "also see Fernandos instructions on https://github.com/gcp4hep/analysis-cluster/wiki/Daskhub-usage"
   ]
  },
  {
   "cell_type": "code",
   "execution_count": 59,
   "id": "d47b1502-a466-4494-9c7d-9c452ad1788c",
   "metadata": {},
   "outputs": [],
   "source": [
    "import warnings"
   ]
  },
  {
   "cell_type": "code",
   "execution_count": 60,
   "id": "56b58450-67c6-4ca8-b44c-035a56856e9f",
   "metadata": {},
   "outputs": [],
   "source": [
    "x509_data = upload.data[-1] # need to extract this such that it can be pickled"
   ]
  },
  {
   "cell_type": "code",
   "execution_count": 61,
   "id": "04cef38d-47f2-48a0-94aa-36b6773b99c6",
   "metadata": {},
   "outputs": [],
   "source": [
    "def job(fileinfo, max_chunksize=50000):\n",
    "    patch_nanoevents()\n",
    "    url = get_signed_url_worker(x509_data, fileinfo[\"scope\"], fileinfo[\"name\"], rucio_account=\"nihartma\", ca_cert=False)\n",
    "    results = []\n",
    "    for start in range(0, fileinfo[\"events\"], max_chunksize):\n",
    "        with warnings.catch_warnings():\n",
    "            warnings.simplefilter(\"ignore\")\n",
    "            # note: for xrootd need a closing routine here\n",
    "            with uproot.open(url, http_handler=AIOHTTP100Source) as f:\n",
    "                num_entries = f[\"CollectionTree\"].num_entries\n",
    "                for start in range(0, num_entries, max_chunksize):\n",
    "                    with warnings.catch_warnings():\n",
    "                        warnings.simplefilter(\"ignore\")\n",
    "                        factory = NanoEventsFactory.from_root(\n",
    "                            f,\n",
    "                            \"CollectionTree\",\n",
    "                            schemaclass=PHYSLITESchema,\n",
    "                            entry_start=start,\n",
    "                            entry_stop=start + max_chunksize\n",
    "                        )\n",
    "                        events = factory.events()\n",
    "                    results.append(run_analysis(events))\n",
    "    return merge(results)"
   ]
  },
  {
   "cell_type": "code",
   "execution_count": 62,
   "id": "142e2b71-567b-4028-99d1-105dacb342d9",
   "metadata": {},
   "outputs": [
    {
     "name": "stderr",
     "output_type": "stream",
     "text": [
      "/srv/conda/envs/notebook/lib/python3.8/site-packages/rucio/client/baseclient.py:966: ResourceWarning: unclosed file <_io.TextIOWrapper name='/tmp/jovyan/.rucio_jovyan/auth_token_for_account_nihartma' mode='r' encoding='UTF-8'>\n",
      "  if not self.__read_token():\n",
      "ResourceWarning: Enable tracemalloc to get the object allocation traceback\n",
      "/srv/conda/envs/notebook/lib/python3.8/site-packages/urllib3/connectionpool.py:1013: InsecureRequestWarning: Unverified HTTPS request is being made to host 'voatlasrucio-server-prod.cern.ch'. Adding certificate verification is strongly advised. See: https://urllib3.readthedocs.io/en/latest/advanced-usage.html#ssl-warnings\n",
      "  warnings.warn(\n",
      "Unclosed client session\n",
      "client_session: <aiohttp.client.ClientSession object at 0x7f53ec2d8a30>\n"
     ]
    },
    {
     "data": {
      "text/plain": [
       "{'Electrons': {'baseline': 5417, 'passOR': 5373, 'signal': 4005},\n",
       " 'Muons': {'baseline': 9740, 'passOR': 7248, 'signal': 5264},\n",
       " 'Jets': {'baseline': 260703, 'passOR': 253124, 'signal': 224775}}"
      ]
     },
     "execution_count": 62,
     "metadata": {},
     "output_type": "execute_result"
    }
   ],
   "source": [
    "job(files[0])"
   ]
  },
  {
   "cell_type": "code",
   "execution_count": 82,
   "id": "24e9915e-c40f-47fa-b98b-ec1bad0049f9",
   "metadata": {},
   "outputs": [],
   "source": [
    "from dask_gateway import GatewayCluster\n",
    "cluster = GatewayCluster(\n",
    "    worker_cores=1,\n",
    "    worker_memory=3.5,\n",
    "    image=\"eu.gcr.io/gke-dev-311213/jupyter-physlite:prod\"\n",
    ")"
   ]
  },
  {
   "cell_type": "code",
   "execution_count": 84,
   "id": "26397a44-bf63-43b4-92bc-282efd20b1ff",
   "metadata": {},
   "outputs": [
    {
     "data": {
      "application/vnd.jupyter.widget-view+json": {
       "model_id": "fc151407317742e4ba8aa8eb4dca1772",
       "version_major": 2,
       "version_minor": 0
      },
      "text/plain": [
       "VBox(children=(HTML(value='<h2>GatewayCluster</h2>'), HBox(children=(HTML(value='\\n<div>\\n<style scoped>\\n    …"
      ]
     },
     "metadata": {},
     "output_type": "display_data"
    }
   ],
   "source": [
    "cluster"
   ]
  },
  {
   "cell_type": "code",
   "execution_count": 72,
   "id": "3384d123-8dc2-4647-aa00-71f9cc397e28",
   "metadata": {},
   "outputs": [],
   "source": [
    "#cluster.shutdown()"
   ]
  },
  {
   "cell_type": "code",
   "execution_count": 92,
   "id": "8d3232b3-5259-4411-87cc-0e71b5761179",
   "metadata": {},
   "outputs": [],
   "source": [
    "client = cluster.get_client()"
   ]
  },
  {
   "cell_type": "code",
   "execution_count": 93,
   "id": "d9596681-ff66-42a8-bf7f-a893ac3486f7",
   "metadata": {},
   "outputs": [
    {
     "data": {
      "text/html": [
       "<table style=\"border: 2px solid white;\">\n",
       "<tr>\n",
       "<td style=\"vertical-align: top; border: 0px solid white\">\n",
       "<h3 style=\"text-align: left;\">Client</h3>\n",
       "<ul style=\"text-align: left; list-style: none; margin: 0; padding: 0;\">\n",
       "  <li><b>Scheduler: </b>gateway://traefik-dhub-dask-gateway.default:80/default.8b38658347d04221a5d8b39ed6897a22</li>\n",
       "  <li><b>Dashboard: </b><a href='/services/dask-gateway/clusters/default.8b38658347d04221a5d8b39ed6897a22/status' target='_blank'>/services/dask-gateway/clusters/default.8b38658347d04221a5d8b39ed6897a22/status</a></li>\n",
       "</ul>\n",
       "</td>\n",
       "<td style=\"vertical-align: top; border: 0px solid white\">\n",
       "<h3 style=\"text-align: left;\">Cluster</h3>\n",
       "<ul style=\"text-align: left; list-style:none; margin: 0; padding: 0;\">\n",
       "  <li><b>Workers: </b>8</li>\n",
       "  <li><b>Cores: </b>8</li>\n",
       "  <li><b>Memory: </b>28.00 GiB</li>\n",
       "</ul>\n",
       "</td>\n",
       "</tr>\n",
       "</table>"
      ],
      "text/plain": [
       "<Client: 'tls://10.64.0.75:8786' processes=8 threads=8, memory=28.00 GiB>"
      ]
     },
     "execution_count": 93,
     "metadata": {},
     "output_type": "execute_result"
    }
   ],
   "source": [
    "client"
   ]
  },
  {
   "cell_type": "code",
   "execution_count": 87,
   "id": "629515bc-573a-474b-9282-216627304c74",
   "metadata": {},
   "outputs": [],
   "source": [
    "cluster.scale(8)"
   ]
  },
  {
   "cell_type": "code",
   "execution_count": 88,
   "id": "ea9937fa-aba3-4446-87e0-25cd1b3c3d09",
   "metadata": {},
   "outputs": [],
   "source": [
    "#cluster.shutdown()"
   ]
  },
  {
   "cell_type": "code",
   "execution_count": 95,
   "id": "86536b41-bce0-4575-88eb-b0f5b3ca2a9a",
   "metadata": {},
   "outputs": [
    {
     "data": {
      "text/plain": [
       "{'tls://10.64.1.2:35937': {'status': 'repeat'},\n",
       " 'tls://10.64.22.2:36015': {'status': 'repeat'},\n",
       " 'tls://10.64.22.3:36041': {'status': 'repeat'},\n",
       " 'tls://10.64.22.4:38403': {'status': 'repeat'},\n",
       " 'tls://10.64.22.5:44027': {'status': 'repeat'},\n",
       " 'tls://10.64.22.6:38733': {'status': 'repeat'},\n",
       " 'tls://10.64.22.7:32855': {'status': 'repeat'},\n",
       " 'tls://10.64.22.8:42067': {'status': 'repeat'}}"
      ]
     },
     "execution_count": 95,
     "metadata": {},
     "output_type": "execute_result"
    }
   ],
   "source": [
    "from distributed.diagnostics.plugin import UploadFile\n",
    "\n",
    "client.register_worker_plugin(UploadFile(\"utils.py\"))"
   ]
  },
  {
   "cell_type": "code",
   "execution_count": 98,
   "id": "f7629d17-744b-4bc9-9c9e-6452488c23a1",
   "metadata": {},
   "outputs": [],
   "source": [
    "fut = client.submit(job, files[1])"
   ]
  },
  {
   "cell_type": "code",
   "execution_count": 99,
   "id": "f5e94264-7a48-4201-a5cd-3b473dfad33e",
   "metadata": {},
   "outputs": [
    {
     "data": {
      "text/plain": [
       "{'Electrons': {'baseline': 4995, 'passOR': 4943, 'signal': 3693},\n",
       " 'Muons': {'baseline': 8935, 'passOR': 6629, 'signal': 4884},\n",
       " 'Jets': {'baseline': 249767, 'passOR': 242808, 'signal': 216391}}"
      ]
     },
     "execution_count": 99,
     "metadata": {},
     "output_type": "execute_result"
    }
   ],
   "source": [
    "fut.result()"
   ]
  },
  {
   "cell_type": "code",
   "execution_count": 100,
   "id": "8c522f97-d959-4e1e-81e4-cbfd74247005",
   "metadata": {},
   "outputs": [],
   "source": [
    "# https://coiled.io/blog/tackling-unmanaged-memory-with-dask/"
   ]
  },
  {
   "cell_type": "code",
   "execution_count": 101,
   "id": "54026497-a4c9-4225-86d0-b9c7db5bffa7",
   "metadata": {},
   "outputs": [],
   "source": [
    "import gc"
   ]
  },
  {
   "cell_type": "code",
   "execution_count": 102,
   "id": "53e1af5e-9d7a-4f58-a81f-f00b15284a2a",
   "metadata": {},
   "outputs": [
    {
     "data": {
      "text/plain": [
       "{'tls://10.64.1.2:36895': 111,\n",
       " 'tls://10.64.22.2:37747': 895,\n",
       " 'tls://10.64.22.3:46513': 100,\n",
       " 'tls://10.64.22.4:35023': 135,\n",
       " 'tls://10.64.22.5:33533': 52,\n",
       " 'tls://10.64.22.6:33743': 52,\n",
       " 'tls://10.64.22.7:41723': 52,\n",
       " 'tls://10.64.22.8:44539': 52}"
      ]
     },
     "execution_count": 102,
     "metadata": {},
     "output_type": "execute_result"
    }
   ],
   "source": [
    "client.run(gc.collect)"
   ]
  },
  {
   "cell_type": "code",
   "execution_count": 103,
   "id": "780f2e09-773b-4462-8ff0-2155deb6d92c",
   "metadata": {},
   "outputs": [
    {
     "data": {
      "text/plain": [
       "{'tls://10.64.1.2:36895': 1,\n",
       " 'tls://10.64.22.2:37747': 1,\n",
       " 'tls://10.64.22.3:46513': 1,\n",
       " 'tls://10.64.22.4:35023': 1,\n",
       " 'tls://10.64.22.5:33533': 1,\n",
       " 'tls://10.64.22.6:33743': 1,\n",
       " 'tls://10.64.22.7:41723': 1,\n",
       " 'tls://10.64.22.8:44539': 1}"
      ]
     },
     "execution_count": 103,
     "metadata": {},
     "output_type": "execute_result"
    }
   ],
   "source": [
    "import ctypes\n",
    "def trim_memory() -> int:\n",
    "    libc = ctypes.CDLL(\"libc.so.6\")\n",
    "    return libc.malloc_trim(0)\n",
    "client.run(trim_memory)"
   ]
  },
  {
   "cell_type": "code",
   "execution_count": 105,
   "id": "5910dca6-4270-4e1c-b43b-8295afaf9760",
   "metadata": {},
   "outputs": [],
   "source": [
    "futures = client.map(job, files[::100][:40])"
   ]
  },
  {
   "cell_type": "code",
   "execution_count": 104,
   "id": "8ee83e5d-707e-489d-a746-9c1844052210",
   "metadata": {},
   "outputs": [
    {
     "data": {
      "text/plain": [
       "{'Electrons': {'baseline': 5417, 'passOR': 5373, 'signal': 4005},\n",
       " 'Muons': {'baseline': 9740, 'passOR': 7248, 'signal': 5264},\n",
       " 'Jets': {'baseline': 260703, 'passOR': 253124, 'signal': 224775}}"
      ]
     },
     "execution_count": 104,
     "metadata": {},
     "output_type": "execute_result"
    }
   ],
   "source": [
    "futures[0].result()"
   ]
  }
 ],
 "metadata": {
  "kernelspec": {
   "display_name": "Python 3 (ipykernel)",
   "language": "python",
   "name": "python3"
  },
  "language_info": {
   "codemirror_mode": {
    "name": "ipython",
    "version": 3
   },
   "file_extension": ".py",
   "mimetype": "text/x-python",
   "name": "python",
   "nbconvert_exporter": "python",
   "pygments_lexer": "ipython3",
   "version": "3.8.10"
  }
 },
 "nbformat": 4,
 "nbformat_minor": 5
}
