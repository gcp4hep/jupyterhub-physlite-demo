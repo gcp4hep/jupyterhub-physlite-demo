{
 "cells": [
  {
   "cell_type": "markdown",
   "id": "1d1a218a-18b9-4356-8bf8-e12e3ed093cf",
   "metadata": {},
   "source": [
    "## Create and manage the cluster"
   ]
  },
  {
   "cell_type": "code",
   "execution_count": null,
   "id": "72318939-22c7-4cc4-8768-2c311dfe6952",
   "metadata": {},
   "outputs": [],
   "source": [
    "from dask_gateway import GatewayCluster\n",
    "cluster = GatewayCluster(\n",
    "    worker_cores=1,\n",
    "    worker_memory=3.5,\n",
    "    image=\"eu.gcr.io/gke-dev-311213/jupyter-physlite:prod\"\n",
    ")"
   ]
  },
  {
   "cell_type": "code",
   "execution_count": null,
   "id": "c2415057-b0d5-4511-9abd-a557ef84a43e",
   "metadata": {},
   "outputs": [],
   "source": [
    "#cluster.scale(256)\n",
    "#cluster.scale(8)"
   ]
  },
  {
   "cell_type": "code",
   "execution_count": null,
   "id": "a0a7355e-51e6-43af-9d79-0f1d80e3e5d0",
   "metadata": {},
   "outputs": [],
   "source": [
    "client = cluster.get_client()"
   ]
  },
  {
   "cell_type": "markdown",
   "id": "78eabd87-cd5d-4de6-bb70-1322411808f7",
   "metadata": {},
   "source": [
    "## Some notes on memory managment\n",
    "\n",
    "Also see\n",
    "\n",
    "* https://coiled.io/blog/tackling-unmanaged-memory-with-dask/\n",
    "* https://distributed.dask.org/en/latest/worker.html#memory-management"
   ]
  },
  {
   "cell_type": "code",
   "execution_count": null,
   "id": "c4dc6468-d964-4116-a9b3-3f7bc0bd6327",
   "metadata": {},
   "outputs": [],
   "source": [
    "import gc\n",
    "\n",
    "client.run(gc.collect)"
   ]
  },
  {
   "cell_type": "code",
   "execution_count": null,
   "id": "cec7cd09-620b-4f72-98aa-8603c641c085",
   "metadata": {},
   "outputs": [],
   "source": [
    "import ctypes\n",
    "\n",
    "def trim_memory() -> int:\n",
    "    libc = ctypes.CDLL(\"libc.so.6\")\n",
    "    return libc.malloc_trim(0)\n",
    "client.run(trim_memory)"
   ]
  }
 ],
 "metadata": {
  "kernelspec": {
   "display_name": "Python 3 (ipykernel)",
   "language": "python",
   "name": "python3"
  },
  "language_info": {
   "codemirror_mode": {
    "name": "ipython",
    "version": 3
   },
   "file_extension": ".py",
   "mimetype": "text/x-python",
   "name": "python",
   "nbconvert_exporter": "python",
   "pygments_lexer": "ipython3",
   "version": "3.8.10"
  }
 },
 "nbformat": 4,
 "nbformat_minor": 5
}
